{
 "cells": [
  {
   "cell_type": "markdown",
   "metadata": {},
   "source": [
    "# News Category Classification"
   ]
  },
  {
   "cell_type": "code",
   "execution_count": 51,
   "metadata": {},
   "outputs": [],
   "source": [
    "from importlib import reload\n",
    "import sys\n",
    "from imp import reload\n",
    "import warnings\n",
    "warnings.filterwarnings('ignore')\n",
    "if sys.version[0] == '2':\n",
    "    reload(sys)\n",
    "    sys.setdefaultencoding(\"utf-8\")"
   ]
  },
  {
   "cell_type": "code",
   "execution_count": 52,
   "metadata": {},
   "outputs": [
    {
     "data": {
      "text/html": [
       "<div>\n",
       "<style scoped>\n",
       "    .dataframe tbody tr th:only-of-type {\n",
       "        vertical-align: middle;\n",
       "    }\n",
       "\n",
       "    .dataframe tbody tr th {\n",
       "        vertical-align: top;\n",
       "    }\n",
       "\n",
       "    .dataframe thead th {\n",
       "        text-align: right;\n",
       "    }\n",
       "</style>\n",
       "<table border=\"1\" class=\"dataframe\">\n",
       "  <thead>\n",
       "    <tr style=\"text-align: right;\">\n",
       "      <th></th>\n",
       "      <th>category</th>\n",
       "      <th>headline</th>\n",
       "      <th>authors</th>\n",
       "      <th>link</th>\n",
       "      <th>short_description</th>\n",
       "      <th>date</th>\n",
       "    </tr>\n",
       "  </thead>\n",
       "  <tbody>\n",
       "    <tr>\n",
       "      <td>0</td>\n",
       "      <td>CRIME</td>\n",
       "      <td>There Were 2 Mass Shootings In Texas Last Week...</td>\n",
       "      <td>Melissa Jeltsen</td>\n",
       "      <td>https://www.huffingtonpost.com/entry/texas-ama...</td>\n",
       "      <td>She left her husband. He killed their children...</td>\n",
       "      <td>2018-05-26</td>\n",
       "    </tr>\n",
       "    <tr>\n",
       "      <td>1</td>\n",
       "      <td>ENTERTAINMENT</td>\n",
       "      <td>Will Smith Joins Diplo And Nicky Jam For The 2...</td>\n",
       "      <td>Andy McDonald</td>\n",
       "      <td>https://www.huffingtonpost.com/entry/will-smit...</td>\n",
       "      <td>Of course it has a song.</td>\n",
       "      <td>2018-05-26</td>\n",
       "    </tr>\n",
       "    <tr>\n",
       "      <td>2</td>\n",
       "      <td>ENTERTAINMENT</td>\n",
       "      <td>Hugh Grant Marries For The First Time At Age 57</td>\n",
       "      <td>Ron Dicker</td>\n",
       "      <td>https://www.huffingtonpost.com/entry/hugh-gran...</td>\n",
       "      <td>The actor and his longtime girlfriend Anna Ebe...</td>\n",
       "      <td>2018-05-26</td>\n",
       "    </tr>\n",
       "    <tr>\n",
       "      <td>3</td>\n",
       "      <td>ENTERTAINMENT</td>\n",
       "      <td>Jim Carrey Blasts 'Castrato' Adam Schiff And D...</td>\n",
       "      <td>Ron Dicker</td>\n",
       "      <td>https://www.huffingtonpost.com/entry/jim-carre...</td>\n",
       "      <td>The actor gives Dems an ass-kicking for not fi...</td>\n",
       "      <td>2018-05-26</td>\n",
       "    </tr>\n",
       "    <tr>\n",
       "      <td>4</td>\n",
       "      <td>ENTERTAINMENT</td>\n",
       "      <td>Julianna Margulies Uses Donald Trump Poop Bags...</td>\n",
       "      <td>Ron Dicker</td>\n",
       "      <td>https://www.huffingtonpost.com/entry/julianna-...</td>\n",
       "      <td>The \"Dietland\" actress said using the bags is ...</td>\n",
       "      <td>2018-05-26</td>\n",
       "    </tr>\n",
       "  </tbody>\n",
       "</table>\n",
       "</div>"
      ],
      "text/plain": [
       "        category                                           headline  \\\n",
       "0          CRIME  There Were 2 Mass Shootings In Texas Last Week...   \n",
       "1  ENTERTAINMENT  Will Smith Joins Diplo And Nicky Jam For The 2...   \n",
       "2  ENTERTAINMENT    Hugh Grant Marries For The First Time At Age 57   \n",
       "3  ENTERTAINMENT  Jim Carrey Blasts 'Castrato' Adam Schiff And D...   \n",
       "4  ENTERTAINMENT  Julianna Margulies Uses Donald Trump Poop Bags...   \n",
       "\n",
       "           authors                                               link  \\\n",
       "0  Melissa Jeltsen  https://www.huffingtonpost.com/entry/texas-ama...   \n",
       "1    Andy McDonald  https://www.huffingtonpost.com/entry/will-smit...   \n",
       "2       Ron Dicker  https://www.huffingtonpost.com/entry/hugh-gran...   \n",
       "3       Ron Dicker  https://www.huffingtonpost.com/entry/jim-carre...   \n",
       "4       Ron Dicker  https://www.huffingtonpost.com/entry/julianna-...   \n",
       "\n",
       "                                   short_description       date  \n",
       "0  She left her husband. He killed their children... 2018-05-26  \n",
       "1                           Of course it has a song. 2018-05-26  \n",
       "2  The actor and his longtime girlfriend Anna Ebe... 2018-05-26  \n",
       "3  The actor gives Dems an ass-kicking for not fi... 2018-05-26  \n",
       "4  The \"Dietland\" actress said using the bags is ... 2018-05-26  "
      ]
     },
     "execution_count": 52,
     "metadata": {},
     "output_type": "execute_result"
    }
   ],
   "source": [
    "import pandas as pd\n",
    "\n",
    "df = pd.read_json('datasets/news.json', lines=True)\n",
    "df.head()"
   ]
  },
  {
   "cell_type": "code",
   "execution_count": 53,
   "metadata": {},
   "outputs": [
    {
     "data": {
      "text/html": [
       "<div>\n",
       "<style scoped>\n",
       "    .dataframe tbody tr th:only-of-type {\n",
       "        vertical-align: middle;\n",
       "    }\n",
       "\n",
       "    .dataframe tbody tr th {\n",
       "        vertical-align: top;\n",
       "    }\n",
       "\n",
       "    .dataframe thead th {\n",
       "        text-align: right;\n",
       "    }\n",
       "</style>\n",
       "<table border=\"1\" class=\"dataframe\">\n",
       "  <thead>\n",
       "    <tr style=\"text-align: right;\">\n",
       "      <th></th>\n",
       "      <th>category</th>\n",
       "      <th>headline</th>\n",
       "      <th>short_description</th>\n",
       "    </tr>\n",
       "  </thead>\n",
       "  <tbody>\n",
       "    <tr>\n",
       "      <td>0</td>\n",
       "      <td>CRIME</td>\n",
       "      <td>There Were 2 Mass Shootings In Texas Last Week...</td>\n",
       "      <td>She left her husband. He killed their children...</td>\n",
       "    </tr>\n",
       "    <tr>\n",
       "      <td>1</td>\n",
       "      <td>ENTERTAINMENT</td>\n",
       "      <td>Will Smith Joins Diplo And Nicky Jam For The 2...</td>\n",
       "      <td>Of course it has a song.</td>\n",
       "    </tr>\n",
       "    <tr>\n",
       "      <td>2</td>\n",
       "      <td>ENTERTAINMENT</td>\n",
       "      <td>Hugh Grant Marries For The First Time At Age 57</td>\n",
       "      <td>The actor and his longtime girlfriend Anna Ebe...</td>\n",
       "    </tr>\n",
       "    <tr>\n",
       "      <td>3</td>\n",
       "      <td>ENTERTAINMENT</td>\n",
       "      <td>Jim Carrey Blasts 'Castrato' Adam Schiff And D...</td>\n",
       "      <td>The actor gives Dems an ass-kicking for not fi...</td>\n",
       "    </tr>\n",
       "    <tr>\n",
       "      <td>4</td>\n",
       "      <td>ENTERTAINMENT</td>\n",
       "      <td>Julianna Margulies Uses Donald Trump Poop Bags...</td>\n",
       "      <td>The \"Dietland\" actress said using the bags is ...</td>\n",
       "    </tr>\n",
       "  </tbody>\n",
       "</table>\n",
       "</div>"
      ],
      "text/plain": [
       "        category                                           headline  \\\n",
       "0          CRIME  There Were 2 Mass Shootings In Texas Last Week...   \n",
       "1  ENTERTAINMENT  Will Smith Joins Diplo And Nicky Jam For The 2...   \n",
       "2  ENTERTAINMENT    Hugh Grant Marries For The First Time At Age 57   \n",
       "3  ENTERTAINMENT  Jim Carrey Blasts 'Castrato' Adam Schiff And D...   \n",
       "4  ENTERTAINMENT  Julianna Margulies Uses Donald Trump Poop Bags...   \n",
       "\n",
       "                                   short_description  \n",
       "0  She left her husband. He killed their children...  \n",
       "1                           Of course it has a song.  \n",
       "2  The actor and his longtime girlfriend Anna Ebe...  \n",
       "3  The actor gives Dems an ass-kicking for not fi...  \n",
       "4  The \"Dietland\" actress said using the bags is ...  "
      ]
     },
     "execution_count": 53,
     "metadata": {},
     "output_type": "execute_result"
    }
   ],
   "source": [
    "df = df.drop(['authors', 'link', 'date'], axis=1)\n",
    "df.head()"
   ]
  },
  {
   "cell_type": "code",
   "execution_count": 54,
   "metadata": {},
   "outputs": [
    {
     "data": {
      "text/html": [
       "<div>\n",
       "<style scoped>\n",
       "    .dataframe tbody tr th:only-of-type {\n",
       "        vertical-align: middle;\n",
       "    }\n",
       "\n",
       "    .dataframe tbody tr th {\n",
       "        vertical-align: top;\n",
       "    }\n",
       "\n",
       "    .dataframe thead th {\n",
       "        text-align: right;\n",
       "    }\n",
       "</style>\n",
       "<table border=\"1\" class=\"dataframe\">\n",
       "  <thead>\n",
       "    <tr style=\"text-align: right;\">\n",
       "      <th></th>\n",
       "      <th>category</th>\n",
       "      <th>headline</th>\n",
       "      <th>short_description</th>\n",
       "      <th>information</th>\n",
       "    </tr>\n",
       "  </thead>\n",
       "  <tbody>\n",
       "    <tr>\n",
       "      <td>0</td>\n",
       "      <td>CRIME</td>\n",
       "      <td>There Were 2 Mass Shootings In Texas Last Week...</td>\n",
       "      <td>She left her husband. He killed their children...</td>\n",
       "      <td>There Were 2 Mass Shootings In Texas Last Week...</td>\n",
       "    </tr>\n",
       "    <tr>\n",
       "      <td>1</td>\n",
       "      <td>ENTERTAINMENT</td>\n",
       "      <td>Will Smith Joins Diplo And Nicky Jam For The 2...</td>\n",
       "      <td>Of course it has a song.</td>\n",
       "      <td>Will Smith Joins Diplo And Nicky Jam For The 2...</td>\n",
       "    </tr>\n",
       "    <tr>\n",
       "      <td>2</td>\n",
       "      <td>ENTERTAINMENT</td>\n",
       "      <td>Hugh Grant Marries For The First Time At Age 57</td>\n",
       "      <td>The actor and his longtime girlfriend Anna Ebe...</td>\n",
       "      <td>Hugh Grant Marries For The First Time At Age 5...</td>\n",
       "    </tr>\n",
       "    <tr>\n",
       "      <td>3</td>\n",
       "      <td>ENTERTAINMENT</td>\n",
       "      <td>Jim Carrey Blasts 'Castrato' Adam Schiff And D...</td>\n",
       "      <td>The actor gives Dems an ass-kicking for not fi...</td>\n",
       "      <td>Jim Carrey Blasts 'Castrato' Adam Schiff And D...</td>\n",
       "    </tr>\n",
       "    <tr>\n",
       "      <td>4</td>\n",
       "      <td>ENTERTAINMENT</td>\n",
       "      <td>Julianna Margulies Uses Donald Trump Poop Bags...</td>\n",
       "      <td>The \"Dietland\" actress said using the bags is ...</td>\n",
       "      <td>Julianna Margulies Uses Donald Trump Poop Bags...</td>\n",
       "    </tr>\n",
       "  </tbody>\n",
       "</table>\n",
       "</div>"
      ],
      "text/plain": [
       "        category                                           headline  \\\n",
       "0          CRIME  There Were 2 Mass Shootings In Texas Last Week...   \n",
       "1  ENTERTAINMENT  Will Smith Joins Diplo And Nicky Jam For The 2...   \n",
       "2  ENTERTAINMENT    Hugh Grant Marries For The First Time At Age 57   \n",
       "3  ENTERTAINMENT  Jim Carrey Blasts 'Castrato' Adam Schiff And D...   \n",
       "4  ENTERTAINMENT  Julianna Margulies Uses Donald Trump Poop Bags...   \n",
       "\n",
       "                                   short_description  \\\n",
       "0  She left her husband. He killed their children...   \n",
       "1                           Of course it has a song.   \n",
       "2  The actor and his longtime girlfriend Anna Ebe...   \n",
       "3  The actor gives Dems an ass-kicking for not fi...   \n",
       "4  The \"Dietland\" actress said using the bags is ...   \n",
       "\n",
       "                                         information  \n",
       "0  There Were 2 Mass Shootings In Texas Last Week...  \n",
       "1  Will Smith Joins Diplo And Nicky Jam For The 2...  \n",
       "2  Hugh Grant Marries For The First Time At Age 5...  \n",
       "3  Jim Carrey Blasts 'Castrato' Adam Schiff And D...  \n",
       "4  Julianna Margulies Uses Donald Trump Poop Bags...  "
      ]
     },
     "execution_count": 54,
     "metadata": {},
     "output_type": "execute_result"
    }
   ],
   "source": [
    "df['information'] = df[['headline', 'short_description']].apply(lambda x: ' '.join(x), axis=1)\n",
    "df.head()"
   ]
  },
  {
   "cell_type": "code",
   "execution_count": 55,
   "metadata": {},
   "outputs": [],
   "source": [
    "news = df\n",
    "news.to_csv(r'datasets/news.csv', index=False)"
   ]
  },
  {
   "cell_type": "code",
   "execution_count": 56,
   "metadata": {},
   "outputs": [
    {
     "data": {
      "text/html": [
       "<div>\n",
       "<style scoped>\n",
       "    .dataframe tbody tr th:only-of-type {\n",
       "        vertical-align: middle;\n",
       "    }\n",
       "\n",
       "    .dataframe tbody tr th {\n",
       "        vertical-align: top;\n",
       "    }\n",
       "\n",
       "    .dataframe thead th {\n",
       "        text-align: right;\n",
       "    }\n",
       "</style>\n",
       "<table border=\"1\" class=\"dataframe\">\n",
       "  <thead>\n",
       "    <tr style=\"text-align: right;\">\n",
       "      <th></th>\n",
       "      <th>category</th>\n",
       "      <th>headline</th>\n",
       "      <th>short_description</th>\n",
       "      <th>information</th>\n",
       "    </tr>\n",
       "  </thead>\n",
       "  <tbody>\n",
       "    <tr>\n",
       "      <td>0</td>\n",
       "      <td>CRIME</td>\n",
       "      <td>There Were 2 Mass Shootings In Texas Last Week...</td>\n",
       "      <td>She left her husband. He killed their children...</td>\n",
       "      <td>There Were 2 Mass Shootings In Texas Last Week...</td>\n",
       "    </tr>\n",
       "    <tr>\n",
       "      <td>1</td>\n",
       "      <td>ENTERTAINMENT</td>\n",
       "      <td>Will Smith Joins Diplo And Nicky Jam For The 2...</td>\n",
       "      <td>Of course it has a song.</td>\n",
       "      <td>Will Smith Joins Diplo And Nicky Jam For The 2...</td>\n",
       "    </tr>\n",
       "    <tr>\n",
       "      <td>2</td>\n",
       "      <td>ENTERTAINMENT</td>\n",
       "      <td>Hugh Grant Marries For The First Time At Age 57</td>\n",
       "      <td>The actor and his longtime girlfriend Anna Ebe...</td>\n",
       "      <td>Hugh Grant Marries For The First Time At Age 5...</td>\n",
       "    </tr>\n",
       "    <tr>\n",
       "      <td>3</td>\n",
       "      <td>ENTERTAINMENT</td>\n",
       "      <td>Jim Carrey Blasts 'Castrato' Adam Schiff And D...</td>\n",
       "      <td>The actor gives Dems an ass-kicking for not fi...</td>\n",
       "      <td>Jim Carrey Blasts 'Castrato' Adam Schiff And D...</td>\n",
       "    </tr>\n",
       "    <tr>\n",
       "      <td>4</td>\n",
       "      <td>ENTERTAINMENT</td>\n",
       "      <td>Julianna Margulies Uses Donald Trump Poop Bags...</td>\n",
       "      <td>The \"Dietland\" actress said using the bags is ...</td>\n",
       "      <td>Julianna Margulies Uses Donald Trump Poop Bags...</td>\n",
       "    </tr>\n",
       "  </tbody>\n",
       "</table>\n",
       "</div>"
      ],
      "text/plain": [
       "        category                                           headline  \\\n",
       "0          CRIME  There Were 2 Mass Shootings In Texas Last Week...   \n",
       "1  ENTERTAINMENT  Will Smith Joins Diplo And Nicky Jam For The 2...   \n",
       "2  ENTERTAINMENT    Hugh Grant Marries For The First Time At Age 57   \n",
       "3  ENTERTAINMENT  Jim Carrey Blasts 'Castrato' Adam Schiff And D...   \n",
       "4  ENTERTAINMENT  Julianna Margulies Uses Donald Trump Poop Bags...   \n",
       "\n",
       "                                   short_description  \\\n",
       "0  She left her husband. He killed their children...   \n",
       "1                           Of course it has a song.   \n",
       "2  The actor and his longtime girlfriend Anna Ebe...   \n",
       "3  The actor gives Dems an ass-kicking for not fi...   \n",
       "4  The \"Dietland\" actress said using the bags is ...   \n",
       "\n",
       "                                         information  \n",
       "0  There Were 2 Mass Shootings In Texas Last Week...  \n",
       "1  Will Smith Joins Diplo And Nicky Jam For The 2...  \n",
       "2  Hugh Grant Marries For The First Time At Age 5...  \n",
       "3  Jim Carrey Blasts 'Castrato' Adam Schiff And D...  \n",
       "4  Julianna Margulies Uses Donald Trump Poop Bags...  "
      ]
     },
     "execution_count": 56,
     "metadata": {},
     "output_type": "execute_result"
    }
   ],
   "source": [
    "news.head()"
   ]
  },
  {
   "cell_type": "code",
   "execution_count": 57,
   "metadata": {},
   "outputs": [
    {
     "data": {
      "text/html": [
       "<div>\n",
       "<style scoped>\n",
       "    .dataframe tbody tr th:only-of-type {\n",
       "        vertical-align: middle;\n",
       "    }\n",
       "\n",
       "    .dataframe tbody tr th {\n",
       "        vertical-align: top;\n",
       "    }\n",
       "\n",
       "    .dataframe thead th {\n",
       "        text-align: right;\n",
       "    }\n",
       "</style>\n",
       "<table border=\"1\" class=\"dataframe\">\n",
       "  <thead>\n",
       "    <tr style=\"text-align: right;\">\n",
       "      <th></th>\n",
       "      <th>category</th>\n",
       "      <th>information</th>\n",
       "    </tr>\n",
       "  </thead>\n",
       "  <tbody>\n",
       "    <tr>\n",
       "      <td>0</td>\n",
       "      <td>CRIME</td>\n",
       "      <td>There Were 2 Mass Shootings In Texas Last Week...</td>\n",
       "    </tr>\n",
       "    <tr>\n",
       "      <td>1</td>\n",
       "      <td>ENTERTAINMENT</td>\n",
       "      <td>Will Smith Joins Diplo And Nicky Jam For The 2...</td>\n",
       "    </tr>\n",
       "    <tr>\n",
       "      <td>2</td>\n",
       "      <td>ENTERTAINMENT</td>\n",
       "      <td>Hugh Grant Marries For The First Time At Age 5...</td>\n",
       "    </tr>\n",
       "    <tr>\n",
       "      <td>3</td>\n",
       "      <td>ENTERTAINMENT</td>\n",
       "      <td>Jim Carrey Blasts 'Castrato' Adam Schiff And D...</td>\n",
       "    </tr>\n",
       "    <tr>\n",
       "      <td>4</td>\n",
       "      <td>ENTERTAINMENT</td>\n",
       "      <td>Julianna Margulies Uses Donald Trump Poop Bags...</td>\n",
       "    </tr>\n",
       "  </tbody>\n",
       "</table>\n",
       "</div>"
      ],
      "text/plain": [
       "        category                                        information\n",
       "0          CRIME  There Were 2 Mass Shootings In Texas Last Week...\n",
       "1  ENTERTAINMENT  Will Smith Joins Diplo And Nicky Jam For The 2...\n",
       "2  ENTERTAINMENT  Hugh Grant Marries For The First Time At Age 5...\n",
       "3  ENTERTAINMENT  Jim Carrey Blasts 'Castrato' Adam Schiff And D...\n",
       "4  ENTERTAINMENT  Julianna Margulies Uses Donald Trump Poop Bags..."
      ]
     },
     "execution_count": 57,
     "metadata": {},
     "output_type": "execute_result"
    }
   ],
   "source": [
    "df = df.drop(['headline', 'short_description'], axis=1)\n",
    "df.head()"
   ]
  },
  {
   "cell_type": "code",
   "execution_count": 58,
   "metadata": {},
   "outputs": [
    {
     "data": {
      "text/plain": [
       "category\n",
       "POLITICS          32739\n",
       "WELLNESS          17827\n",
       "ENTERTAINMENT     16058\n",
       "TRAVEL             9887\n",
       "STYLE & BEAUTY     9649\n",
       "PARENTING          8677\n",
       "HEALTHY LIVING     6694\n",
       "QUEER VOICES       6314\n",
       "FOOD & DRINK       6226\n",
       "BUSINESS           5937\n",
       "COMEDY             5175\n",
       "SPORTS             4884\n",
       "BLACK VOICES       4528\n",
       "HOME & LIVING      4195\n",
       "PARENTS            3955\n",
       "THE WORLDPOST      3664\n",
       "WEDDINGS           3651\n",
       "WOMEN              3490\n",
       "IMPACT             3459\n",
       "DIVORCE            3426\n",
       "CRIME              3405\n",
       "MEDIA              2815\n",
       "WEIRD NEWS         2670\n",
       "GREEN              2622\n",
       "WORLDPOST          2579\n",
       "RELIGION           2556\n",
       "STYLE              2254\n",
       "SCIENCE            2178\n",
       "WORLD NEWS         2177\n",
       "TASTE              2096\n",
       "TECH               2082\n",
       "MONEY              1707\n",
       "ARTS               1509\n",
       "FIFTY              1401\n",
       "GOOD NEWS          1398\n",
       "ARTS & CULTURE     1339\n",
       "ENVIRONMENT        1323\n",
       "COLLEGE            1144\n",
       "LATINO VOICES      1129\n",
       "CULTURE & ARTS     1030\n",
       "EDUCATION          1004\n",
       "dtype: int64"
      ]
     },
     "execution_count": 58,
     "metadata": {},
     "output_type": "execute_result"
    }
   ],
   "source": [
    "categories = df.groupby('category').size().sort_values(ascending=False)\n",
    "categories"
   ]
  },
  {
   "cell_type": "code",
   "execution_count": 59,
   "metadata": {},
   "outputs": [],
   "source": [
    "from sklearn.model_selection import train_test_split\n",
    "\n",
    "TOP_N_CATEGORIES = 15\n",
    "\n",
    "df = df[df.category.apply(lambda x: x in categories.index[:TOP_N_CATEGORIES]) &\\\n",
    "            (df.information.apply(len) > 0)]\n",
    "df_train, df_test = train_test_split(df, test_size=.1, random_state=31)"
   ]
  },
  {
   "cell_type": "code",
   "execution_count": 60,
   "metadata": {},
   "outputs": [
    {
     "data": {
      "text/html": [
       "<div>\n",
       "<style scoped>\n",
       "    .dataframe tbody tr th:only-of-type {\n",
       "        vertical-align: middle;\n",
       "    }\n",
       "\n",
       "    .dataframe tbody tr th {\n",
       "        vertical-align: top;\n",
       "    }\n",
       "\n",
       "    .dataframe thead th {\n",
       "        text-align: right;\n",
       "    }\n",
       "</style>\n",
       "<table border=\"1\" class=\"dataframe\">\n",
       "  <thead>\n",
       "    <tr style=\"text-align: right;\">\n",
       "      <th></th>\n",
       "      <th>category</th>\n",
       "      <th>information</th>\n",
       "    </tr>\n",
       "  </thead>\n",
       "  <tbody>\n",
       "    <tr>\n",
       "      <td>126261</td>\n",
       "      <td>TRAVEL</td>\n",
       "      <td>10 Reasons You Should ALWAYS Ask For The Windo...</td>\n",
       "    </tr>\n",
       "    <tr>\n",
       "      <td>105073</td>\n",
       "      <td>ENTERTAINMENT</td>\n",
       "      <td>Nicki Minaj's New Song Reveals She Almost Had ...</td>\n",
       "    </tr>\n",
       "    <tr>\n",
       "      <td>22595</td>\n",
       "      <td>POLITICS</td>\n",
       "      <td>GOP Donor Who Reportedly Sought Clinton Emails...</td>\n",
       "    </tr>\n",
       "    <tr>\n",
       "      <td>78861</td>\n",
       "      <td>ENTERTAINMENT</td>\n",
       "      <td>Aaron Sorkin Slams Sony Hack As 'Terrorism' Th...</td>\n",
       "    </tr>\n",
       "    <tr>\n",
       "      <td>50575</td>\n",
       "      <td>BLACK VOICES</td>\n",
       "      <td>Bishop Eddie Long On Weight Loss: I Stopped Ea...</td>\n",
       "    </tr>\n",
       "  </tbody>\n",
       "</table>\n",
       "</div>"
      ],
      "text/plain": [
       "             category                                        information\n",
       "126261         TRAVEL  10 Reasons You Should ALWAYS Ask For The Windo...\n",
       "105073  ENTERTAINMENT  Nicki Minaj's New Song Reveals She Almost Had ...\n",
       "22595        POLITICS  GOP Donor Who Reportedly Sought Clinton Emails...\n",
       "78861   ENTERTAINMENT  Aaron Sorkin Slams Sony Hack As 'Terrorism' Th...\n",
       "50575    BLACK VOICES  Bishop Eddie Long On Weight Loss: I Stopped Ea..."
      ]
     },
     "execution_count": 60,
     "metadata": {},
     "output_type": "execute_result"
    }
   ],
   "source": [
    "df_train.head()"
   ]
  },
  {
   "cell_type": "code",
   "execution_count": 61,
   "metadata": {},
   "outputs": [],
   "source": [
    "MAX_SEQUENCE_LEN = 25\n",
    "UNK = 'UNK'\n",
    "PAD = 'PAD'\n",
    "\n",
    "def text_to_id_list(text, dictionary):\n",
    "    return [dictionary.token2id.get(tok, dictionary.token2id.get(UNK))\n",
    "            for tok in text_to_tokens(text)]\n",
    "\n",
    "def texts_to_input(texts, dictionary):\n",
    "    return sequence.pad_sequences(\n",
    "        list(map(lambda x: text_to_id_list(x, dictionary), texts)), maxlen=MAX_SEQUENCE_LEN,\n",
    "        padding='post', truncating='post', value=dictionary.token2id.get(PAD))\n",
    "\n",
    "def text_to_tokens(text):\n",
    "    return [tok.text.lower() for tok in nlp.tokenizer(text)\n",
    "            if not (tok.is_punct or tok.is_quote)]\n",
    "\n",
    "def build_dictionary(texts):\n",
    "    d = Dictionary(text_to_tokens(t)for t in texts)\n",
    "    d.filter_extremes(no_below=3, no_above=1)\n",
    "    d.add_documents([[UNK, PAD]])\n",
    "    d.compactify()\n",
    "    return d"
   ]
  },
  {
   "cell_type": "code",
   "execution_count": 62,
   "metadata": {},
   "outputs": [],
   "source": [
    "from gensim.corpora import Dictionary\n",
    "import spacy\n",
    "nlp = spacy.load('en')\n",
    "\n",
    "dictionary = build_dictionary(df.information)"
   ]
  },
  {
   "cell_type": "code",
   "execution_count": 63,
   "metadata": {},
   "outputs": [],
   "source": [
    "from tensorflow.keras.preprocessing import sequence\n",
    "\n",
    "x_train = texts_to_input(df_train.information, dictionary)\n",
    "x_test = texts_to_input(df_test.information, dictionary)"
   ]
  },
  {
   "cell_type": "code",
   "execution_count": 64,
   "metadata": {},
   "outputs": [],
   "source": [
    "from sklearn.preprocessing import LabelBinarizer\n",
    "\n",
    "lb = LabelBinarizer()\n",
    "lb.fit(categories.index[:TOP_N_CATEGORIES])\n",
    "y_train = lb.transform(df_train.category)\n",
    "y_test = lb.transform(df_test.category)"
   ]
  },
  {
   "cell_type": "code",
   "execution_count": 68,
   "metadata": {},
   "outputs": [],
   "source": [
    "from tensorflow.keras.models import Model\n",
    "import tensorflow.keras.layers as layers\n",
    "\n",
    "EMBEDDING_DIM = 50\n",
    "\n",
    "inp = layers.Input(shape=(MAX_SEQUENCE_LEN,), dtype='float32')\n",
    "emb = layers.Embedding(len(dictionary), EMBEDDING_DIM, input_length=MAX_SEQUENCE_LEN)(inp)\n",
    "filters = []\n",
    "for kernel_size in [2, 3, 4]:\n",
    "    conv = layers.Conv1D(32, kernel_size, padding='same', activation='relu', strides=1)(emb)\n",
    "    pooled = layers.MaxPooling1D(pool_size=MAX_SEQUENCE_LEN-kernel_size+1)(conv)\n",
    "    filters.append(pooled)\n",
    "\n",
    "stacked = layers.Concatenate()(filters)\n",
    "flatten = layers.Flatten()(stacked)\n",
    "drop = layers.Dropout(0.2)(flatten)\n",
    "out = layers.Dense(15, activation='softmax')(drop)\n",
    "\n",
    "model = Model(inputs=inp, outputs=out)\n",
    "model.compile(loss='categorical_crossentropy', optimizer='adam', metrics=['accuracy'])"
   ]
  },
  {
   "cell_type": "code",
   "execution_count": 69,
   "metadata": {},
   "outputs": [
    {
     "name": "stdout",
     "output_type": "stream",
     "text": [
      "Model: \"model_2\"\n",
      "__________________________________________________________________________________________________\n",
      "Layer (type)                    Output Shape         Param #     Connected to                     \n",
      "==================================================================================================\n",
      "input_3 (InputLayer)            [(None, 25)]         0                                            \n",
      "__________________________________________________________________________________________________\n",
      "embedding_2 (Embedding)         (None, 25, 50)       1769500     input_3[0][0]                    \n",
      "__________________________________________________________________________________________________\n",
      "conv1d_6 (Conv1D)               (None, 25, 32)       3232        embedding_2[0][0]                \n",
      "__________________________________________________________________________________________________\n",
      "conv1d_7 (Conv1D)               (None, 25, 32)       4832        embedding_2[0][0]                \n",
      "__________________________________________________________________________________________________\n",
      "conv1d_8 (Conv1D)               (None, 25, 32)       6432        embedding_2[0][0]                \n",
      "__________________________________________________________________________________________________\n",
      "max_pooling1d_6 (MaxPooling1D)  (None, 1, 32)        0           conv1d_6[0][0]                   \n",
      "__________________________________________________________________________________________________\n",
      "max_pooling1d_7 (MaxPooling1D)  (None, 1, 32)        0           conv1d_7[0][0]                   \n",
      "__________________________________________________________________________________________________\n",
      "max_pooling1d_8 (MaxPooling1D)  (None, 1, 32)        0           conv1d_8[0][0]                   \n",
      "__________________________________________________________________________________________________\n",
      "concatenate_2 (Concatenate)     (None, 1, 96)        0           max_pooling1d_6[0][0]            \n",
      "                                                                 max_pooling1d_7[0][0]            \n",
      "                                                                 max_pooling1d_8[0][0]            \n",
      "__________________________________________________________________________________________________\n",
      "flatten_2 (Flatten)             (None, 96)           0           concatenate_2[0][0]              \n",
      "__________________________________________________________________________________________________\n",
      "dropout_2 (Dropout)             (None, 96)           0           flatten_2[0][0]                  \n",
      "__________________________________________________________________________________________________\n",
      "dense_2 (Dense)                 (None, 15)           1455        dropout_2[0][0]                  \n",
      "==================================================================================================\n",
      "Total params: 1,785,451\n",
      "Trainable params: 1,785,451\n",
      "Non-trainable params: 0\n",
      "__________________________________________________________________________________________________\n"
     ]
    }
   ],
   "source": [
    "model.summary()"
   ]
  },
  {
   "cell_type": "code",
   "execution_count": 70,
   "metadata": {
    "collapsed": true,
    "jupyter": {
     "outputs_hidden": true
    }
   },
   "outputs": [
    {
     "name": "stdout",
     "output_type": "stream",
     "text": [
      "Train on 128470 samples, validate on 14275 samples\n",
      "Epoch 1/5\n",
      "128470/128470 [==============================] - ETA: 19:27 - loss: 2.6970 - accuracy: 0.101 - ETA: 6:55 - loss: 2.6905 - accuracy: 0.072 - ETA: 4:26 - loss: 2.6868 - accuracy: 0.10 - ETA: 3:21 - loss: 2.6773 - accuracy: 0.13 - ETA: 2:45 - loss: 2.6707 - accuracy: 0.15 - ETA: 2:21 - loss: 2.6615 - accuracy: 0.16 - ETA: 2:05 - loss: 2.6534 - accuracy: 0.17 - ETA: 1:53 - loss: 2.6475 - accuracy: 0.18 - ETA: 1:45 - loss: 2.6380 - accuracy: 0.19 - ETA: 1:38 - loss: 2.6304 - accuracy: 0.20 - ETA: 1:32 - loss: 2.6258 - accuracy: 0.20 - ETA: 1:27 - loss: 2.6156 - accuracy: 0.20 - ETA: 1:23 - loss: 2.6082 - accuracy: 0.21 - ETA: 1:19 - loss: 2.6031 - accuracy: 0.21 - ETA: 1:16 - loss: 2.5987 - accuracy: 0.21 - ETA: 1:13 - loss: 2.5933 - accuracy: 0.21 - ETA: 1:11 - loss: 2.5866 - accuracy: 0.21 - ETA: 1:09 - loss: 2.5790 - accuracy: 0.21 - ETA: 1:07 - loss: 2.5709 - accuracy: 0.21 - ETA: 1:05 - loss: 2.5647 - accuracy: 0.22 - ETA: 1:04 - loss: 2.5581 - accuracy: 0.22 - ETA: 1:03 - loss: 2.5563 - accuracy: 0.22 - ETA: 1:01 - loss: 2.5532 - accuracy: 0.22 - ETA: 1:00 - loss: 2.5465 - accuracy: 0.22 - ETA: 59s - loss: 2.5419 - accuracy: 0.2248 - ETA: 58s - loss: 2.5367 - accuracy: 0.225 - ETA: 57s - loss: 2.5348 - accuracy: 0.224 - ETA: 56s - loss: 2.5326 - accuracy: 0.224 - ETA: 56s - loss: 2.5277 - accuracy: 0.223 - ETA: 55s - loss: 2.5242 - accuracy: 0.223 - ETA: 54s - loss: 2.5230 - accuracy: 0.223 - ETA: 53s - loss: 2.5192 - accuracy: 0.222 - ETA: 53s - loss: 2.5138 - accuracy: 0.223 - ETA: 52s - loss: 2.5087 - accuracy: 0.224 - ETA: 52s - loss: 2.5059 - accuracy: 0.224 - ETA: 51s - loss: 2.5012 - accuracy: 0.224 - ETA: 51s - loss: 2.4958 - accuracy: 0.224 - ETA: 50s - loss: 2.4956 - accuracy: 0.223 - ETA: 50s - loss: 2.4911 - accuracy: 0.224 - ETA: 49s - loss: 2.4870 - accuracy: 0.225 - ETA: 49s - loss: 2.4835 - accuracy: 0.226 - ETA: 48s - loss: 2.4801 - accuracy: 0.226 - ETA: 48s - loss: 2.4779 - accuracy: 0.226 - ETA: 47s - loss: 2.4719 - accuracy: 0.227 - ETA: 47s - loss: 2.4663 - accuracy: 0.229 - ETA: 47s - loss: 2.4634 - accuracy: 0.230 - ETA: 46s - loss: 2.4618 - accuracy: 0.229 - ETA: 46s - loss: 2.4588 - accuracy: 0.229 - ETA: 46s - loss: 2.4554 - accuracy: 0.230 - ETA: 45s - loss: 2.4543 - accuracy: 0.230 - ETA: 45s - loss: 2.4499 - accuracy: 0.231 - ETA: 45s - loss: 2.4477 - accuracy: 0.231 - ETA: 45s - loss: 2.4429 - accuracy: 0.233 - ETA: 44s - loss: 2.4386 - accuracy: 0.234 - ETA: 44s - loss: 2.4360 - accuracy: 0.235 - ETA: 44s - loss: 2.4328 - accuracy: 0.237 - ETA: 44s - loss: 2.4298 - accuracy: 0.239 - ETA: 43s - loss: 2.4277 - accuracy: 0.240 - ETA: 43s - loss: 2.4253 - accuracy: 0.241 - ETA: 43s - loss: 2.4216 - accuracy: 0.243 - ETA: 43s - loss: 2.4166 - accuracy: 0.245 - ETA: 42s - loss: 2.4130 - accuracy: 0.247 - ETA: 42s - loss: 2.4087 - accuracy: 0.249 - ETA: 42s - loss: 2.4024 - accuracy: 0.251 - ETA: 42s - loss: 2.3975 - accuracy: 0.254 - ETA: 41s - loss: 2.3929 - accuracy: 0.256 - ETA: 41s - loss: 2.3910 - accuracy: 0.257 - ETA: 41s - loss: 2.3882 - accuracy: 0.259 - ETA: 41s - loss: 2.3864 - accuracy: 0.260 - ETA: 41s - loss: 2.3835 - accuracy: 0.262 - ETA: 40s - loss: 2.3795 - accuracy: 0.264 - ETA: 40s - loss: 2.3760 - accuracy: 0.266 - ETA: 40s - loss: 2.3726 - accuracy: 0.267 - ETA: 40s - loss: 2.3703 - accuracy: 0.268 - ETA: 40s - loss: 2.3659 - accuracy: 0.270 - ETA: 39s - loss: 2.3620 - accuracy: 0.272 - ETA: 39s - loss: 2.3583 - accuracy: 0.273 - ETA: 39s - loss: 2.3545 - accuracy: 0.275 - ETA: 39s - loss: 2.3512 - accuracy: 0.276 - ETA: 39s - loss: 2.3466 - accuracy: 0.278 - ETA: 39s - loss: 2.3431 - accuracy: 0.279 - ETA: 38s - loss: 2.3393 - accuracy: 0.280 - ETA: 38s - loss: 2.3353 - accuracy: 0.282 - ETA: 38s - loss: 2.3309 - accuracy: 0.284 - ETA: 38s - loss: 2.3278 - accuracy: 0.285 - ETA: 38s - loss: 2.3220 - accuracy: 0.287 - ETA: 38s - loss: 2.3194 - accuracy: 0.288 - ETA: 37s - loss: 2.3156 - accuracy: 0.290 - ETA: 37s - loss: 2.3117 - accuracy: 0.291 - ETA: 37s - loss: 2.3087 - accuracy: 0.292 - ETA: 37s - loss: 2.3043 - accuracy: 0.294 - ETA: 37s - loss: 2.3012 - accuracy: 0.295 - ETA: 37s - loss: 2.2982 - accuracy: 0.296 - ETA: 37s - loss: 2.2952 - accuracy: 0.297 - ETA: 36s - loss: 2.2924 - accuracy: 0.298 - ETA: 36s - loss: 2.2897 - accuracy: 0.299 - ETA: 36s - loss: 2.2859 - accuracy: 0.300 - ETA: 36s - loss: 2.2827 - accuracy: 0.302 - ETA: 36s - loss: 2.2784 - accuracy: 0.303 - ETA: 36s - loss: 2.2758 - accuracy: 0.304 - ETA: 36s - loss: 2.2730 - accuracy: 0.305 - ETA: 36s - loss: 2.2698 - accuracy: 0.306 - ETA: 35s - loss: 2.2660 - accuracy: 0.307 - ETA: 35s - loss: 2.2634 - accuracy: 0.308 - ETA: 35s - loss: 2.2603 - accuracy: 0.309 - ETA: 35s - loss: 2.2572 - accuracy: 0.311 - ETA: 35s - loss: 2.2540 - accuracy: 0.312 - ETA: 35s - loss: 2.2504 - accuracy: 0.313 - ETA: 35s - loss: 2.2459 - accuracy: 0.315 - ETA: 35s - loss: 2.2429 - accuracy: 0.316 - ETA: 34s - loss: 2.2394 - accuracy: 0.317 - ETA: 34s - loss: 2.2366 - accuracy: 0.318 - ETA: 34s - loss: 2.2340 - accuracy: 0.318 - ETA: 34s - loss: 2.2309 - accuracy: 0.319 - ETA: 34s - loss: 2.2278 - accuracy: 0.321 - ETA: 34s - loss: 2.2251 - accuracy: 0.322 - ETA: 34s - loss: 2.2212 - accuracy: 0.323 - ETA: 34s - loss: 2.2182 - accuracy: 0.324 - ETA: 33s - loss: 2.2145 - accuracy: 0.325 - ETA: 33s - loss: 2.2099 - accuracy: 0.327 - ETA: 33s - loss: 2.2068 - accuracy: 0.328 - ETA: 33s - loss: 2.2029 - accuracy: 0.329 - ETA: 33s - loss: 2.1999 - accuracy: 0.330 - ETA: 33s - loss: 2.1970 - accuracy: 0.331 - ETA: 33s - loss: 2.1946 - accuracy: 0.332 - ETA: 33s - loss: 2.1918 - accuracy: 0.333 - ETA: 33s - loss: 2.1890 - accuracy: 0.334 - ETA: 32s - loss: 2.1859 - accuracy: 0.336 - ETA: 32s - loss: 2.1835 - accuracy: 0.336 - ETA: 32s - loss: 2.1798 - accuracy: 0.338 - ETA: 32s - loss: 2.1760 - accuracy: 0.339 - ETA: 32s - loss: 2.1734 - accuracy: 0.340 - ETA: 32s - loss: 2.1701 - accuracy: 0.341 - ETA: 32s - loss: 2.1663 - accuracy: 0.342 - ETA: 32s - loss: 2.1621 - accuracy: 0.344 - ETA: 32s - loss: 2.1583 - accuracy: 0.345 - ETA: 31s - loss: 2.1557 - accuracy: 0.346 - ETA: 31s - loss: 2.1527 - accuracy: 0.347 - ETA: 31s - loss: 2.1495 - accuracy: 0.348 - ETA: 31s - loss: 2.1460 - accuracy: 0.349 - ETA: 31s - loss: 2.1423 - accuracy: 0.351 - ETA: 31s - loss: 2.1387 - accuracy: 0.352 - ETA: 31s - loss: 2.1353 - accuracy: 0.353 - ETA: 31s - loss: 2.1322 - accuracy: 0.354 - ETA: 31s - loss: 2.1289 - accuracy: 0.355 - ETA: 31s - loss: 2.1258 - accuracy: 0.356 - ETA: 30s - loss: 2.1224 - accuracy: 0.357 - ETA: 30s - loss: 2.1186 - accuracy: 0.359 - ETA: 30s - loss: 2.1154 - accuracy: 0.360 - ETA: 30s - loss: 2.1125 - accuracy: 0.361 - ETA: 30s - loss: 2.1103 - accuracy: 0.361 - ETA: 30s - loss: 2.1065 - accuracy: 0.363 - ETA: 30s - loss: 2.1032 - accuracy: 0.364 - ETA: 30s - loss: 2.0997 - accuracy: 0.365 - ETA: 30s - loss: 2.0961 - accuracy: 0.367 - ETA: 30s - loss: 2.0928 - accuracy: 0.368 - ETA: 29s - loss: 2.0884 - accuracy: 0.369 - ETA: 29s - loss: 2.0856 - accuracy: 0.370 - ETA: 29s - loss: 2.0824 - accuracy: 0.371 - ETA: 29s - loss: 2.0789 - accuracy: 0.373 - ETA: 29s - loss: 2.0752 - accuracy: 0.374 - ETA: 29s - loss: 2.0715 - accuracy: 0.375 - ETA: 29s - loss: 2.0690 - accuracy: 0.376 - ETA: 29s - loss: 2.0650 - accuracy: 0.377 - ETA: 29s - loss: 2.0612 - accuracy: 0.379 - ETA: 29s - loss: 2.0583 - accuracy: 0.380 - ETA: 28s - loss: 2.0557 - accuracy: 0.381 - ETA: 28s - loss: 2.0526 - accuracy: 0.382 - ETA: 28s - loss: 2.0501 - accuracy: 0.383 - ETA: 28s - loss: 2.0466 - accuracy: 0.384 - ETA: 28s - loss: 2.0436 - accuracy: 0.385 - ETA: 28s - loss: 2.0407 - accuracy: 0.386 - ETA: 28s - loss: 2.0371 - accuracy: 0.387 - ETA: 28s - loss: 2.0333 - accuracy: 0.388 - ETA: 28s - loss: 2.0300 - accuracy: 0.389 - ETA: 28s - loss: 2.0276 - accuracy: 0.390 - ETA: 28s - loss: 2.0251 - accuracy: 0.391 - ETA: 27s - loss: 2.0221 - accuracy: 0.392 - ETA: 27s - loss: 2.0193 - accuracy: 0.393 - ETA: 27s - loss: 2.0163 - accuracy: 0.394 - ETA: 27s - loss: 2.0131 - accuracy: 0.395 - ETA: 27s - loss: 2.0099 - accuracy: 0.396 - ETA: 27s - loss: 2.0066 - accuracy: 0.398 - ETA: 27s - loss: 2.0034 - accuracy: 0.399 - ETA: 27s - loss: 2.0001 - accuracy: 0.400 - ETA: 27s - loss: 1.9973 - accuracy: 0.401 - ETA: 27s - loss: 1.9938 - accuracy: 0.402 - ETA: 27s - loss: 1.9911 - accuracy: 0.403 - ETA: 26s - loss: 1.9876 - accuracy: 0.404 - ETA: 26s - loss: 1.9848 - accuracy: 0.405 - ETA: 26s - loss: 1.9823 - accuracy: 0.406 - ETA: 26s - loss: 1.9796 - accuracy: 0.407 - ETA: 26s - loss: 1.9772 - accuracy: 0.407 - ETA: 26s - loss: 1.9741 - accuracy: 0.408 - ETA: 26s - loss: 1.9712 - accuracy: 0.409 - ETA: 26s - loss: 1.9683 - accuracy: 0.410 - ETA: 26s - loss: 1.9651 - accuracy: 0.411 - ETA: 26s - loss: 1.9639 - accuracy: 0.412 - ETA: 26s - loss: 1.9608 - accuracy: 0.413 - ETA: 25s - loss: 1.9577 - accuracy: 0.414 - ETA: 25s - loss: 1.9554 - accuracy: 0.414 - ETA: 25s - loss: 1.9529 - accuracy: 0.415 - ETA: 25s - loss: 1.9496 - accuracy: 0.416 - ETA: 25s - loss: 1.9470 - accuracy: 0.417 - ETA: 25s - loss: 1.9442 - accuracy: 0.417 - ETA: 25s - loss: 1.9415 - accuracy: 0.418 - ETA: 25s - loss: 1.9393 - accuracy: 0.419 - ETA: 25s - loss: 1.9365 - accuracy: 0.420 - ETA: 25s - loss: 1.9339 - accuracy: 0.421 - ETA: 24s - loss: 1.9310 - accuracy: 0.422 - ETA: 24s - loss: 1.9286 - accuracy: 0.422 - ETA: 24s - loss: 1.9261 - accuracy: 0.423 - ETA: 24s - loss: 1.9233 - accuracy: 0.424 - ETA: 24s - loss: 1.9207 - accuracy: 0.425 - ETA: 24s - loss: 1.9183 - accuracy: 0.425 - ETA: 24s - loss: 1.9158 - accuracy: 0.426 - ETA: 24s - loss: 1.9129 - accuracy: 0.427 - ETA: 24s - loss: 1.9100 - accuracy: 0.428 - ETA: 24s - loss: 1.9073 - accuracy: 0.429 - ETA: 24s - loss: 1.9050 - accuracy: 0.429 - ETA: 23s - loss: 1.9023 - accuracy: 0.430 - ETA: 23s - loss: 1.8996 - accuracy: 0.431 - ETA: 23s - loss: 1.8966 - accuracy: 0.432 - ETA: 23s - loss: 1.8937 - accuracy: 0.433 - ETA: 23s - loss: 1.8913 - accuracy: 0.434 - ETA: 23s - loss: 1.8892 - accuracy: 0.434 - ETA: 23s - loss: 1.8868 - accuracy: 0.435 - ETA: 23s - loss: 1.8843 - accuracy: 0.436 - ETA: 23s - loss: 1.8821 - accuracy: 0.436 - ETA: 23s - loss: 1.8796 - accuracy: 0.437 - ETA: 23s - loss: 1.8777 - accuracy: 0.438 - ETA: 22s - loss: 1.8750 - accuracy: 0.439 - ETA: 22s - loss: 1.8721 - accuracy: 0.439 - ETA: 22s - loss: 1.8698 - accuracy: 0.440 - ETA: 22s - loss: 1.8670 - accuracy: 0.441 - ETA: 22s - loss: 1.8646 - accuracy: 0.442 - ETA: 22s - loss: 1.8622 - accuracy: 0.443 - ETA: 22s - loss: 1.8609 - accuracy: 0.443 - ETA: 22s - loss: 1.8589 - accuracy: 0.444 - ETA: 22s - loss: 1.8564 - accuracy: 0.444 - ETA: 22s - loss: 1.8542 - accuracy: 0.445 - ETA: 22s - loss: 1.8518 - accuracy: 0.446 - ETA: 22s - loss: 1.8494 - accuracy: 0.447 - ETA: 21s - loss: 1.8466 - accuracy: 0.447 - ETA: 21s - loss: 1.8440 - accuracy: 0.448 - ETA: 21s - loss: 1.8418 - accuracy: 0.449 - ETA: 21s - loss: 1.8397 - accuracy: 0.450 - ETA: 21s - loss: 1.8371 - accuracy: 0.450 - ETA: 21s - loss: 1.8351 - accuracy: 0.451 - ETA: 21s - loss: 1.8328 - accuracy: 0.452 - ETA: 21s - loss: 1.8310 - accuracy: 0.452 - ETA: 21s - loss: 1.8286 - accuracy: 0.453 - ETA: 21s - loss: 1.8261 - accuracy: 0.454 - ETA: 21s - loss: 1.8239 - accuracy: 0.454 - ETA: 20s - loss: 1.8220 - accuracy: 0.455 - ETA: 20s - loss: 1.8205 - accuracy: 0.455 - ETA: 20s - loss: 1.8181 - accuracy: 0.456 - ETA: 20s - loss: 1.8160 - accuracy: 0.457 - ETA: 20s - loss: 1.8141 - accuracy: 0.457 - ETA: 20s - loss: 1.8116 - accuracy: 0.458 - ETA: 20s - loss: 1.8089 - accuracy: 0.459 - ETA: 20s - loss: 1.8064 - accuracy: 0.460 - ETA: 20s - loss: 1.8041 - accuracy: 0.460 - ETA: 20s - loss: 1.8021 - accuracy: 0.461 - ETA: 20s - loss: 1.8001 - accuracy: 0.462 - ETA: 20s - loss: 1.7978 - accuracy: 0.463 - ETA: 19s - loss: 1.7949 - accuracy: 0.464 - ETA: 19s - loss: 1.7927 - accuracy: 0.464 - ETA: 19s - loss: 1.7906 - accuracy: 0.465 - ETA: 19s - loss: 1.7886 - accuracy: 0.466 - ETA: 19s - loss: 1.7861 - accuracy: 0.466 - ETA: 19s - loss: 1.7841 - accuracy: 0.467 - ETA: 19s - loss: 1.7825 - accuracy: 0.468 - ETA: 19s - loss: 1.7802 - accuracy: 0.468 - ETA: 19s - loss: 1.7782 - accuracy: 0.469 - ETA: 19s - loss: 1.7763 - accuracy: 0.469 - ETA: 19s - loss: 1.7743 - accuracy: 0.470 - ETA: 18s - loss: 1.7723 - accuracy: 0.470 - ETA: 18s - loss: 1.7703 - accuracy: 0.471 - ETA: 18s - loss: 1.7683 - accuracy: 0.472 - ETA: 18s - loss: 1.7666 - accuracy: 0.472 - ETA: 18s - loss: 1.7648 - accuracy: 0.473 - ETA: 18s - loss: 1.7624 - accuracy: 0.474 - ETA: 18s - loss: 1.7601 - accuracy: 0.474 - ETA: 18s - loss: 1.7580 - accuracy: 0.475 - ETA: 18s - loss: 1.7558 - accuracy: 0.476 - ETA: 18s - loss: 1.7538 - accuracy: 0.476 - ETA: 18s - loss: 1.7518 - accuracy: 0.477 - ETA: 18s - loss: 1.7497 - accuracy: 0.478 - ETA: 17s - loss: 1.7477 - accuracy: 0.478 - ETA: 17s - loss: 1.7454 - accuracy: 0.479 - ETA: 17s - loss: 1.7436 - accuracy: 0.480 - ETA: 17s - loss: 1.7413 - accuracy: 0.480 - ETA: 17s - loss: 1.7394 - accuracy: 0.481 - ETA: 17s - loss: 1.7374 - accuracy: 0.482 - ETA: 17s - loss: 1.7352 - accuracy: 0.482 - ETA: 17s - loss: 1.7332 - accuracy: 0.483 - ETA: 17s - loss: 1.7309 - accuracy: 0.484 - ETA: 17s - loss: 1.7292 - accuracy: 0.484 - ETA: 17s - loss: 1.7270 - accuracy: 0.485 - ETA: 16s - loss: 1.7252 - accuracy: 0.485 - ETA: 16s - loss: 1.7233 - accuracy: 0.486 - ETA: 16s - loss: 1.7213 - accuracy: 0.487 - ETA: 16s - loss: 1.7195 - accuracy: 0.487 - ETA: 16s - loss: 1.7178 - accuracy: 0.488 - ETA: 16s - loss: 1.7159 - accuracy: 0.488 - ETA: 16s - loss: 1.7139 - accuracy: 0.489 - ETA: 16s - loss: 1.7117 - accuracy: 0.490 - ETA: 16s - loss: 1.7100 - accuracy: 0.490 - ETA: 16s - loss: 1.7084 - accuracy: 0.491 - ETA: 16s - loss: 1.7067 - accuracy: 0.491 - ETA: 16s - loss: 1.7050 - accuracy: 0.492 - ETA: 15s - loss: 1.7032 - accuracy: 0.492 - ETA: 15s - loss: 1.7015 - accuracy: 0.493 - ETA: 15s - loss: 1.6992 - accuracy: 0.493 - ETA: 15s - loss: 1.6972 - accuracy: 0.494 - ETA: 15s - loss: 1.6958 - accuracy: 0.495 - ETA: 15s - loss: 1.6936 - accuracy: 0.495 - ETA: 15s - loss: 1.6919 - accuracy: 0.496 - ETA: 15s - loss: 1.6905 - accuracy: 0.496 - ETA: 15s - loss: 1.6888 - accuracy: 0.497 - ETA: 15s - loss: 1.6866 - accuracy: 0.498 - ETA: 15s - loss: 1.6850 - accuracy: 0.498 - ETA: 15s - loss: 1.6831 - accuracy: 0.499 - ETA: 14s - loss: 1.6811 - accuracy: 0.499 - ETA: 14s - loss: 1.6792 - accuracy: 0.500 - ETA: 14s - loss: 1.6781 - accuracy: 0.500 - ETA: 14s - loss: 1.6766 - accuracy: 0.501 - ETA: 14s - loss: 1.6749 - accuracy: 0.501 - ETA: 14s - loss: 1.6735 - accuracy: 0.502 - ETA: 14s - loss: 1.6718 - accuracy: 0.502 - ETA: 14s - loss: 1.6702 - accuracy: 0.503 - ETA: 14s - loss: 1.6685 - accuracy: 0.503 - ETA: 14s - loss: 1.6669 - accuracy: 0.504 - ETA: 14s - loss: 1.6651 - accuracy: 0.504 - ETA: 13s - loss: 1.6635 - accuracy: 0.505 - ETA: 13s - loss: 1.6617 - accuracy: 0.505 - ETA: 13s - loss: 1.6600 - accuracy: 0.506 - ETA: 13s - loss: 1.6584 - accuracy: 0.506 - ETA: 13s - loss: 1.6571 - accuracy: 0.507 - ETA: 13s - loss: 1.6557 - accuracy: 0.507 - ETA: 13s - loss: 1.6540 - accuracy: 0.508 - ETA: 13s - loss: 1.6523 - accuracy: 0.508 - ETA: 13s - loss: 1.6509 - accuracy: 0.509 - ETA: 13s - loss: 1.6492 - accuracy: 0.509 - ETA: 13s - loss: 1.6474 - accuracy: 0.510 - ETA: 13s - loss: 1.6456 - accuracy: 0.510 - ETA: 13s - loss: 1.6450 - accuracy: 0.510 - ETA: 12s - loss: 1.6429 - accuracy: 0.511 - ETA: 12s - loss: 1.6414 - accuracy: 0.511 - ETA: 12s - loss: 1.6397 - accuracy: 0.512 - ETA: 12s - loss: 1.6380 - accuracy: 0.512 - ETA: 12s - loss: 1.6364 - accuracy: 0.513 - ETA: 12s - loss: 1.6349 - accuracy: 0.513 - ETA: 12s - loss: 1.6332 - accuracy: 0.514 - ETA: 12s - loss: 1.6313 - accuracy: 0.514 - ETA: 12s - loss: 1.6299 - accuracy: 0.515 - ETA: 12s - loss: 1.6287 - accuracy: 0.515 - ETA: 12s - loss: 1.6273 - accuracy: 0.515 - ETA: 11s - loss: 1.6253 - accuracy: 0.516 - ETA: 11s - loss: 1.6239 - accuracy: 0.516 - ETA: 11s - loss: 1.6225 - accuracy: 0.517 - ETA: 11s - loss: 1.6210 - accuracy: 0.517 - ETA: 11s - loss: 1.6196 - accuracy: 0.518 - ETA: 11s - loss: 1.6184 - accuracy: 0.518 - ETA: 11s - loss: 1.6173 - accuracy: 0.519 - ETA: 11s - loss: 1.6161 - accuracy: 0.519 - ETA: 11s - loss: 1.6145 - accuracy: 0.519 - ETA: 11s - loss: 1.6131 - accuracy: 0.520 - ETA: 11s - loss: 1.6118 - accuracy: 0.520 - ETA: 11s - loss: 1.6104 - accuracy: 0.521 - ETA: 10s - loss: 1.6091 - accuracy: 0.521 - ETA: 10s - loss: 1.6078 - accuracy: 0.521 - ETA: 10s - loss: 1.6068 - accuracy: 0.522 - ETA: 10s - loss: 1.6052 - accuracy: 0.522 - ETA: 10s - loss: 1.6040 - accuracy: 0.523 - ETA: 10s - loss: 1.6025 - accuracy: 0.523 - ETA: 10s - loss: 1.6011 - accuracy: 0.524 - ETA: 10s - loss: 1.5994 - accuracy: 0.524 - ETA: 10s - loss: 1.5982 - accuracy: 0.525 - ETA: 10s - loss: 1.5968 - accuracy: 0.525 - ETA: 10s - loss: 1.5951 - accuracy: 0.526 - ETA: 10s - loss: 1.5939 - accuracy: 0.526 - ETA: 9s - loss: 1.5927 - accuracy: 0.526 - ETA: 9s - loss: 1.5916 - accuracy: 0.52 - ETA: 9s - loss: 1.5909 - accuracy: 0.52 - ETA: 9s - loss: 1.5897 - accuracy: 0.52 - ETA: 9s - loss: 1.5887 - accuracy: 0.52 - ETA: 9s - loss: 1.5876 - accuracy: 0.52 - ETA: 9s - loss: 1.5861 - accuracy: 0.52 - ETA: 9s - loss: 1.5849 - accuracy: 0.52 - ETA: 9s - loss: 1.5836 - accuracy: 0.52 - ETA: 9s - loss: 1.5822 - accuracy: 0.53 - ETA: 9s - loss: 1.5805 - accuracy: 0.53 - ETA: 9s - loss: 1.5789 - accuracy: 0.53 - ETA: 8s - loss: 1.5779 - accuracy: 0.53 - ETA: 8s - loss: 1.5764 - accuracy: 0.53 - ETA: 8s - loss: 1.5750 - accuracy: 0.53 - ETA: 8s - loss: 1.5743 - accuracy: 0.53 - ETA: 8s - loss: 1.5729 - accuracy: 0.53 - ETA: 8s - loss: 1.5716 - accuracy: 0.53 - ETA: 8s - loss: 1.5703 - accuracy: 0.53 - ETA: 8s - loss: 1.5690 - accuracy: 0.53 - ETA: 8s - loss: 1.5678 - accuracy: 0.53 - ETA: 8s - loss: 1.5664 - accuracy: 0.53 - ETA: 8s - loss: 1.5653 - accuracy: 0.53 - ETA: 8s - loss: 1.5638 - accuracy: 0.53 - ETA: 8s - loss: 1.5627 - accuracy: 0.53 - ETA: 7s - loss: 1.5615 - accuracy: 0.53 - ETA: 7s - loss: 1.5601 - accuracy: 0.53 - ETA: 7s - loss: 1.5590 - accuracy: 0.53 - ETA: 7s - loss: 1.5579 - accuracy: 0.53 - ETA: 7s - loss: 1.5564 - accuracy: 0.53 - ETA: 7s - loss: 1.5550 - accuracy: 0.53 - ETA: 7s - loss: 1.5540 - accuracy: 0.53 - ETA: 7s - loss: 1.5527 - accuracy: 0.53 - ETA: 7s - loss: 1.5513 - accuracy: 0.53 - ETA: 7s - loss: 1.5502 - accuracy: 0.53 - ETA: 7s - loss: 1.5490 - accuracy: 0.54 - ETA: 7s - loss: 1.5480 - accuracy: 0.54 - ETA: 6s - loss: 1.5469 - accuracy: 0.54 - ETA: 6s - loss: 1.5463 - accuracy: 0.54 - ETA: 6s - loss: 1.5449 - accuracy: 0.54 - ETA: 6s - loss: 1.5435 - accuracy: 0.54 - ETA: 6s - loss: 1.5425 - accuracy: 0.54 - ETA: 6s - loss: 1.5411 - accuracy: 0.54 - ETA: 6s - loss: 1.5398 - accuracy: 0.54 - ETA: 6s - loss: 1.5386 - accuracy: 0.54 - ETA: 6s - loss: 1.5376 - accuracy: 0.54 - ETA: 6s - loss: 1.5366 - accuracy: 0.54 - ETA: 6s - loss: 1.5355 - accuracy: 0.54 - ETA: 6s - loss: 1.5344 - accuracy: 0.54 - ETA: 5s - loss: 1.5335 - accuracy: 0.54 - ETA: 5s - loss: 1.5323 - accuracy: 0.54 - ETA: 5s - loss: 1.5310 - accuracy: 0.54 - ETA: 5s - loss: 1.5296 - accuracy: 0.54 - ETA: 5s - loss: 1.5283 - accuracy: 0.54 - ETA: 5s - loss: 1.5275 - accuracy: 0.54 - ETA: 5s - loss: 1.5263 - accuracy: 0.54 - ETA: 5s - loss: 1.5252 - accuracy: 0.54 - ETA: 5s - loss: 1.5239 - accuracy: 0.54 - ETA: 5s - loss: 1.5230 - accuracy: 0.54 - ETA: 5s - loss: 1.5220 - accuracy: 0.54 - ETA: 5s - loss: 1.5206 - accuracy: 0.54 - ETA: 4s - loss: 1.5197 - accuracy: 0.54 - ETA: 4s - loss: 1.5186 - accuracy: 0.54 - ETA: 4s - loss: 1.5177 - accuracy: 0.54 - ETA: 4s - loss: 1.5166 - accuracy: 0.54 - ETA: 4s - loss: 1.5157 - accuracy: 0.54 - ETA: 4s - loss: 1.5147 - accuracy: 0.55 - ETA: 4s - loss: 1.5136 - accuracy: 0.55 - ETA: 4s - loss: 1.5127 - accuracy: 0.55 - ETA: 4s - loss: 1.5116 - accuracy: 0.55 - ETA: 4s - loss: 1.5103 - accuracy: 0.55 - ETA: 4s - loss: 1.5094 - accuracy: 0.55 - ETA: 4s - loss: 1.5086 - accuracy: 0.55 - ETA: 3s - loss: 1.5074 - accuracy: 0.55 - ETA: 3s - loss: 1.5066 - accuracy: 0.55 - ETA: 3s - loss: 1.5054 - accuracy: 0.55 - ETA: 3s - loss: 1.5042 - accuracy: 0.55 - ETA: 3s - loss: 1.5032 - accuracy: 0.55 - ETA: 3s - loss: 1.5024 - accuracy: 0.55 - ETA: 3s - loss: 1.5014 - accuracy: 0.55 - ETA: 3s - loss: 1.5005 - accuracy: 0.55 - ETA: 3s - loss: 1.4995 - accuracy: 0.55 - ETA: 3s - loss: 1.4987 - accuracy: 0.55 - ETA: 3s - loss: 1.4974 - accuracy: 0.55 - ETA: 3s - loss: 1.4965 - accuracy: 0.55 - ETA: 2s - loss: 1.4955 - accuracy: 0.55 - ETA: 2s - loss: 1.4943 - accuracy: 0.55 - ETA: 2s - loss: 1.4931 - accuracy: 0.55 - ETA: 2s - loss: 1.4922 - accuracy: 0.55 - ETA: 2s - loss: 1.4911 - accuracy: 0.55 - ETA: 2s - loss: 1.4903 - accuracy: 0.55 - ETA: 2s - loss: 1.4891 - accuracy: 0.55 - ETA: 2s - loss: 1.4881 - accuracy: 0.55 - ETA: 2s - loss: 1.4868 - accuracy: 0.55 - ETA: 2s - loss: 1.4860 - accuracy: 0.55 - ETA: 2s - loss: 1.4851 - accuracy: 0.55 - ETA: 2s - loss: 1.4843 - accuracy: 0.55 - ETA: 1s - loss: 1.4833 - accuracy: 0.56 - ETA: 1s - loss: 1.4822 - accuracy: 0.56 - ETA: 1s - loss: 1.4812 - accuracy: 0.56 - ETA: 1s - loss: 1.4804 - accuracy: 0.56 - ETA: 1s - loss: 1.4796 - accuracy: 0.56 - ETA: 1s - loss: 1.4783 - accuracy: 0.56 - ETA: 1s - loss: 1.4772 - accuracy: 0.56 - ETA: 1s - loss: 1.4761 - accuracy: 0.56 - ETA: 1s - loss: 1.4748 - accuracy: 0.56 - ETA: 1s - loss: 1.4737 - accuracy: 0.56 - ETA: 1s - loss: 1.4726 - accuracy: 0.56 - ETA: 1s - loss: 1.4718 - accuracy: 0.56 - ETA: 0s - loss: 1.4708 - accuracy: 0.56 - ETA: 0s - loss: 1.4699 - accuracy: 0.56 - ETA: 0s - loss: 1.4688 - accuracy: 0.56 - ETA: 0s - loss: 1.4681 - accuracy: 0.56 - ETA: 0s - loss: 1.4669 - accuracy: 0.56 - ETA: 0s - loss: 1.4662 - accuracy: 0.56 - ETA: 0s - loss: 1.4653 - accuracy: 0.56 - ETA: 0s - loss: 1.4644 - accuracy: 0.56 - ETA: 0s - loss: 1.4634 - accuracy: 0.56 - ETA: 0s - loss: 1.4624 - accuracy: 0.56 - ETA: 0s - loss: 1.4614 - accuracy: 0.56 - ETA: 0s - loss: 1.4604 - accuracy: 0.56 - 42s 330us/sample - loss: 1.4597 - accuracy: 0.5672 - val_loss: 0.9227 - val_accuracy: 0.7232\n",
      "Epoch 2/5\n",
      "128470/128470 [==============================] - ETA: 42s - loss: 0.7810 - accuracy: 0.765 - ETA: 42s - loss: 0.7582 - accuracy: 0.783 - ETA: 41s - loss: 0.7736 - accuracy: 0.771 - ETA: 41s - loss: 0.7874 - accuracy: 0.772 - ETA: 40s - loss: 0.8027 - accuracy: 0.762 - ETA: 40s - loss: 0.8325 - accuracy: 0.751 - ETA: 40s - loss: 0.8326 - accuracy: 0.754 - ETA: 41s - loss: 0.8401 - accuracy: 0.754 - ETA: 41s - loss: 0.8381 - accuracy: 0.753 - ETA: 41s - loss: 0.8469 - accuracy: 0.745 - ETA: 40s - loss: 0.8539 - accuracy: 0.741 - ETA: 40s - loss: 0.8556 - accuracy: 0.742 - ETA: 40s - loss: 0.8532 - accuracy: 0.743 - ETA: 40s - loss: 0.8533 - accuracy: 0.741 - ETA: 39s - loss: 0.8521 - accuracy: 0.740 - ETA: 39s - loss: 0.8485 - accuracy: 0.742 - ETA: 39s - loss: 0.8486 - accuracy: 0.742 - ETA: 39s - loss: 0.8439 - accuracy: 0.743 - ETA: 39s - loss: 0.8409 - accuracy: 0.744 - ETA: 39s - loss: 0.8390 - accuracy: 0.746 - ETA: 39s - loss: 0.8385 - accuracy: 0.745 - ETA: 39s - loss: 0.8410 - accuracy: 0.744 - ETA: 39s - loss: 0.8354 - accuracy: 0.746 - ETA: 39s - loss: 0.8407 - accuracy: 0.745 - ETA: 39s - loss: 0.8447 - accuracy: 0.744 - ETA: 39s - loss: 0.8426 - accuracy: 0.745 - ETA: 39s - loss: 0.8419 - accuracy: 0.744 - ETA: 38s - loss: 0.8375 - accuracy: 0.746 - ETA: 38s - loss: 0.8385 - accuracy: 0.746 - ETA: 38s - loss: 0.8405 - accuracy: 0.745 - ETA: 38s - loss: 0.8397 - accuracy: 0.746 - ETA: 38s - loss: 0.8373 - accuracy: 0.748 - ETA: 38s - loss: 0.8399 - accuracy: 0.747 - ETA: 38s - loss: 0.8391 - accuracy: 0.748 - ETA: 38s - loss: 0.8394 - accuracy: 0.748 - ETA: 38s - loss: 0.8404 - accuracy: 0.747 - ETA: 38s - loss: 0.8425 - accuracy: 0.747 - ETA: 38s - loss: 0.8417 - accuracy: 0.748 - ETA: 37s - loss: 0.8417 - accuracy: 0.748 - ETA: 37s - loss: 0.8446 - accuracy: 0.747 - ETA: 37s - loss: 0.8480 - accuracy: 0.747 - ETA: 37s - loss: 0.8489 - accuracy: 0.747 - ETA: 37s - loss: 0.8516 - accuracy: 0.746 - ETA: 37s - loss: 0.8512 - accuracy: 0.746 - ETA: 37s - loss: 0.8499 - accuracy: 0.747 - ETA: 37s - loss: 0.8506 - accuracy: 0.747 - ETA: 37s - loss: 0.8503 - accuracy: 0.747 - ETA: 37s - loss: 0.8518 - accuracy: 0.746 - ETA: 37s - loss: 0.8520 - accuracy: 0.746 - ETA: 36s - loss: 0.8522 - accuracy: 0.746 - ETA: 36s - loss: 0.8533 - accuracy: 0.746 - ETA: 36s - loss: 0.8515 - accuracy: 0.747 - ETA: 36s - loss: 0.8516 - accuracy: 0.747 - ETA: 36s - loss: 0.8513 - accuracy: 0.747 - ETA: 36s - loss: 0.8490 - accuracy: 0.747 - ETA: 36s - loss: 0.8501 - accuracy: 0.747 - ETA: 36s - loss: 0.8510 - accuracy: 0.746 - ETA: 36s - loss: 0.8524 - accuracy: 0.746 - ETA: 36s - loss: 0.8521 - accuracy: 0.746 - ETA: 36s - loss: 0.8520 - accuracy: 0.746 - ETA: 36s - loss: 0.8514 - accuracy: 0.746 - ETA: 35s - loss: 0.8521 - accuracy: 0.746 - ETA: 35s - loss: 0.8521 - accuracy: 0.746 - ETA: 35s - loss: 0.8515 - accuracy: 0.747 - ETA: 35s - loss: 0.8504 - accuracy: 0.748 - ETA: 35s - loss: 0.8509 - accuracy: 0.748 - ETA: 35s - loss: 0.8511 - accuracy: 0.747 - ETA: 35s - loss: 0.8509 - accuracy: 0.748 - ETA: 35s - loss: 0.8502 - accuracy: 0.748 - ETA: 35s - loss: 0.8495 - accuracy: 0.749 - ETA: 35s - loss: 0.8514 - accuracy: 0.748 - ETA: 35s - loss: 0.8515 - accuracy: 0.748 - ETA: 35s - loss: 0.8522 - accuracy: 0.747 - ETA: 34s - loss: 0.8507 - accuracy: 0.748 - ETA: 34s - loss: 0.8512 - accuracy: 0.747 - ETA: 34s - loss: 0.8509 - accuracy: 0.748 - ETA: 34s - loss: 0.8496 - accuracy: 0.748 - ETA: 34s - loss: 0.8512 - accuracy: 0.746 - ETA: 34s - loss: 0.8507 - accuracy: 0.747 - ETA: 34s - loss: 0.8516 - accuracy: 0.746 - ETA: 34s - loss: 0.8511 - accuracy: 0.746 - ETA: 34s - loss: 0.8505 - accuracy: 0.746 - ETA: 34s - loss: 0.8497 - accuracy: 0.746 - ETA: 34s - loss: 0.8494 - accuracy: 0.746 - ETA: 34s - loss: 0.8502 - accuracy: 0.746 - ETA: 33s - loss: 0.8510 - accuracy: 0.745 - ETA: 33s - loss: 0.8516 - accuracy: 0.745 - ETA: 33s - loss: 0.8497 - accuracy: 0.746 - ETA: 33s - loss: 0.8500 - accuracy: 0.746 - ETA: 33s - loss: 0.8500 - accuracy: 0.746 - ETA: 33s - loss: 0.8503 - accuracy: 0.746 - ETA: 33s - loss: 0.8495 - accuracy: 0.746 - ETA: 33s - loss: 0.8483 - accuracy: 0.746 - ETA: 33s - loss: 0.8487 - accuracy: 0.746 - ETA: 33s - loss: 0.8496 - accuracy: 0.746 - ETA: 33s - loss: 0.8486 - accuracy: 0.746 - ETA: 33s - loss: 0.8475 - accuracy: 0.746 - ETA: 33s - loss: 0.8474 - accuracy: 0.746 - ETA: 32s - loss: 0.8473 - accuracy: 0.746 - ETA: 32s - loss: 0.8463 - accuracy: 0.747 - ETA: 32s - loss: 0.8460 - accuracy: 0.747 - ETA: 32s - loss: 0.8461 - accuracy: 0.747 - ETA: 32s - loss: 0.8461 - accuracy: 0.747 - ETA: 32s - loss: 0.8465 - accuracy: 0.747 - ETA: 32s - loss: 0.8474 - accuracy: 0.746 - ETA: 32s - loss: 0.8470 - accuracy: 0.746 - ETA: 32s - loss: 0.8477 - accuracy: 0.746 - ETA: 32s - loss: 0.8479 - accuracy: 0.746 - ETA: 32s - loss: 0.8473 - accuracy: 0.746 - ETA: 32s - loss: 0.8470 - accuracy: 0.746 - ETA: 31s - loss: 0.8456 - accuracy: 0.746 - ETA: 31s - loss: 0.8455 - accuracy: 0.746 - ETA: 31s - loss: 0.8456 - accuracy: 0.747 - ETA: 31s - loss: 0.8451 - accuracy: 0.747 - ETA: 31s - loss: 0.8443 - accuracy: 0.747 - ETA: 31s - loss: 0.8451 - accuracy: 0.747 - ETA: 31s - loss: 0.8456 - accuracy: 0.746 - ETA: 31s - loss: 0.8460 - accuracy: 0.746 - ETA: 31s - loss: 0.8455 - accuracy: 0.746 - ETA: 31s - loss: 0.8448 - accuracy: 0.747 - ETA: 31s - loss: 0.8449 - accuracy: 0.746 - ETA: 31s - loss: 0.8446 - accuracy: 0.746 - ETA: 31s - loss: 0.8445 - accuracy: 0.746 - ETA: 30s - loss: 0.8448 - accuracy: 0.746 - ETA: 30s - loss: 0.8453 - accuracy: 0.747 - ETA: 30s - loss: 0.8444 - accuracy: 0.747 - ETA: 30s - loss: 0.8442 - accuracy: 0.747 - ETA: 30s - loss: 0.8437 - accuracy: 0.747 - ETA: 30s - loss: 0.8429 - accuracy: 0.747 - ETA: 30s - loss: 0.8426 - accuracy: 0.747 - ETA: 30s - loss: 0.8426 - accuracy: 0.747 - ETA: 30s - loss: 0.8426 - accuracy: 0.747 - ETA: 30s - loss: 0.8424 - accuracy: 0.747 - ETA: 30s - loss: 0.8411 - accuracy: 0.747 - ETA: 30s - loss: 0.8410 - accuracy: 0.747 - ETA: 29s - loss: 0.8410 - accuracy: 0.748 - ETA: 29s - loss: 0.8424 - accuracy: 0.747 - ETA: 29s - loss: 0.8422 - accuracy: 0.747 - ETA: 29s - loss: 0.8430 - accuracy: 0.747 - ETA: 29s - loss: 0.8422 - accuracy: 0.747 - ETA: 29s - loss: 0.8423 - accuracy: 0.747 - ETA: 29s - loss: 0.8424 - accuracy: 0.747 - ETA: 29s - loss: 0.8435 - accuracy: 0.747 - ETA: 29s - loss: 0.8445 - accuracy: 0.746 - ETA: 29s - loss: 0.8442 - accuracy: 0.746 - ETA: 29s - loss: 0.8436 - accuracy: 0.747 - ETA: 29s - loss: 0.8431 - accuracy: 0.747 - ETA: 28s - loss: 0.8427 - accuracy: 0.747 - ETA: 28s - loss: 0.8427 - accuracy: 0.747 - ETA: 28s - loss: 0.8426 - accuracy: 0.747 - ETA: 28s - loss: 0.8421 - accuracy: 0.747 - ETA: 28s - loss: 0.8415 - accuracy: 0.747 - ETA: 28s - loss: 0.8417 - accuracy: 0.747 - ETA: 28s - loss: 0.8418 - accuracy: 0.747 - ETA: 28s - loss: 0.8417 - accuracy: 0.747 - ETA: 28s - loss: 0.8419 - accuracy: 0.747 - ETA: 28s - loss: 0.8416 - accuracy: 0.747 - ETA: 28s - loss: 0.8417 - accuracy: 0.747 - ETA: 28s - loss: 0.8416 - accuracy: 0.747 - ETA: 28s - loss: 0.8410 - accuracy: 0.747 - ETA: 27s - loss: 0.8412 - accuracy: 0.747 - ETA: 27s - loss: 0.8414 - accuracy: 0.747 - ETA: 27s - loss: 0.8413 - accuracy: 0.747 - ETA: 27s - loss: 0.8418 - accuracy: 0.747 - ETA: 27s - loss: 0.8419 - accuracy: 0.747 - ETA: 27s - loss: 0.8422 - accuracy: 0.747 - ETA: 27s - loss: 0.8426 - accuracy: 0.747 - ETA: 27s - loss: 0.8425 - accuracy: 0.747 - ETA: 27s - loss: 0.8429 - accuracy: 0.747 - ETA: 27s - loss: 0.8426 - accuracy: 0.747 - ETA: 27s - loss: 0.8420 - accuracy: 0.747 - ETA: 27s - loss: 0.8414 - accuracy: 0.748 - ETA: 26s - loss: 0.8419 - accuracy: 0.748 - ETA: 26s - loss: 0.8416 - accuracy: 0.748 - ETA: 26s - loss: 0.8413 - accuracy: 0.748 - ETA: 26s - loss: 0.8415 - accuracy: 0.748 - ETA: 26s - loss: 0.8417 - accuracy: 0.748 - ETA: 26s - loss: 0.8410 - accuracy: 0.748 - ETA: 26s - loss: 0.8413 - accuracy: 0.748 - ETA: 26s - loss: 0.8407 - accuracy: 0.748 - ETA: 26s - loss: 0.8402 - accuracy: 0.748 - ETA: 26s - loss: 0.8402 - accuracy: 0.748 - ETA: 26s - loss: 0.8397 - accuracy: 0.748 - ETA: 26s - loss: 0.8397 - accuracy: 0.748 - ETA: 25s - loss: 0.8392 - accuracy: 0.749 - ETA: 25s - loss: 0.8387 - accuracy: 0.749 - ETA: 25s - loss: 0.8386 - accuracy: 0.749 - ETA: 25s - loss: 0.8385 - accuracy: 0.749 - ETA: 25s - loss: 0.8388 - accuracy: 0.749 - ETA: 25s - loss: 0.8390 - accuracy: 0.749 - ETA: 25s - loss: 0.8389 - accuracy: 0.749 - ETA: 25s - loss: 0.8389 - accuracy: 0.749 - ETA: 25s - loss: 0.8383 - accuracy: 0.749 - ETA: 25s - loss: 0.8385 - accuracy: 0.749 - ETA: 25s - loss: 0.8386 - accuracy: 0.749 - ETA: 25s - loss: 0.8391 - accuracy: 0.749 - ETA: 24s - loss: 0.8397 - accuracy: 0.749 - ETA: 24s - loss: 0.8396 - accuracy: 0.749 - ETA: 24s - loss: 0.8394 - accuracy: 0.749 - ETA: 24s - loss: 0.8396 - accuracy: 0.749 - ETA: 24s - loss: 0.8402 - accuracy: 0.749 - ETA: 24s - loss: 0.8399 - accuracy: 0.749 - ETA: 24s - loss: 0.8396 - accuracy: 0.749 - ETA: 24s - loss: 0.8400 - accuracy: 0.749 - ETA: 24s - loss: 0.8396 - accuracy: 0.749 - ETA: 24s - loss: 0.8396 - accuracy: 0.749 - ETA: 24s - loss: 0.8392 - accuracy: 0.749 - ETA: 24s - loss: 0.8392 - accuracy: 0.749 - ETA: 24s - loss: 0.8389 - accuracy: 0.749 - ETA: 23s - loss: 0.8391 - accuracy: 0.749 - ETA: 23s - loss: 0.8391 - accuracy: 0.749 - ETA: 23s - loss: 0.8382 - accuracy: 0.749 - ETA: 23s - loss: 0.8386 - accuracy: 0.749 - ETA: 23s - loss: 0.8390 - accuracy: 0.749 - ETA: 23s - loss: 0.8385 - accuracy: 0.749 - ETA: 23s - loss: 0.8392 - accuracy: 0.749 - ETA: 23s - loss: 0.8394 - accuracy: 0.749 - ETA: 23s - loss: 0.8398 - accuracy: 0.749 - ETA: 23s - loss: 0.8392 - accuracy: 0.749 - ETA: 23s - loss: 0.8398 - accuracy: 0.749 - ETA: 23s - loss: 0.8399 - accuracy: 0.749 - ETA: 22s - loss: 0.8389 - accuracy: 0.749 - ETA: 22s - loss: 0.8386 - accuracy: 0.749 - ETA: 22s - loss: 0.8384 - accuracy: 0.749 - ETA: 22s - loss: 0.8387 - accuracy: 0.749 - ETA: 22s - loss: 0.8380 - accuracy: 0.749 - ETA: 22s - loss: 0.8378 - accuracy: 0.749 - ETA: 22s - loss: 0.8388 - accuracy: 0.749 - ETA: 22s - loss: 0.8391 - accuracy: 0.749 - ETA: 22s - loss: 0.8389 - accuracy: 0.749 - ETA: 22s - loss: 0.8387 - accuracy: 0.749 - ETA: 22s - loss: 0.8384 - accuracy: 0.749 - ETA: 22s - loss: 0.8385 - accuracy: 0.749 - ETA: 21s - loss: 0.8382 - accuracy: 0.749 - ETA: 21s - loss: 0.8376 - accuracy: 0.749 - ETA: 21s - loss: 0.8378 - accuracy: 0.749 - ETA: 21s - loss: 0.8377 - accuracy: 0.749 - ETA: 21s - loss: 0.8379 - accuracy: 0.749 - ETA: 21s - loss: 0.8377 - accuracy: 0.749 - ETA: 21s - loss: 0.8380 - accuracy: 0.749 - ETA: 21s - loss: 0.8381 - accuracy: 0.749 - ETA: 21s - loss: 0.8373 - accuracy: 0.750 - ETA: 21s - loss: 0.8375 - accuracy: 0.750 - ETA: 21s - loss: 0.8378 - accuracy: 0.749 - ETA: 21s - loss: 0.8377 - accuracy: 0.750 - ETA: 20s - loss: 0.8372 - accuracy: 0.750 - ETA: 20s - loss: 0.8370 - accuracy: 0.750 - ETA: 20s - loss: 0.8364 - accuracy: 0.750 - ETA: 20s - loss: 0.8359 - accuracy: 0.750 - ETA: 20s - loss: 0.8356 - accuracy: 0.750 - ETA: 20s - loss: 0.8353 - accuracy: 0.750 - ETA: 20s - loss: 0.8352 - accuracy: 0.750 - ETA: 20s - loss: 0.8354 - accuracy: 0.750 - ETA: 20s - loss: 0.8352 - accuracy: 0.750 - ETA: 20s - loss: 0.8353 - accuracy: 0.750 - ETA: 20s - loss: 0.8352 - accuracy: 0.750 - ETA: 20s - loss: 0.8353 - accuracy: 0.750 - ETA: 19s - loss: 0.8352 - accuracy: 0.750 - ETA: 19s - loss: 0.8350 - accuracy: 0.750 - ETA: 19s - loss: 0.8350 - accuracy: 0.750 - ETA: 19s - loss: 0.8348 - accuracy: 0.750 - ETA: 19s - loss: 0.8348 - accuracy: 0.750 - ETA: 19s - loss: 0.8346 - accuracy: 0.750 - ETA: 19s - loss: 0.8349 - accuracy: 0.750 - ETA: 19s - loss: 0.8348 - accuracy: 0.750 - ETA: 19s - loss: 0.8349 - accuracy: 0.750 - ETA: 19s - loss: 0.8348 - accuracy: 0.750 - ETA: 19s - loss: 0.8346 - accuracy: 0.750 - ETA: 19s - loss: 0.8342 - accuracy: 0.750 - ETA: 18s - loss: 0.8342 - accuracy: 0.750 - ETA: 18s - loss: 0.8339 - accuracy: 0.751 - ETA: 18s - loss: 0.8336 - accuracy: 0.751 - ETA: 18s - loss: 0.8336 - accuracy: 0.751 - ETA: 18s - loss: 0.8338 - accuracy: 0.751 - ETA: 18s - loss: 0.8336 - accuracy: 0.751 - ETA: 18s - loss: 0.8335 - accuracy: 0.751 - ETA: 18s - loss: 0.8330 - accuracy: 0.751 - ETA: 18s - loss: 0.8331 - accuracy: 0.751 - ETA: 18s - loss: 0.8335 - accuracy: 0.751 - ETA: 18s - loss: 0.8332 - accuracy: 0.751 - ETA: 18s - loss: 0.8334 - accuracy: 0.751 - ETA: 18s - loss: 0.8329 - accuracy: 0.751 - ETA: 17s - loss: 0.8329 - accuracy: 0.751 - ETA: 17s - loss: 0.8324 - accuracy: 0.751 - ETA: 17s - loss: 0.8322 - accuracy: 0.751 - ETA: 17s - loss: 0.8317 - accuracy: 0.751 - ETA: 17s - loss: 0.8317 - accuracy: 0.751 - ETA: 17s - loss: 0.8315 - accuracy: 0.751 - ETA: 17s - loss: 0.8314 - accuracy: 0.751 - ETA: 17s - loss: 0.8307 - accuracy: 0.751 - ETA: 17s - loss: 0.8308 - accuracy: 0.751 - ETA: 17s - loss: 0.8306 - accuracy: 0.751 - ETA: 17s - loss: 0.8302 - accuracy: 0.752 - ETA: 17s - loss: 0.8308 - accuracy: 0.751 - ETA: 17s - loss: 0.8310 - accuracy: 0.751 - ETA: 16s - loss: 0.8305 - accuracy: 0.751 - ETA: 16s - loss: 0.8304 - accuracy: 0.752 - ETA: 16s - loss: 0.8306 - accuracy: 0.751 - ETA: 16s - loss: 0.8306 - accuracy: 0.751 - ETA: 16s - loss: 0.8302 - accuracy: 0.752 - ETA: 16s - loss: 0.8297 - accuracy: 0.752 - ETA: 16s - loss: 0.8299 - accuracy: 0.752 - ETA: 16s - loss: 0.8301 - accuracy: 0.752 - ETA: 16s - loss: 0.8300 - accuracy: 0.752 - ETA: 16s - loss: 0.8301 - accuracy: 0.752 - ETA: 16s - loss: 0.8305 - accuracy: 0.751 - ETA: 16s - loss: 0.8302 - accuracy: 0.752 - ETA: 15s - loss: 0.8301 - accuracy: 0.752 - ETA: 15s - loss: 0.8305 - accuracy: 0.751 - ETA: 15s - loss: 0.8304 - accuracy: 0.752 - ETA: 15s - loss: 0.8300 - accuracy: 0.752 - ETA: 15s - loss: 0.8300 - accuracy: 0.752 - ETA: 15s - loss: 0.8297 - accuracy: 0.752 - ETA: 15s - loss: 0.8297 - accuracy: 0.752 - ETA: 15s - loss: 0.8299 - accuracy: 0.752 - ETA: 15s - loss: 0.8297 - accuracy: 0.752 - ETA: 15s - loss: 0.8295 - accuracy: 0.752 - ETA: 15s - loss: 0.8292 - accuracy: 0.752 - ETA: 15s - loss: 0.8291 - accuracy: 0.752 - ETA: 14s - loss: 0.8293 - accuracy: 0.752 - ETA: 14s - loss: 0.8291 - accuracy: 0.752 - ETA: 14s - loss: 0.8293 - accuracy: 0.752 - ETA: 14s - loss: 0.8293 - accuracy: 0.752 - ETA: 14s - loss: 0.8291 - accuracy: 0.752 - ETA: 14s - loss: 0.8292 - accuracy: 0.752 - ETA: 14s - loss: 0.8288 - accuracy: 0.752 - ETA: 14s - loss: 0.8288 - accuracy: 0.752 - ETA: 14s - loss: 0.8288 - accuracy: 0.752 - ETA: 14s - loss: 0.8285 - accuracy: 0.752 - ETA: 14s - loss: 0.8283 - accuracy: 0.752 - ETA: 14s - loss: 0.8278 - accuracy: 0.752 - ETA: 13s - loss: 0.8282 - accuracy: 0.752 - ETA: 13s - loss: 0.8279 - accuracy: 0.752 - ETA: 13s - loss: 0.8274 - accuracy: 0.752 - ETA: 13s - loss: 0.8272 - accuracy: 0.752 - ETA: 13s - loss: 0.8264 - accuracy: 0.753 - ETA: 13s - loss: 0.8264 - accuracy: 0.753 - ETA: 13s - loss: 0.8265 - accuracy: 0.753 - ETA: 13s - loss: 0.8263 - accuracy: 0.753 - ETA: 13s - loss: 0.8263 - accuracy: 0.753 - ETA: 13s - loss: 0.8263 - accuracy: 0.753 - ETA: 13s - loss: 0.8265 - accuracy: 0.753 - ETA: 13s - loss: 0.8265 - accuracy: 0.753 - ETA: 12s - loss: 0.8262 - accuracy: 0.753 - ETA: 12s - loss: 0.8259 - accuracy: 0.753 - ETA: 12s - loss: 0.8259 - accuracy: 0.753 - ETA: 12s - loss: 0.8258 - accuracy: 0.753 - ETA: 12s - loss: 0.8257 - accuracy: 0.753 - ETA: 12s - loss: 0.8257 - accuracy: 0.753 - ETA: 12s - loss: 0.8252 - accuracy: 0.753 - ETA: 12s - loss: 0.8251 - accuracy: 0.753 - ETA: 12s - loss: 0.8251 - accuracy: 0.753 - ETA: 12s - loss: 0.8254 - accuracy: 0.753 - ETA: 12s - loss: 0.8254 - accuracy: 0.753 - ETA: 12s - loss: 0.8252 - accuracy: 0.753 - ETA: 12s - loss: 0.8252 - accuracy: 0.753 - ETA: 11s - loss: 0.8252 - accuracy: 0.753 - ETA: 11s - loss: 0.8251 - accuracy: 0.753 - ETA: 11s - loss: 0.8252 - accuracy: 0.753 - ETA: 11s - loss: 0.8256 - accuracy: 0.753 - ETA: 11s - loss: 0.8256 - accuracy: 0.753 - ETA: 11s - loss: 0.8255 - accuracy: 0.753 - ETA: 11s - loss: 0.8253 - accuracy: 0.753 - ETA: 11s - loss: 0.8253 - accuracy: 0.753 - ETA: 11s - loss: 0.8249 - accuracy: 0.753 - ETA: 11s - loss: 0.8250 - accuracy: 0.753 - ETA: 11s - loss: 0.8248 - accuracy: 0.753 - ETA: 11s - loss: 0.8247 - accuracy: 0.753 - ETA: 10s - loss: 0.8244 - accuracy: 0.753 - ETA: 10s - loss: 0.8240 - accuracy: 0.753 - ETA: 10s - loss: 0.8240 - accuracy: 0.753 - ETA: 10s - loss: 0.8240 - accuracy: 0.753 - ETA: 10s - loss: 0.8239 - accuracy: 0.753 - ETA: 10s - loss: 0.8237 - accuracy: 0.754 - ETA: 10s - loss: 0.8235 - accuracy: 0.754 - ETA: 10s - loss: 0.8233 - accuracy: 0.754 - ETA: 10s - loss: 0.8236 - accuracy: 0.753 - ETA: 10s - loss: 0.8237 - accuracy: 0.753 - ETA: 10s - loss: 0.8236 - accuracy: 0.753 - ETA: 10s - loss: 0.8234 - accuracy: 0.753 - ETA: 10s - loss: 0.8238 - accuracy: 0.753 - ETA: 9s - loss: 0.8238 - accuracy: 0.753 - ETA: 9s - loss: 0.8238 - accuracy: 0.75 - ETA: 9s - loss: 0.8238 - accuracy: 0.75 - ETA: 9s - loss: 0.8239 - accuracy: 0.75 - ETA: 9s - loss: 0.8237 - accuracy: 0.75 - ETA: 9s - loss: 0.8237 - accuracy: 0.75 - ETA: 9s - loss: 0.8235 - accuracy: 0.75 - ETA: 9s - loss: 0.8234 - accuracy: 0.75 - ETA: 9s - loss: 0.8231 - accuracy: 0.75 - ETA: 9s - loss: 0.8228 - accuracy: 0.75 - ETA: 9s - loss: 0.8229 - accuracy: 0.75 - ETA: 9s - loss: 0.8227 - accuracy: 0.75 - ETA: 8s - loss: 0.8230 - accuracy: 0.75 - ETA: 8s - loss: 0.8229 - accuracy: 0.75 - ETA: 8s - loss: 0.8229 - accuracy: 0.75 - ETA: 8s - loss: 0.8229 - accuracy: 0.75 - ETA: 8s - loss: 0.8226 - accuracy: 0.75 - ETA: 8s - loss: 0.8226 - accuracy: 0.75 - ETA: 8s - loss: 0.8225 - accuracy: 0.75 - ETA: 8s - loss: 0.8222 - accuracy: 0.75 - ETA: 8s - loss: 0.8221 - accuracy: 0.75 - ETA: 8s - loss: 0.8219 - accuracy: 0.75 - ETA: 8s - loss: 0.8219 - accuracy: 0.75 - ETA: 8s - loss: 0.8218 - accuracy: 0.75 - ETA: 7s - loss: 0.8218 - accuracy: 0.75 - ETA: 7s - loss: 0.8215 - accuracy: 0.75 - ETA: 7s - loss: 0.8214 - accuracy: 0.75 - ETA: 7s - loss: 0.8215 - accuracy: 0.75 - ETA: 7s - loss: 0.8214 - accuracy: 0.75 - ETA: 7s - loss: 0.8213 - accuracy: 0.75 - ETA: 7s - loss: 0.8211 - accuracy: 0.75 - ETA: 7s - loss: 0.8213 - accuracy: 0.75 - ETA: 7s - loss: 0.8214 - accuracy: 0.75 - ETA: 7s - loss: 0.8215 - accuracy: 0.75 - ETA: 7s - loss: 0.8218 - accuracy: 0.75 - ETA: 7s - loss: 0.8220 - accuracy: 0.75 - ETA: 7s - loss: 0.8221 - accuracy: 0.75 - ETA: 6s - loss: 0.8219 - accuracy: 0.75 - ETA: 6s - loss: 0.8218 - accuracy: 0.75 - ETA: 6s - loss: 0.8220 - accuracy: 0.75 - ETA: 6s - loss: 0.8219 - accuracy: 0.75 - ETA: 6s - loss: 0.8217 - accuracy: 0.75 - ETA: 6s - loss: 0.8213 - accuracy: 0.75 - ETA: 6s - loss: 0.8214 - accuracy: 0.75 - ETA: 6s - loss: 0.8213 - accuracy: 0.75 - ETA: 6s - loss: 0.8210 - accuracy: 0.75 - ETA: 6s - loss: 0.8211 - accuracy: 0.75 - ETA: 6s - loss: 0.8210 - accuracy: 0.75 - ETA: 6s - loss: 0.8207 - accuracy: 0.75 - ETA: 5s - loss: 0.8206 - accuracy: 0.75 - ETA: 5s - loss: 0.8202 - accuracy: 0.75 - ETA: 5s - loss: 0.8201 - accuracy: 0.75 - ETA: 5s - loss: 0.8200 - accuracy: 0.75 - ETA: 5s - loss: 0.8198 - accuracy: 0.75 - ETA: 5s - loss: 0.8200 - accuracy: 0.75 - ETA: 5s - loss: 0.8200 - accuracy: 0.75 - ETA: 5s - loss: 0.8202 - accuracy: 0.75 - ETA: 5s - loss: 0.8202 - accuracy: 0.75 - ETA: 5s - loss: 0.8201 - accuracy: 0.75 - ETA: 5s - loss: 0.8201 - accuracy: 0.75 - ETA: 5s - loss: 0.8201 - accuracy: 0.75 - ETA: 4s - loss: 0.8204 - accuracy: 0.75 - ETA: 4s - loss: 0.8204 - accuracy: 0.75 - ETA: 4s - loss: 0.8205 - accuracy: 0.75 - ETA: 4s - loss: 0.8202 - accuracy: 0.75 - ETA: 4s - loss: 0.8204 - accuracy: 0.75 - ETA: 4s - loss: 0.8203 - accuracy: 0.75 - ETA: 4s - loss: 0.8202 - accuracy: 0.75 - ETA: 4s - loss: 0.8202 - accuracy: 0.75 - ETA: 4s - loss: 0.8201 - accuracy: 0.75 - ETA: 4s - loss: 0.8199 - accuracy: 0.75 - ETA: 4s - loss: 0.8194 - accuracy: 0.75 - ETA: 4s - loss: 0.8196 - accuracy: 0.75 - ETA: 3s - loss: 0.8194 - accuracy: 0.75 - ETA: 3s - loss: 0.8192 - accuracy: 0.75 - ETA: 3s - loss: 0.8191 - accuracy: 0.75 - ETA: 3s - loss: 0.8188 - accuracy: 0.75 - ETA: 3s - loss: 0.8189 - accuracy: 0.75 - ETA: 3s - loss: 0.8187 - accuracy: 0.75 - ETA: 3s - loss: 0.8186 - accuracy: 0.75 - ETA: 3s - loss: 0.8185 - accuracy: 0.75 - ETA: 3s - loss: 0.8181 - accuracy: 0.75 - ETA: 3s - loss: 0.8180 - accuracy: 0.75 - ETA: 3s - loss: 0.8178 - accuracy: 0.75 - ETA: 3s - loss: 0.8178 - accuracy: 0.75 - ETA: 3s - loss: 0.8175 - accuracy: 0.75 - ETA: 2s - loss: 0.8173 - accuracy: 0.75 - ETA: 2s - loss: 0.8172 - accuracy: 0.75 - ETA: 2s - loss: 0.8171 - accuracy: 0.75 - ETA: 2s - loss: 0.8170 - accuracy: 0.75 - ETA: 2s - loss: 0.8172 - accuracy: 0.75 - ETA: 2s - loss: 0.8171 - accuracy: 0.75 - ETA: 2s - loss: 0.8169 - accuracy: 0.75 - ETA: 2s - loss: 0.8169 - accuracy: 0.75 - ETA: 2s - loss: 0.8169 - accuracy: 0.75 - ETA: 2s - loss: 0.8170 - accuracy: 0.75 - ETA: 2s - loss: 0.8166 - accuracy: 0.75 - ETA: 2s - loss: 0.8167 - accuracy: 0.75 - ETA: 1s - loss: 0.8168 - accuracy: 0.75 - ETA: 1s - loss: 0.8169 - accuracy: 0.75 - ETA: 1s - loss: 0.8168 - accuracy: 0.75 - ETA: 1s - loss: 0.8169 - accuracy: 0.75 - ETA: 1s - loss: 0.8171 - accuracy: 0.75 - ETA: 1s - loss: 0.8171 - accuracy: 0.75 - ETA: 1s - loss: 0.8171 - accuracy: 0.75 - ETA: 1s - loss: 0.8170 - accuracy: 0.75 - ETA: 1s - loss: 0.8169 - accuracy: 0.75 - ETA: 1s - loss: 0.8168 - accuracy: 0.75 - ETA: 1s - loss: 0.8166 - accuracy: 0.75 - ETA: 1s - loss: 0.8165 - accuracy: 0.75 - ETA: 0s - loss: 0.8163 - accuracy: 0.75 - ETA: 0s - loss: 0.8162 - accuracy: 0.75 - ETA: 0s - loss: 0.8163 - accuracy: 0.75 - ETA: 0s - loss: 0.8163 - accuracy: 0.75 - ETA: 0s - loss: 0.8163 - accuracy: 0.75 - ETA: 0s - loss: 0.8166 - accuracy: 0.75 - ETA: 0s - loss: 0.8165 - accuracy: 0.75 - ETA: 0s - loss: 0.8165 - accuracy: 0.75 - ETA: 0s - loss: 0.8162 - accuracy: 0.75 - ETA: 0s - loss: 0.8163 - accuracy: 0.75 - ETA: 0s - loss: 0.8166 - accuracy: 0.75 - ETA: 0s - loss: 0.8164 - accuracy: 0.75 - 42s 324us/sample - loss: 0.8163 - accuracy: 0.7556 - val_loss: 0.8117 - val_accuracy: 0.7550\n",
      "Epoch 3/5\n",
      "128470/128470 [==============================] - ETA: 39s - loss: 0.6222 - accuracy: 0.804 - ETA: 39s - loss: 0.5903 - accuracy: 0.825 - ETA: 39s - loss: 0.5874 - accuracy: 0.825 - ETA: 39s - loss: 0.5815 - accuracy: 0.824 - ETA: 39s - loss: 0.5848 - accuracy: 0.823 - ETA: 38s - loss: 0.5775 - accuracy: 0.828 - ETA: 38s - loss: 0.5841 - accuracy: 0.820 - ETA: 38s - loss: 0.5904 - accuracy: 0.822 - ETA: 38s - loss: 0.5978 - accuracy: 0.818 - ETA: 38s - loss: 0.5927 - accuracy: 0.820 - ETA: 38s - loss: 0.5937 - accuracy: 0.822 - ETA: 38s - loss: 0.5970 - accuracy: 0.819 - ETA: 38s - loss: 0.5983 - accuracy: 0.819 - ETA: 38s - loss: 0.6004 - accuracy: 0.820 - ETA: 38s - loss: 0.6006 - accuracy: 0.820 - ETA: 38s - loss: 0.6094 - accuracy: 0.816 - ETA: 38s - loss: 0.6068 - accuracy: 0.818 - ETA: 37s - loss: 0.6040 - accuracy: 0.817 - ETA: 37s - loss: 0.5990 - accuracy: 0.819 - ETA: 37s - loss: 0.6022 - accuracy: 0.818 - ETA: 37s - loss: 0.6046 - accuracy: 0.816 - ETA: 37s - loss: 0.6038 - accuracy: 0.817 - ETA: 37s - loss: 0.6025 - accuracy: 0.817 - ETA: 37s - loss: 0.6057 - accuracy: 0.816 - ETA: 37s - loss: 0.6064 - accuracy: 0.815 - ETA: 37s - loss: 0.6059 - accuracy: 0.815 - ETA: 37s - loss: 0.6065 - accuracy: 0.816 - ETA: 37s - loss: 0.6065 - accuracy: 0.816 - ETA: 37s - loss: 0.6081 - accuracy: 0.816 - ETA: 37s - loss: 0.6041 - accuracy: 0.818 - ETA: 37s - loss: 0.6014 - accuracy: 0.818 - ETA: 36s - loss: 0.6069 - accuracy: 0.817 - ETA: 36s - loss: 0.6081 - accuracy: 0.816 - ETA: 36s - loss: 0.6083 - accuracy: 0.816 - ETA: 36s - loss: 0.6093 - accuracy: 0.816 - ETA: 36s - loss: 0.6076 - accuracy: 0.817 - ETA: 36s - loss: 0.6083 - accuracy: 0.817 - ETA: 36s - loss: 0.6091 - accuracy: 0.816 - ETA: 36s - loss: 0.6075 - accuracy: 0.816 - ETA: 36s - loss: 0.6086 - accuracy: 0.816 - ETA: 36s - loss: 0.6083 - accuracy: 0.816 - ETA: 36s - loss: 0.6089 - accuracy: 0.816 - ETA: 36s - loss: 0.6079 - accuracy: 0.816 - ETA: 36s - loss: 0.6084 - accuracy: 0.817 - ETA: 35s - loss: 0.6076 - accuracy: 0.817 - ETA: 35s - loss: 0.6054 - accuracy: 0.818 - ETA: 35s - loss: 0.6052 - accuracy: 0.818 - ETA: 35s - loss: 0.6055 - accuracy: 0.818 - ETA: 35s - loss: 0.6056 - accuracy: 0.818 - ETA: 35s - loss: 0.6059 - accuracy: 0.818 - ETA: 35s - loss: 0.6055 - accuracy: 0.818 - ETA: 35s - loss: 0.6035 - accuracy: 0.818 - ETA: 35s - loss: 0.6044 - accuracy: 0.818 - ETA: 35s - loss: 0.6047 - accuracy: 0.818 - ETA: 35s - loss: 0.6047 - accuracy: 0.817 - ETA: 35s - loss: 0.6058 - accuracy: 0.817 - ETA: 35s - loss: 0.6046 - accuracy: 0.817 - ETA: 35s - loss: 0.6070 - accuracy: 0.817 - ETA: 34s - loss: 0.6069 - accuracy: 0.817 - ETA: 34s - loss: 0.6077 - accuracy: 0.817 - ETA: 34s - loss: 0.6077 - accuracy: 0.817 - ETA: 34s - loss: 0.6074 - accuracy: 0.817 - ETA: 34s - loss: 0.6062 - accuracy: 0.817 - ETA: 34s - loss: 0.6059 - accuracy: 0.817 - ETA: 34s - loss: 0.6059 - accuracy: 0.817 - ETA: 34s - loss: 0.6063 - accuracy: 0.817 - ETA: 34s - loss: 0.6054 - accuracy: 0.817 - ETA: 34s - loss: 0.6051 - accuracy: 0.817 - ETA: 34s - loss: 0.6045 - accuracy: 0.817 - ETA: 34s - loss: 0.6049 - accuracy: 0.817 - ETA: 33s - loss: 0.6038 - accuracy: 0.817 - ETA: 33s - loss: 0.6045 - accuracy: 0.817 - ETA: 33s - loss: 0.6025 - accuracy: 0.817 - ETA: 33s - loss: 0.6025 - accuracy: 0.817 - ETA: 33s - loss: 0.6044 - accuracy: 0.816 - ETA: 33s - loss: 0.6046 - accuracy: 0.816 - ETA: 33s - loss: 0.6046 - accuracy: 0.816 - ETA: 33s - loss: 0.6052 - accuracy: 0.816 - ETA: 33s - loss: 0.6046 - accuracy: 0.816 - ETA: 33s - loss: 0.6048 - accuracy: 0.816 - ETA: 33s - loss: 0.6050 - accuracy: 0.816 - ETA: 33s - loss: 0.6064 - accuracy: 0.815 - ETA: 33s - loss: 0.6063 - accuracy: 0.815 - ETA: 32s - loss: 0.6068 - accuracy: 0.815 - ETA: 32s - loss: 0.6068 - accuracy: 0.815 - ETA: 32s - loss: 0.6081 - accuracy: 0.814 - ETA: 32s - loss: 0.6083 - accuracy: 0.814 - ETA: 32s - loss: 0.6080 - accuracy: 0.814 - ETA: 32s - loss: 0.6080 - accuracy: 0.815 - ETA: 32s - loss: 0.6081 - accuracy: 0.814 - ETA: 32s - loss: 0.6090 - accuracy: 0.814 - ETA: 32s - loss: 0.6100 - accuracy: 0.814 - ETA: 32s - loss: 0.6108 - accuracy: 0.814 - ETA: 32s - loss: 0.6103 - accuracy: 0.814 - ETA: 32s - loss: 0.6095 - accuracy: 0.814 - ETA: 31s - loss: 0.6094 - accuracy: 0.814 - ETA: 31s - loss: 0.6103 - accuracy: 0.814 - ETA: 31s - loss: 0.6105 - accuracy: 0.814 - ETA: 31s - loss: 0.6122 - accuracy: 0.814 - ETA: 31s - loss: 0.6129 - accuracy: 0.813 - ETA: 31s - loss: 0.6127 - accuracy: 0.814 - ETA: 31s - loss: 0.6124 - accuracy: 0.814 - ETA: 31s - loss: 0.6123 - accuracy: 0.814 - ETA: 31s - loss: 0.6124 - accuracy: 0.814 - ETA: 31s - loss: 0.6126 - accuracy: 0.813 - ETA: 31s - loss: 0.6129 - accuracy: 0.813 - ETA: 31s - loss: 0.6123 - accuracy: 0.814 - ETA: 31s - loss: 0.6121 - accuracy: 0.814 - ETA: 31s - loss: 0.6113 - accuracy: 0.814 - ETA: 30s - loss: 0.6113 - accuracy: 0.814 - ETA: 30s - loss: 0.6113 - accuracy: 0.815 - ETA: 30s - loss: 0.6118 - accuracy: 0.814 - ETA: 30s - loss: 0.6124 - accuracy: 0.814 - ETA: 30s - loss: 0.6128 - accuracy: 0.814 - ETA: 30s - loss: 0.6122 - accuracy: 0.814 - ETA: 30s - loss: 0.6124 - accuracy: 0.814 - ETA: 30s - loss: 0.6121 - accuracy: 0.814 - ETA: 30s - loss: 0.6125 - accuracy: 0.814 - ETA: 30s - loss: 0.6124 - accuracy: 0.813 - ETA: 30s - loss: 0.6128 - accuracy: 0.813 - ETA: 30s - loss: 0.6122 - accuracy: 0.813 - ETA: 30s - loss: 0.6119 - accuracy: 0.814 - ETA: 30s - loss: 0.6124 - accuracy: 0.814 - ETA: 29s - loss: 0.6133 - accuracy: 0.813 - ETA: 29s - loss: 0.6135 - accuracy: 0.813 - ETA: 29s - loss: 0.6135 - accuracy: 0.813 - ETA: 29s - loss: 0.6139 - accuracy: 0.813 - ETA: 29s - loss: 0.6141 - accuracy: 0.813 - ETA: 29s - loss: 0.6146 - accuracy: 0.813 - ETA: 29s - loss: 0.6148 - accuracy: 0.813 - ETA: 29s - loss: 0.6145 - accuracy: 0.813 - ETA: 29s - loss: 0.6147 - accuracy: 0.813 - ETA: 29s - loss: 0.6146 - accuracy: 0.813 - ETA: 29s - loss: 0.6142 - accuracy: 0.813 - ETA: 29s - loss: 0.6140 - accuracy: 0.813 - ETA: 29s - loss: 0.6136 - accuracy: 0.813 - ETA: 29s - loss: 0.6138 - accuracy: 0.813 - ETA: 29s - loss: 0.6146 - accuracy: 0.812 - ETA: 28s - loss: 0.6152 - accuracy: 0.812 - ETA: 28s - loss: 0.6163 - accuracy: 0.812 - ETA: 28s - loss: 0.6159 - accuracy: 0.812 - ETA: 28s - loss: 0.6163 - accuracy: 0.812 - ETA: 28s - loss: 0.6157 - accuracy: 0.812 - ETA: 28s - loss: 0.6164 - accuracy: 0.812 - ETA: 28s - loss: 0.6163 - accuracy: 0.812 - ETA: 28s - loss: 0.6166 - accuracy: 0.812 - ETA: 28s - loss: 0.6162 - accuracy: 0.812 - ETA: 28s - loss: 0.6160 - accuracy: 0.812 - ETA: 28s - loss: 0.6152 - accuracy: 0.812 - ETA: 28s - loss: 0.6150 - accuracy: 0.812 - ETA: 28s - loss: 0.6153 - accuracy: 0.812 - ETA: 28s - loss: 0.6153 - accuracy: 0.812 - ETA: 27s - loss: 0.6152 - accuracy: 0.812 - ETA: 27s - loss: 0.6153 - accuracy: 0.812 - ETA: 27s - loss: 0.6148 - accuracy: 0.812 - ETA: 27s - loss: 0.6151 - accuracy: 0.812 - ETA: 27s - loss: 0.6153 - accuracy: 0.812 - ETA: 27s - loss: 0.6158 - accuracy: 0.812 - ETA: 27s - loss: 0.6152 - accuracy: 0.812 - ETA: 27s - loss: 0.6154 - accuracy: 0.812 - ETA: 27s - loss: 0.6153 - accuracy: 0.812 - ETA: 27s - loss: 0.6150 - accuracy: 0.812 - ETA: 27s - loss: 0.6150 - accuracy: 0.812 - ETA: 27s - loss: 0.6151 - accuracy: 0.812 - ETA: 27s - loss: 0.6152 - accuracy: 0.812 - ETA: 26s - loss: 0.6158 - accuracy: 0.812 - ETA: 26s - loss: 0.6161 - accuracy: 0.812 - ETA: 26s - loss: 0.6159 - accuracy: 0.812 - ETA: 26s - loss: 0.6164 - accuracy: 0.812 - ETA: 26s - loss: 0.6175 - accuracy: 0.811 - ETA: 26s - loss: 0.6174 - accuracy: 0.811 - ETA: 26s - loss: 0.6181 - accuracy: 0.811 - ETA: 26s - loss: 0.6185 - accuracy: 0.811 - ETA: 26s - loss: 0.6185 - accuracy: 0.811 - ETA: 26s - loss: 0.6186 - accuracy: 0.811 - ETA: 26s - loss: 0.6178 - accuracy: 0.811 - ETA: 26s - loss: 0.6178 - accuracy: 0.811 - ETA: 26s - loss: 0.6176 - accuracy: 0.811 - ETA: 25s - loss: 0.6172 - accuracy: 0.811 - ETA: 25s - loss: 0.6175 - accuracy: 0.811 - ETA: 25s - loss: 0.6173 - accuracy: 0.811 - ETA: 25s - loss: 0.6177 - accuracy: 0.811 - ETA: 25s - loss: 0.6182 - accuracy: 0.811 - ETA: 25s - loss: 0.6182 - accuracy: 0.811 - ETA: 25s - loss: 0.6180 - accuracy: 0.811 - ETA: 25s - loss: 0.6182 - accuracy: 0.811 - ETA: 25s - loss: 0.6180 - accuracy: 0.811 - ETA: 25s - loss: 0.6179 - accuracy: 0.811 - ETA: 25s - loss: 0.6180 - accuracy: 0.811 - ETA: 25s - loss: 0.6178 - accuracy: 0.811 - ETA: 24s - loss: 0.6177 - accuracy: 0.811 - ETA: 24s - loss: 0.6185 - accuracy: 0.811 - ETA: 24s - loss: 0.6187 - accuracy: 0.811 - ETA: 24s - loss: 0.6192 - accuracy: 0.811 - ETA: 24s - loss: 0.6189 - accuracy: 0.811 - ETA: 24s - loss: 0.6192 - accuracy: 0.811 - ETA: 24s - loss: 0.6191 - accuracy: 0.811 - ETA: 24s - loss: 0.6194 - accuracy: 0.811 - ETA: 24s - loss: 0.6189 - accuracy: 0.811 - ETA: 24s - loss: 0.6196 - accuracy: 0.811 - ETA: 24s - loss: 0.6192 - accuracy: 0.811 - ETA: 24s - loss: 0.6196 - accuracy: 0.811 - ETA: 24s - loss: 0.6200 - accuracy: 0.810 - ETA: 23s - loss: 0.6203 - accuracy: 0.810 - ETA: 23s - loss: 0.6207 - accuracy: 0.810 - ETA: 23s - loss: 0.6210 - accuracy: 0.810 - ETA: 23s - loss: 0.6209 - accuracy: 0.810 - ETA: 23s - loss: 0.6205 - accuracy: 0.810 - ETA: 23s - loss: 0.6202 - accuracy: 0.810 - ETA: 23s - loss: 0.6201 - accuracy: 0.810 - ETA: 23s - loss: 0.6198 - accuracy: 0.810 - ETA: 23s - loss: 0.6196 - accuracy: 0.810 - ETA: 23s - loss: 0.6194 - accuracy: 0.810 - ETA: 23s - loss: 0.6195 - accuracy: 0.810 - ETA: 23s - loss: 0.6192 - accuracy: 0.810 - ETA: 23s - loss: 0.6196 - accuracy: 0.810 - ETA: 22s - loss: 0.6190 - accuracy: 0.810 - ETA: 22s - loss: 0.6192 - accuracy: 0.810 - ETA: 22s - loss: 0.6192 - accuracy: 0.810 - ETA: 22s - loss: 0.6194 - accuracy: 0.810 - ETA: 22s - loss: 0.6192 - accuracy: 0.810 - ETA: 22s - loss: 0.6191 - accuracy: 0.810 - ETA: 22s - loss: 0.6192 - accuracy: 0.810 - ETA: 22s - loss: 0.6191 - accuracy: 0.811 - ETA: 22s - loss: 0.6190 - accuracy: 0.811 - ETA: 22s - loss: 0.6186 - accuracy: 0.810 - ETA: 22s - loss: 0.6184 - accuracy: 0.811 - ETA: 22s - loss: 0.6188 - accuracy: 0.810 - ETA: 21s - loss: 0.6189 - accuracy: 0.810 - ETA: 21s - loss: 0.6189 - accuracy: 0.810 - ETA: 21s - loss: 0.6190 - accuracy: 0.810 - ETA: 21s - loss: 0.6188 - accuracy: 0.810 - ETA: 21s - loss: 0.6185 - accuracy: 0.810 - ETA: 21s - loss: 0.6186 - accuracy: 0.810 - ETA: 21s - loss: 0.6185 - accuracy: 0.810 - ETA: 21s - loss: 0.6190 - accuracy: 0.810 - ETA: 21s - loss: 0.6189 - accuracy: 0.810 - ETA: 21s - loss: 0.6191 - accuracy: 0.810 - ETA: 21s - loss: 0.6192 - accuracy: 0.810 - ETA: 21s - loss: 0.6196 - accuracy: 0.810 - ETA: 21s - loss: 0.6194 - accuracy: 0.810 - ETA: 20s - loss: 0.6200 - accuracy: 0.810 - ETA: 20s - loss: 0.6192 - accuracy: 0.810 - ETA: 20s - loss: 0.6196 - accuracy: 0.810 - ETA: 20s - loss: 0.6196 - accuracy: 0.810 - ETA: 20s - loss: 0.6198 - accuracy: 0.810 - ETA: 20s - loss: 0.6197 - accuracy: 0.810 - ETA: 20s - loss: 0.6200 - accuracy: 0.810 - ETA: 20s - loss: 0.6204 - accuracy: 0.810 - ETA: 20s - loss: 0.6207 - accuracy: 0.810 - ETA: 20s - loss: 0.6209 - accuracy: 0.810 - ETA: 20s - loss: 0.6210 - accuracy: 0.810 - ETA: 20s - loss: 0.6208 - accuracy: 0.810 - ETA: 20s - loss: 0.6212 - accuracy: 0.810 - ETA: 19s - loss: 0.6211 - accuracy: 0.810 - ETA: 19s - loss: 0.6217 - accuracy: 0.809 - ETA: 19s - loss: 0.6220 - accuracy: 0.809 - ETA: 19s - loss: 0.6216 - accuracy: 0.809 - ETA: 19s - loss: 0.6212 - accuracy: 0.810 - ETA: 19s - loss: 0.6214 - accuracy: 0.809 - ETA: 19s - loss: 0.6216 - accuracy: 0.809 - ETA: 19s - loss: 0.6218 - accuracy: 0.809 - ETA: 19s - loss: 0.6217 - accuracy: 0.809 - ETA: 19s - loss: 0.6216 - accuracy: 0.809 - ETA: 19s - loss: 0.6216 - accuracy: 0.809 - ETA: 19s - loss: 0.6218 - accuracy: 0.809 - ETA: 18s - loss: 0.6216 - accuracy: 0.809 - ETA: 18s - loss: 0.6217 - accuracy: 0.809 - ETA: 18s - loss: 0.6214 - accuracy: 0.810 - ETA: 18s - loss: 0.6216 - accuracy: 0.809 - ETA: 18s - loss: 0.6217 - accuracy: 0.809 - ETA: 18s - loss: 0.6216 - accuracy: 0.809 - ETA: 18s - loss: 0.6216 - accuracy: 0.809 - ETA: 18s - loss: 0.6217 - accuracy: 0.809 - ETA: 18s - loss: 0.6218 - accuracy: 0.809 - ETA: 18s - loss: 0.6226 - accuracy: 0.809 - ETA: 18s - loss: 0.6224 - accuracy: 0.809 - ETA: 18s - loss: 0.6225 - accuracy: 0.809 - ETA: 17s - loss: 0.6228 - accuracy: 0.809 - ETA: 17s - loss: 0.6225 - accuracy: 0.809 - ETA: 17s - loss: 0.6221 - accuracy: 0.809 - ETA: 17s - loss: 0.6219 - accuracy: 0.810 - ETA: 17s - loss: 0.6216 - accuracy: 0.810 - ETA: 17s - loss: 0.6211 - accuracy: 0.810 - ETA: 17s - loss: 0.6216 - accuracy: 0.810 - ETA: 17s - loss: 0.6217 - accuracy: 0.810 - ETA: 17s - loss: 0.6212 - accuracy: 0.810 - ETA: 17s - loss: 0.6211 - accuracy: 0.810 - ETA: 17s - loss: 0.6212 - accuracy: 0.810 - ETA: 17s - loss: 0.6213 - accuracy: 0.810 - ETA: 17s - loss: 0.6220 - accuracy: 0.810 - ETA: 16s - loss: 0.6219 - accuracy: 0.810 - ETA: 16s - loss: 0.6224 - accuracy: 0.809 - ETA: 16s - loss: 0.6221 - accuracy: 0.810 - ETA: 16s - loss: 0.6226 - accuracy: 0.809 - ETA: 16s - loss: 0.6225 - accuracy: 0.809 - ETA: 16s - loss: 0.6221 - accuracy: 0.809 - ETA: 16s - loss: 0.6219 - accuracy: 0.809 - ETA: 16s - loss: 0.6222 - accuracy: 0.809 - ETA: 16s - loss: 0.6223 - accuracy: 0.809 - ETA: 16s - loss: 0.6222 - accuracy: 0.809 - ETA: 16s - loss: 0.6223 - accuracy: 0.809 - ETA: 16s - loss: 0.6223 - accuracy: 0.809 - ETA: 15s - loss: 0.6223 - accuracy: 0.809 - ETA: 15s - loss: 0.6221 - accuracy: 0.809 - ETA: 15s - loss: 0.6222 - accuracy: 0.809 - ETA: 15s - loss: 0.6225 - accuracy: 0.809 - ETA: 15s - loss: 0.6223 - accuracy: 0.809 - ETA: 15s - loss: 0.6223 - accuracy: 0.809 - ETA: 15s - loss: 0.6221 - accuracy: 0.809 - ETA: 15s - loss: 0.6225 - accuracy: 0.809 - ETA: 15s - loss: 0.6224 - accuracy: 0.809 - ETA: 15s - loss: 0.6220 - accuracy: 0.809 - ETA: 15s - loss: 0.6222 - accuracy: 0.809 - ETA: 15s - loss: 0.6225 - accuracy: 0.809 - ETA: 15s - loss: 0.6224 - accuracy: 0.809 - ETA: 14s - loss: 0.6224 - accuracy: 0.809 - ETA: 14s - loss: 0.6228 - accuracy: 0.809 - ETA: 14s - loss: 0.6229 - accuracy: 0.809 - ETA: 14s - loss: 0.6228 - accuracy: 0.809 - ETA: 14s - loss: 0.6230 - accuracy: 0.809 - ETA: 14s - loss: 0.6228 - accuracy: 0.809 - ETA: 14s - loss: 0.6229 - accuracy: 0.809 - ETA: 14s - loss: 0.6232 - accuracy: 0.809 - ETA: 14s - loss: 0.6229 - accuracy: 0.809 - ETA: 14s - loss: 0.6229 - accuracy: 0.809 - ETA: 14s - loss: 0.6228 - accuracy: 0.809 - ETA: 14s - loss: 0.6232 - accuracy: 0.809 - ETA: 13s - loss: 0.6231 - accuracy: 0.809 - ETA: 13s - loss: 0.6232 - accuracy: 0.809 - ETA: 13s - loss: 0.6232 - accuracy: 0.809 - ETA: 13s - loss: 0.6232 - accuracy: 0.809 - ETA: 13s - loss: 0.6231 - accuracy: 0.809 - ETA: 13s - loss: 0.6232 - accuracy: 0.809 - ETA: 13s - loss: 0.6231 - accuracy: 0.809 - ETA: 13s - loss: 0.6237 - accuracy: 0.809 - ETA: 13s - loss: 0.6236 - accuracy: 0.809 - ETA: 13s - loss: 0.6237 - accuracy: 0.809 - ETA: 13s - loss: 0.6240 - accuracy: 0.809 - ETA: 13s - loss: 0.6239 - accuracy: 0.809 - ETA: 13s - loss: 0.6237 - accuracy: 0.809 - ETA: 12s - loss: 0.6241 - accuracy: 0.809 - ETA: 12s - loss: 0.6242 - accuracy: 0.809 - ETA: 12s - loss: 0.6241 - accuracy: 0.809 - ETA: 12s - loss: 0.6240 - accuracy: 0.809 - ETA: 12s - loss: 0.6240 - accuracy: 0.809 - ETA: 12s - loss: 0.6243 - accuracy: 0.809 - ETA: 12s - loss: 0.6242 - accuracy: 0.809 - ETA: 12s - loss: 0.6241 - accuracy: 0.809 - ETA: 12s - loss: 0.6241 - accuracy: 0.809 - ETA: 12s - loss: 0.6238 - accuracy: 0.809 - ETA: 12s - loss: 0.6237 - accuracy: 0.809 - ETA: 12s - loss: 0.6237 - accuracy: 0.809 - ETA: 11s - loss: 0.6237 - accuracy: 0.809 - ETA: 11s - loss: 0.6237 - accuracy: 0.809 - ETA: 11s - loss: 0.6239 - accuracy: 0.809 - ETA: 11s - loss: 0.6237 - accuracy: 0.809 - ETA: 11s - loss: 0.6239 - accuracy: 0.809 - ETA: 11s - loss: 0.6241 - accuracy: 0.809 - ETA: 11s - loss: 0.6239 - accuracy: 0.809 - ETA: 11s - loss: 0.6243 - accuracy: 0.809 - ETA: 11s - loss: 0.6246 - accuracy: 0.809 - ETA: 11s - loss: 0.6249 - accuracy: 0.809 - ETA: 11s - loss: 0.6251 - accuracy: 0.809 - ETA: 11s - loss: 0.6251 - accuracy: 0.809 - ETA: 11s - loss: 0.6253 - accuracy: 0.809 - ETA: 10s - loss: 0.6254 - accuracy: 0.809 - ETA: 10s - loss: 0.6256 - accuracy: 0.809 - ETA: 10s - loss: 0.6260 - accuracy: 0.809 - ETA: 10s - loss: 0.6261 - accuracy: 0.809 - ETA: 10s - loss: 0.6262 - accuracy: 0.809 - ETA: 10s - loss: 0.6265 - accuracy: 0.809 - ETA: 10s - loss: 0.6264 - accuracy: 0.809 - ETA: 10s - loss: 0.6262 - accuracy: 0.809 - ETA: 10s - loss: 0.6262 - accuracy: 0.809 - ETA: 10s - loss: 0.6260 - accuracy: 0.809 - ETA: 10s - loss: 0.6261 - accuracy: 0.809 - ETA: 10s - loss: 0.6263 - accuracy: 0.809 - ETA: 10s - loss: 0.6264 - accuracy: 0.809 - ETA: 9s - loss: 0.6265 - accuracy: 0.809 - ETA: 9s - loss: 0.6264 - accuracy: 0.80 - ETA: 9s - loss: 0.6267 - accuracy: 0.80 - ETA: 9s - loss: 0.6271 - accuracy: 0.80 - ETA: 9s - loss: 0.6274 - accuracy: 0.80 - ETA: 9s - loss: 0.6275 - accuracy: 0.80 - ETA: 9s - loss: 0.6272 - accuracy: 0.80 - ETA: 9s - loss: 0.6272 - accuracy: 0.80 - ETA: 9s - loss: 0.6275 - accuracy: 0.80 - ETA: 9s - loss: 0.6276 - accuracy: 0.80 - ETA: 9s - loss: 0.6276 - accuracy: 0.80 - ETA: 9s - loss: 0.6278 - accuracy: 0.80 - ETA: 9s - loss: 0.6276 - accuracy: 0.80 - ETA: 8s - loss: 0.6280 - accuracy: 0.80 - ETA: 8s - loss: 0.6279 - accuracy: 0.80 - ETA: 8s - loss: 0.6278 - accuracy: 0.80 - ETA: 8s - loss: 0.6274 - accuracy: 0.80 - ETA: 8s - loss: 0.6275 - accuracy: 0.80 - ETA: 8s - loss: 0.6276 - accuracy: 0.80 - ETA: 8s - loss: 0.6275 - accuracy: 0.80 - ETA: 8s - loss: 0.6273 - accuracy: 0.80 - ETA: 8s - loss: 0.6275 - accuracy: 0.80 - ETA: 8s - loss: 0.6275 - accuracy: 0.80 - ETA: 8s - loss: 0.6275 - accuracy: 0.80 - ETA: 8s - loss: 0.6272 - accuracy: 0.80 - ETA: 7s - loss: 0.6272 - accuracy: 0.80 - ETA: 7s - loss: 0.6271 - accuracy: 0.80 - ETA: 7s - loss: 0.6273 - accuracy: 0.80 - ETA: 7s - loss: 0.6273 - accuracy: 0.80 - ETA: 7s - loss: 0.6271 - accuracy: 0.80 - ETA: 7s - loss: 0.6272 - accuracy: 0.80 - ETA: 7s - loss: 0.6272 - accuracy: 0.80 - ETA: 7s - loss: 0.6271 - accuracy: 0.80 - ETA: 7s - loss: 0.6271 - accuracy: 0.80 - ETA: 7s - loss: 0.6273 - accuracy: 0.80 - ETA: 7s - loss: 0.6274 - accuracy: 0.80 - ETA: 7s - loss: 0.6275 - accuracy: 0.80 - ETA: 7s - loss: 0.6272 - accuracy: 0.80 - ETA: 6s - loss: 0.6271 - accuracy: 0.80 - ETA: 6s - loss: 0.6271 - accuracy: 0.80 - ETA: 6s - loss: 0.6272 - accuracy: 0.80 - ETA: 6s - loss: 0.6271 - accuracy: 0.80 - ETA: 6s - loss: 0.6274 - accuracy: 0.80 - ETA: 6s - loss: 0.6272 - accuracy: 0.80 - ETA: 6s - loss: 0.6275 - accuracy: 0.80 - ETA: 6s - loss: 0.6274 - accuracy: 0.80 - ETA: 6s - loss: 0.6272 - accuracy: 0.80 - ETA: 6s - loss: 0.6273 - accuracy: 0.80 - ETA: 6s - loss: 0.6272 - accuracy: 0.80 - ETA: 6s - loss: 0.6271 - accuracy: 0.80 - ETA: 5s - loss: 0.6271 - accuracy: 0.80 - ETA: 5s - loss: 0.6275 - accuracy: 0.80 - ETA: 5s - loss: 0.6274 - accuracy: 0.80 - ETA: 5s - loss: 0.6274 - accuracy: 0.80 - ETA: 5s - loss: 0.6275 - accuracy: 0.80 - ETA: 5s - loss: 0.6273 - accuracy: 0.80 - ETA: 5s - loss: 0.6271 - accuracy: 0.80 - ETA: 5s - loss: 0.6276 - accuracy: 0.80 - ETA: 5s - loss: 0.6276 - accuracy: 0.80 - ETA: 5s - loss: 0.6275 - accuracy: 0.80 - ETA: 5s - loss: 0.6275 - accuracy: 0.80 - ETA: 5s - loss: 0.6275 - accuracy: 0.80 - ETA: 5s - loss: 0.6275 - accuracy: 0.80 - ETA: 4s - loss: 0.6276 - accuracy: 0.80 - ETA: 4s - loss: 0.6275 - accuracy: 0.80 - ETA: 4s - loss: 0.6272 - accuracy: 0.80 - ETA: 4s - loss: 0.6272 - accuracy: 0.80 - ETA: 4s - loss: 0.6274 - accuracy: 0.80 - ETA: 4s - loss: 0.6276 - accuracy: 0.80 - ETA: 4s - loss: 0.6276 - accuracy: 0.80 - ETA: 4s - loss: 0.6274 - accuracy: 0.80 - ETA: 4s - loss: 0.6277 - accuracy: 0.80 - ETA: 4s - loss: 0.6278 - accuracy: 0.80 - ETA: 4s - loss: 0.6281 - accuracy: 0.80 - ETA: 4s - loss: 0.6281 - accuracy: 0.80 - ETA: 3s - loss: 0.6280 - accuracy: 0.80 - ETA: 3s - loss: 0.6280 - accuracy: 0.80 - ETA: 3s - loss: 0.6280 - accuracy: 0.80 - ETA: 3s - loss: 0.6280 - accuracy: 0.80 - ETA: 3s - loss: 0.6282 - accuracy: 0.80 - ETA: 3s - loss: 0.6281 - accuracy: 0.80 - ETA: 3s - loss: 0.6282 - accuracy: 0.80 - ETA: 3s - loss: 0.6282 - accuracy: 0.80 - ETA: 3s - loss: 0.6283 - accuracy: 0.80 - ETA: 3s - loss: 0.6282 - accuracy: 0.80 - ETA: 3s - loss: 0.6284 - accuracy: 0.80 - ETA: 3s - loss: 0.6283 - accuracy: 0.80 - ETA: 3s - loss: 0.6285 - accuracy: 0.80 - ETA: 2s - loss: 0.6288 - accuracy: 0.80 - ETA: 2s - loss: 0.6288 - accuracy: 0.80 - ETA: 2s - loss: 0.6289 - accuracy: 0.80 - ETA: 2s - loss: 0.6288 - accuracy: 0.80 - ETA: 2s - loss: 0.6289 - accuracy: 0.80 - ETA: 2s - loss: 0.6290 - accuracy: 0.80 - ETA: 2s - loss: 0.6290 - accuracy: 0.80 - ETA: 2s - loss: 0.6288 - accuracy: 0.80 - ETA: 2s - loss: 0.6288 - accuracy: 0.80 - ETA: 2s - loss: 0.6290 - accuracy: 0.80 - ETA: 2s - loss: 0.6289 - accuracy: 0.80 - ETA: 2s - loss: 0.6290 - accuracy: 0.80 - ETA: 1s - loss: 0.6290 - accuracy: 0.80 - ETA: 1s - loss: 0.6288 - accuracy: 0.80 - ETA: 1s - loss: 0.6289 - accuracy: 0.80 - ETA: 1s - loss: 0.6290 - accuracy: 0.80 - ETA: 1s - loss: 0.6292 - accuracy: 0.80 - ETA: 1s - loss: 0.6290 - accuracy: 0.80 - ETA: 1s - loss: 0.6291 - accuracy: 0.80 - ETA: 1s - loss: 0.6290 - accuracy: 0.80 - ETA: 1s - loss: 0.6292 - accuracy: 0.80 - ETA: 1s - loss: 0.6291 - accuracy: 0.80 - ETA: 1s - loss: 0.6289 - accuracy: 0.80 - ETA: 1s - loss: 0.6288 - accuracy: 0.80 - ETA: 0s - loss: 0.6288 - accuracy: 0.80 - ETA: 0s - loss: 0.6288 - accuracy: 0.80 - ETA: 0s - loss: 0.6288 - accuracy: 0.80 - ETA: 0s - loss: 0.6285 - accuracy: 0.80 - ETA: 0s - loss: 0.6285 - accuracy: 0.80 - ETA: 0s - loss: 0.6284 - accuracy: 0.80 - ETA: 0s - loss: 0.6284 - accuracy: 0.80 - ETA: 0s - loss: 0.6286 - accuracy: 0.80 - ETA: 0s - loss: 0.6284 - accuracy: 0.80 - ETA: 0s - loss: 0.6284 - accuracy: 0.80 - ETA: 0s - loss: 0.6285 - accuracy: 0.80 - ETA: 0s - loss: 0.6284 - accuracy: 0.80 - ETA: 0s - loss: 0.6283 - accuracy: 0.80 - 41s 320us/sample - loss: 0.6283 - accuracy: 0.8081 - val_loss: 0.8056 - val_accuracy: 0.7549\n",
      "Epoch 4/5\n",
      "128470/128470 [==============================] - ETA: 38s - loss: 0.4619 - accuracy: 0.828 - ETA: 40s - loss: 0.4014 - accuracy: 0.867 - ETA: 39s - loss: 0.4818 - accuracy: 0.848 - ETA: 39s - loss: 0.4484 - accuracy: 0.857 - ETA: 39s - loss: 0.4504 - accuracy: 0.860 - ETA: 40s - loss: 0.4337 - accuracy: 0.865 - ETA: 40s - loss: 0.4436 - accuracy: 0.863 - ETA: 39s - loss: 0.4485 - accuracy: 0.859 - ETA: 39s - loss: 0.4529 - accuracy: 0.860 - ETA: 40s - loss: 0.4584 - accuracy: 0.856 - ETA: 40s - loss: 0.4534 - accuracy: 0.857 - ETA: 40s - loss: 0.4559 - accuracy: 0.857 - ETA: 39s - loss: 0.4626 - accuracy: 0.854 - ETA: 39s - loss: 0.4667 - accuracy: 0.853 - ETA: 39s - loss: 0.4698 - accuracy: 0.854 - ETA: 39s - loss: 0.4705 - accuracy: 0.853 - ETA: 39s - loss: 0.4705 - accuracy: 0.852 - ETA: 39s - loss: 0.4705 - accuracy: 0.852 - ETA: 39s - loss: 0.4803 - accuracy: 0.851 - ETA: 39s - loss: 0.4828 - accuracy: 0.851 - ETA: 39s - loss: 0.4816 - accuracy: 0.851 - ETA: 39s - loss: 0.4808 - accuracy: 0.852 - ETA: 39s - loss: 0.4831 - accuracy: 0.851 - ETA: 38s - loss: 0.4818 - accuracy: 0.852 - ETA: 38s - loss: 0.4815 - accuracy: 0.852 - ETA: 38s - loss: 0.4785 - accuracy: 0.853 - ETA: 38s - loss: 0.4789 - accuracy: 0.853 - ETA: 38s - loss: 0.4777 - accuracy: 0.854 - ETA: 38s - loss: 0.4741 - accuracy: 0.855 - ETA: 38s - loss: 0.4719 - accuracy: 0.856 - ETA: 38s - loss: 0.4726 - accuracy: 0.856 - ETA: 38s - loss: 0.4722 - accuracy: 0.855 - ETA: 37s - loss: 0.4715 - accuracy: 0.856 - ETA: 37s - loss: 0.4688 - accuracy: 0.857 - ETA: 37s - loss: 0.4711 - accuracy: 0.856 - ETA: 37s - loss: 0.4722 - accuracy: 0.855 - ETA: 37s - loss: 0.4722 - accuracy: 0.856 - ETA: 37s - loss: 0.4732 - accuracy: 0.855 - ETA: 37s - loss: 0.4728 - accuracy: 0.855 - ETA: 37s - loss: 0.4730 - accuracy: 0.855 - ETA: 37s - loss: 0.4719 - accuracy: 0.856 - ETA: 37s - loss: 0.4708 - accuracy: 0.857 - ETA: 37s - loss: 0.4699 - accuracy: 0.857 - ETA: 37s - loss: 0.4695 - accuracy: 0.857 - ETA: 36s - loss: 0.4683 - accuracy: 0.858 - ETA: 36s - loss: 0.4669 - accuracy: 0.859 - ETA: 36s - loss: 0.4675 - accuracy: 0.858 - ETA: 36s - loss: 0.4688 - accuracy: 0.858 - ETA: 36s - loss: 0.4705 - accuracy: 0.857 - ETA: 36s - loss: 0.4697 - accuracy: 0.858 - ETA: 36s - loss: 0.4675 - accuracy: 0.859 - ETA: 36s - loss: 0.4683 - accuracy: 0.859 - ETA: 36s - loss: 0.4688 - accuracy: 0.859 - ETA: 36s - loss: 0.4679 - accuracy: 0.859 - ETA: 36s - loss: 0.4686 - accuracy: 0.859 - ETA: 36s - loss: 0.4684 - accuracy: 0.859 - ETA: 36s - loss: 0.4680 - accuracy: 0.859 - ETA: 36s - loss: 0.4691 - accuracy: 0.858 - ETA: 35s - loss: 0.4675 - accuracy: 0.859 - ETA: 35s - loss: 0.4677 - accuracy: 0.858 - ETA: 35s - loss: 0.4678 - accuracy: 0.858 - ETA: 35s - loss: 0.4682 - accuracy: 0.858 - ETA: 35s - loss: 0.4672 - accuracy: 0.859 - ETA: 35s - loss: 0.4659 - accuracy: 0.859 - ETA: 35s - loss: 0.4665 - accuracy: 0.859 - ETA: 35s - loss: 0.4672 - accuracy: 0.859 - ETA: 35s - loss: 0.4667 - accuracy: 0.859 - ETA: 35s - loss: 0.4664 - accuracy: 0.859 - ETA: 35s - loss: 0.4656 - accuracy: 0.859 - ETA: 35s - loss: 0.4660 - accuracy: 0.859 - ETA: 34s - loss: 0.4666 - accuracy: 0.858 - ETA: 34s - loss: 0.4686 - accuracy: 0.858 - ETA: 34s - loss: 0.4685 - accuracy: 0.858 - ETA: 34s - loss: 0.4674 - accuracy: 0.858 - ETA: 34s - loss: 0.4672 - accuracy: 0.859 - ETA: 34s - loss: 0.4680 - accuracy: 0.859 - ETA: 34s - loss: 0.4695 - accuracy: 0.858 - ETA: 34s - loss: 0.4691 - accuracy: 0.859 - ETA: 34s - loss: 0.4693 - accuracy: 0.859 - ETA: 34s - loss: 0.4696 - accuracy: 0.858 - ETA: 34s - loss: 0.4692 - accuracy: 0.858 - ETA: 34s - loss: 0.4692 - accuracy: 0.859 - ETA: 34s - loss: 0.4683 - accuracy: 0.859 - ETA: 34s - loss: 0.4686 - accuracy: 0.859 - ETA: 33s - loss: 0.4682 - accuracy: 0.858 - ETA: 33s - loss: 0.4686 - accuracy: 0.858 - ETA: 33s - loss: 0.4687 - accuracy: 0.858 - ETA: 33s - loss: 0.4693 - accuracy: 0.858 - ETA: 33s - loss: 0.4691 - accuracy: 0.858 - ETA: 33s - loss: 0.4689 - accuracy: 0.858 - ETA: 33s - loss: 0.4689 - accuracy: 0.858 - ETA: 33s - loss: 0.4680 - accuracy: 0.858 - ETA: 33s - loss: 0.4682 - accuracy: 0.858 - ETA: 33s - loss: 0.4685 - accuracy: 0.858 - ETA: 33s - loss: 0.4692 - accuracy: 0.858 - ETA: 33s - loss: 0.4690 - accuracy: 0.858 - ETA: 32s - loss: 0.4700 - accuracy: 0.858 - ETA: 32s - loss: 0.4696 - accuracy: 0.858 - ETA: 32s - loss: 0.4707 - accuracy: 0.858 - ETA: 32s - loss: 0.4706 - accuracy: 0.858 - ETA: 32s - loss: 0.4702 - accuracy: 0.858 - ETA: 32s - loss: 0.4702 - accuracy: 0.857 - ETA: 32s - loss: 0.4700 - accuracy: 0.857 - ETA: 32s - loss: 0.4688 - accuracy: 0.858 - ETA: 32s - loss: 0.4691 - accuracy: 0.857 - ETA: 32s - loss: 0.4698 - accuracy: 0.857 - ETA: 32s - loss: 0.4701 - accuracy: 0.857 - ETA: 32s - loss: 0.4695 - accuracy: 0.857 - ETA: 31s - loss: 0.4689 - accuracy: 0.857 - ETA: 31s - loss: 0.4690 - accuracy: 0.857 - ETA: 31s - loss: 0.4688 - accuracy: 0.857 - ETA: 31s - loss: 0.4689 - accuracy: 0.858 - ETA: 31s - loss: 0.4685 - accuracy: 0.858 - ETA: 31s - loss: 0.4688 - accuracy: 0.858 - ETA: 31s - loss: 0.4681 - accuracy: 0.858 - ETA: 31s - loss: 0.4687 - accuracy: 0.858 - ETA: 31s - loss: 0.4680 - accuracy: 0.858 - ETA: 31s - loss: 0.4682 - accuracy: 0.858 - ETA: 31s - loss: 0.4680 - accuracy: 0.858 - ETA: 31s - loss: 0.4680 - accuracy: 0.858 - ETA: 30s - loss: 0.4676 - accuracy: 0.858 - ETA: 30s - loss: 0.4671 - accuracy: 0.858 - ETA: 30s - loss: 0.4674 - accuracy: 0.858 - ETA: 30s - loss: 0.4680 - accuracy: 0.858 - ETA: 30s - loss: 0.4690 - accuracy: 0.858 - ETA: 30s - loss: 0.4687 - accuracy: 0.858 - ETA: 30s - loss: 0.4691 - accuracy: 0.858 - ETA: 30s - loss: 0.4703 - accuracy: 0.857 - ETA: 30s - loss: 0.4701 - accuracy: 0.857 - ETA: 30s - loss: 0.4707 - accuracy: 0.857 - ETA: 30s - loss: 0.4713 - accuracy: 0.857 - ETA: 30s - loss: 0.4713 - accuracy: 0.857 - ETA: 29s - loss: 0.4709 - accuracy: 0.857 - ETA: 29s - loss: 0.4716 - accuracy: 0.857 - ETA: 29s - loss: 0.4717 - accuracy: 0.857 - ETA: 29s - loss: 0.4720 - accuracy: 0.857 - ETA: 29s - loss: 0.4714 - accuracy: 0.857 - ETA: 29s - loss: 0.4716 - accuracy: 0.857 - ETA: 29s - loss: 0.4711 - accuracy: 0.857 - ETA: 29s - loss: 0.4708 - accuracy: 0.858 - ETA: 29s - loss: 0.4713 - accuracy: 0.857 - ETA: 29s - loss: 0.4721 - accuracy: 0.857 - ETA: 29s - loss: 0.4721 - accuracy: 0.857 - ETA: 29s - loss: 0.4723 - accuracy: 0.857 - ETA: 29s - loss: 0.4721 - accuracy: 0.857 - ETA: 29s - loss: 0.4725 - accuracy: 0.857 - ETA: 28s - loss: 0.4725 - accuracy: 0.857 - ETA: 28s - loss: 0.4728 - accuracy: 0.857 - ETA: 28s - loss: 0.4730 - accuracy: 0.857 - ETA: 28s - loss: 0.4733 - accuracy: 0.857 - ETA: 28s - loss: 0.4738 - accuracy: 0.857 - ETA: 28s - loss: 0.4741 - accuracy: 0.857 - ETA: 28s - loss: 0.4742 - accuracy: 0.857 - ETA: 28s - loss: 0.4741 - accuracy: 0.856 - ETA: 28s - loss: 0.4743 - accuracy: 0.856 - ETA: 28s - loss: 0.4745 - accuracy: 0.856 - ETA: 28s - loss: 0.4745 - accuracy: 0.856 - ETA: 28s - loss: 0.4751 - accuracy: 0.856 - ETA: 27s - loss: 0.4749 - accuracy: 0.856 - ETA: 27s - loss: 0.4749 - accuracy: 0.856 - ETA: 27s - loss: 0.4751 - accuracy: 0.855 - ETA: 27s - loss: 0.4749 - accuracy: 0.855 - ETA: 27s - loss: 0.4755 - accuracy: 0.855 - ETA: 27s - loss: 0.4751 - accuracy: 0.855 - ETA: 27s - loss: 0.4752 - accuracy: 0.855 - ETA: 27s - loss: 0.4756 - accuracy: 0.855 - ETA: 27s - loss: 0.4767 - accuracy: 0.855 - ETA: 27s - loss: 0.4763 - accuracy: 0.855 - ETA: 27s - loss: 0.4761 - accuracy: 0.855 - ETA: 27s - loss: 0.4758 - accuracy: 0.855 - ETA: 27s - loss: 0.4765 - accuracy: 0.855 - ETA: 26s - loss: 0.4766 - accuracy: 0.855 - ETA: 26s - loss: 0.4765 - accuracy: 0.855 - ETA: 26s - loss: 0.4761 - accuracy: 0.855 - ETA: 26s - loss: 0.4762 - accuracy: 0.855 - ETA: 26s - loss: 0.4761 - accuracy: 0.855 - ETA: 26s - loss: 0.4760 - accuracy: 0.855 - ETA: 26s - loss: 0.4760 - accuracy: 0.855 - ETA: 26s - loss: 0.4757 - accuracy: 0.855 - ETA: 26s - loss: 0.4753 - accuracy: 0.855 - ETA: 26s - loss: 0.4750 - accuracy: 0.855 - ETA: 26s - loss: 0.4751 - accuracy: 0.855 - ETA: 26s - loss: 0.4748 - accuracy: 0.855 - ETA: 26s - loss: 0.4749 - accuracy: 0.855 - ETA: 25s - loss: 0.4753 - accuracy: 0.855 - ETA: 25s - loss: 0.4750 - accuracy: 0.855 - ETA: 25s - loss: 0.4752 - accuracy: 0.855 - ETA: 25s - loss: 0.4751 - accuracy: 0.855 - ETA: 25s - loss: 0.4757 - accuracy: 0.855 - ETA: 25s - loss: 0.4755 - accuracy: 0.855 - ETA: 25s - loss: 0.4758 - accuracy: 0.855 - ETA: 25s - loss: 0.4757 - accuracy: 0.855 - ETA: 25s - loss: 0.4759 - accuracy: 0.855 - ETA: 25s - loss: 0.4763 - accuracy: 0.855 - ETA: 25s - loss: 0.4769 - accuracy: 0.854 - ETA: 25s - loss: 0.4774 - accuracy: 0.854 - ETA: 24s - loss: 0.4774 - accuracy: 0.854 - ETA: 24s - loss: 0.4776 - accuracy: 0.854 - ETA: 24s - loss: 0.4776 - accuracy: 0.854 - ETA: 24s - loss: 0.4779 - accuracy: 0.854 - ETA: 24s - loss: 0.4772 - accuracy: 0.854 - ETA: 24s - loss: 0.4775 - accuracy: 0.854 - ETA: 24s - loss: 0.4775 - accuracy: 0.854 - ETA: 24s - loss: 0.4778 - accuracy: 0.854 - ETA: 24s - loss: 0.4779 - accuracy: 0.854 - ETA: 24s - loss: 0.4779 - accuracy: 0.854 - ETA: 24s - loss: 0.4784 - accuracy: 0.854 - ETA: 24s - loss: 0.4789 - accuracy: 0.854 - ETA: 24s - loss: 0.4793 - accuracy: 0.854 - ETA: 24s - loss: 0.4794 - accuracy: 0.854 - ETA: 24s - loss: 0.4795 - accuracy: 0.853 - ETA: 24s - loss: 0.4799 - accuracy: 0.853 - ETA: 23s - loss: 0.4805 - accuracy: 0.853 - ETA: 23s - loss: 0.4802 - accuracy: 0.854 - ETA: 23s - loss: 0.4809 - accuracy: 0.853 - ETA: 23s - loss: 0.4805 - accuracy: 0.853 - ETA: 23s - loss: 0.4802 - accuracy: 0.853 - ETA: 23s - loss: 0.4803 - accuracy: 0.853 - ETA: 23s - loss: 0.4802 - accuracy: 0.853 - ETA: 23s - loss: 0.4803 - accuracy: 0.853 - ETA: 23s - loss: 0.4804 - accuracy: 0.853 - ETA: 23s - loss: 0.4803 - accuracy: 0.853 - ETA: 23s - loss: 0.4799 - accuracy: 0.853 - ETA: 23s - loss: 0.4798 - accuracy: 0.853 - ETA: 23s - loss: 0.4797 - accuracy: 0.853 - ETA: 22s - loss: 0.4800 - accuracy: 0.853 - ETA: 22s - loss: 0.4800 - accuracy: 0.853 - ETA: 22s - loss: 0.4800 - accuracy: 0.853 - ETA: 22s - loss: 0.4798 - accuracy: 0.853 - ETA: 22s - loss: 0.4798 - accuracy: 0.853 - ETA: 22s - loss: 0.4799 - accuracy: 0.853 - ETA: 22s - loss: 0.4801 - accuracy: 0.853 - ETA: 22s - loss: 0.4801 - accuracy: 0.853 - ETA: 22s - loss: 0.4804 - accuracy: 0.853 - ETA: 22s - loss: 0.4801 - accuracy: 0.853 - ETA: 22s - loss: 0.4803 - accuracy: 0.853 - ETA: 22s - loss: 0.4808 - accuracy: 0.853 - ETA: 21s - loss: 0.4811 - accuracy: 0.853 - ETA: 21s - loss: 0.4815 - accuracy: 0.853 - ETA: 21s - loss: 0.4816 - accuracy: 0.853 - ETA: 21s - loss: 0.4815 - accuracy: 0.853 - ETA: 21s - loss: 0.4819 - accuracy: 0.852 - ETA: 21s - loss: 0.4822 - accuracy: 0.852 - ETA: 21s - loss: 0.4821 - accuracy: 0.852 - ETA: 21s - loss: 0.4816 - accuracy: 0.852 - ETA: 21s - loss: 0.4816 - accuracy: 0.852 - ETA: 21s - loss: 0.4815 - accuracy: 0.852 - ETA: 21s - loss: 0.4813 - accuracy: 0.852 - ETA: 21s - loss: 0.4812 - accuracy: 0.852 - ETA: 21s - loss: 0.4813 - accuracy: 0.852 - ETA: 21s - loss: 0.4818 - accuracy: 0.852 - ETA: 20s - loss: 0.4817 - accuracy: 0.852 - ETA: 20s - loss: 0.4817 - accuracy: 0.852 - ETA: 20s - loss: 0.4819 - accuracy: 0.852 - ETA: 20s - loss: 0.4819 - accuracy: 0.852 - ETA: 20s - loss: 0.4821 - accuracy: 0.852 - ETA: 20s - loss: 0.4822 - accuracy: 0.852 - ETA: 20s - loss: 0.4820 - accuracy: 0.852 - ETA: 20s - loss: 0.4822 - accuracy: 0.852 - ETA: 20s - loss: 0.4822 - accuracy: 0.852 - ETA: 20s - loss: 0.4823 - accuracy: 0.852 - ETA: 20s - loss: 0.4822 - accuracy: 0.852 - ETA: 20s - loss: 0.4818 - accuracy: 0.852 - ETA: 20s - loss: 0.4816 - accuracy: 0.852 - ETA: 20s - loss: 0.4818 - accuracy: 0.852 - ETA: 19s - loss: 0.4820 - accuracy: 0.852 - ETA: 19s - loss: 0.4821 - accuracy: 0.852 - ETA: 19s - loss: 0.4822 - accuracy: 0.852 - ETA: 19s - loss: 0.4822 - accuracy: 0.852 - ETA: 19s - loss: 0.4820 - accuracy: 0.852 - ETA: 19s - loss: 0.4824 - accuracy: 0.852 - ETA: 19s - loss: 0.4821 - accuracy: 0.852 - ETA: 19s - loss: 0.4821 - accuracy: 0.852 - ETA: 19s - loss: 0.4819 - accuracy: 0.852 - ETA: 19s - loss: 0.4817 - accuracy: 0.852 - ETA: 19s - loss: 0.4816 - accuracy: 0.852 - ETA: 19s - loss: 0.4815 - accuracy: 0.852 - ETA: 19s - loss: 0.4816 - accuracy: 0.852 - ETA: 18s - loss: 0.4814 - accuracy: 0.852 - ETA: 18s - loss: 0.4817 - accuracy: 0.852 - ETA: 18s - loss: 0.4817 - accuracy: 0.852 - ETA: 18s - loss: 0.4819 - accuracy: 0.852 - ETA: 18s - loss: 0.4817 - accuracy: 0.852 - ETA: 18s - loss: 0.4819 - accuracy: 0.852 - ETA: 18s - loss: 0.4819 - accuracy: 0.852 - ETA: 18s - loss: 0.4820 - accuracy: 0.852 - ETA: 18s - loss: 0.4817 - accuracy: 0.852 - ETA: 18s - loss: 0.4822 - accuracy: 0.852 - ETA: 18s - loss: 0.4825 - accuracy: 0.852 - ETA: 18s - loss: 0.4825 - accuracy: 0.852 - ETA: 17s - loss: 0.4828 - accuracy: 0.852 - ETA: 17s - loss: 0.4827 - accuracy: 0.852 - ETA: 17s - loss: 0.4828 - accuracy: 0.852 - ETA: 17s - loss: 0.4828 - accuracy: 0.852 - ETA: 17s - loss: 0.4830 - accuracy: 0.852 - ETA: 17s - loss: 0.4830 - accuracy: 0.852 - ETA: 17s - loss: 0.4828 - accuracy: 0.852 - ETA: 17s - loss: 0.4830 - accuracy: 0.852 - ETA: 17s - loss: 0.4832 - accuracy: 0.852 - ETA: 17s - loss: 0.4834 - accuracy: 0.852 - ETA: 17s - loss: 0.4834 - accuracy: 0.852 - ETA: 17s - loss: 0.4832 - accuracy: 0.852 - ETA: 17s - loss: 0.4832 - accuracy: 0.852 - ETA: 16s - loss: 0.4834 - accuracy: 0.852 - ETA: 16s - loss: 0.4834 - accuracy: 0.852 - ETA: 16s - loss: 0.4836 - accuracy: 0.852 - ETA: 16s - loss: 0.4836 - accuracy: 0.852 - ETA: 16s - loss: 0.4836 - accuracy: 0.852 - ETA: 16s - loss: 0.4838 - accuracy: 0.852 - ETA: 16s - loss: 0.4839 - accuracy: 0.852 - ETA: 16s - loss: 0.4840 - accuracy: 0.851 - ETA: 16s - loss: 0.4840 - accuracy: 0.851 - ETA: 16s - loss: 0.4840 - accuracy: 0.851 - ETA: 16s - loss: 0.4839 - accuracy: 0.851 - ETA: 16s - loss: 0.4841 - accuracy: 0.851 - ETA: 15s - loss: 0.4841 - accuracy: 0.851 - ETA: 15s - loss: 0.4841 - accuracy: 0.851 - ETA: 15s - loss: 0.4842 - accuracy: 0.851 - ETA: 15s - loss: 0.4843 - accuracy: 0.851 - ETA: 15s - loss: 0.4841 - accuracy: 0.851 - ETA: 15s - loss: 0.4841 - accuracy: 0.851 - ETA: 15s - loss: 0.4843 - accuracy: 0.851 - ETA: 15s - loss: 0.4846 - accuracy: 0.851 - ETA: 15s - loss: 0.4846 - accuracy: 0.851 - ETA: 15s - loss: 0.4848 - accuracy: 0.851 - ETA: 15s - loss: 0.4847 - accuracy: 0.851 - ETA: 15s - loss: 0.4849 - accuracy: 0.851 - ETA: 14s - loss: 0.4849 - accuracy: 0.851 - ETA: 14s - loss: 0.4849 - accuracy: 0.851 - ETA: 14s - loss: 0.4853 - accuracy: 0.851 - ETA: 14s - loss: 0.4851 - accuracy: 0.851 - ETA: 14s - loss: 0.4851 - accuracy: 0.851 - ETA: 14s - loss: 0.4851 - accuracy: 0.851 - ETA: 14s - loss: 0.4853 - accuracy: 0.851 - ETA: 14s - loss: 0.4854 - accuracy: 0.851 - ETA: 14s - loss: 0.4855 - accuracy: 0.851 - ETA: 14s - loss: 0.4856 - accuracy: 0.851 - ETA: 14s - loss: 0.4857 - accuracy: 0.851 - ETA: 14s - loss: 0.4857 - accuracy: 0.851 - ETA: 13s - loss: 0.4854 - accuracy: 0.851 - ETA: 13s - loss: 0.4853 - accuracy: 0.851 - ETA: 13s - loss: 0.4853 - accuracy: 0.851 - ETA: 13s - loss: 0.4857 - accuracy: 0.851 - ETA: 13s - loss: 0.4856 - accuracy: 0.851 - ETA: 13s - loss: 0.4854 - accuracy: 0.851 - ETA: 13s - loss: 0.4855 - accuracy: 0.851 - ETA: 13s - loss: 0.4854 - accuracy: 0.851 - ETA: 13s - loss: 0.4857 - accuracy: 0.851 - ETA: 13s - loss: 0.4858 - accuracy: 0.851 - ETA: 13s - loss: 0.4858 - accuracy: 0.851 - ETA: 13s - loss: 0.4861 - accuracy: 0.851 - ETA: 12s - loss: 0.4862 - accuracy: 0.851 - ETA: 12s - loss: 0.4862 - accuracy: 0.851 - ETA: 12s - loss: 0.4862 - accuracy: 0.851 - ETA: 12s - loss: 0.4862 - accuracy: 0.851 - ETA: 12s - loss: 0.4862 - accuracy: 0.851 - ETA: 12s - loss: 0.4864 - accuracy: 0.850 - ETA: 12s - loss: 0.4864 - accuracy: 0.850 - ETA: 12s - loss: 0.4863 - accuracy: 0.850 - ETA: 12s - loss: 0.4865 - accuracy: 0.850 - ETA: 12s - loss: 0.4867 - accuracy: 0.850 - ETA: 12s - loss: 0.4867 - accuracy: 0.850 - ETA: 12s - loss: 0.4864 - accuracy: 0.850 - ETA: 11s - loss: 0.4865 - accuracy: 0.850 - ETA: 11s - loss: 0.4866 - accuracy: 0.850 - ETA: 11s - loss: 0.4864 - accuracy: 0.850 - ETA: 11s - loss: 0.4861 - accuracy: 0.851 - ETA: 11s - loss: 0.4860 - accuracy: 0.851 - ETA: 11s - loss: 0.4862 - accuracy: 0.851 - ETA: 11s - loss: 0.4863 - accuracy: 0.850 - ETA: 11s - loss: 0.4861 - accuracy: 0.851 - ETA: 11s - loss: 0.4861 - accuracy: 0.851 - ETA: 11s - loss: 0.4857 - accuracy: 0.851 - ETA: 11s - loss: 0.4855 - accuracy: 0.851 - ETA: 11s - loss: 0.4856 - accuracy: 0.851 - ETA: 11s - loss: 0.4856 - accuracy: 0.851 - ETA: 10s - loss: 0.4858 - accuracy: 0.851 - ETA: 10s - loss: 0.4858 - accuracy: 0.851 - ETA: 10s - loss: 0.4861 - accuracy: 0.850 - ETA: 10s - loss: 0.4860 - accuracy: 0.851 - ETA: 10s - loss: 0.4863 - accuracy: 0.850 - ETA: 10s - loss: 0.4862 - accuracy: 0.850 - ETA: 10s - loss: 0.4861 - accuracy: 0.850 - ETA: 10s - loss: 0.4860 - accuracy: 0.850 - ETA: 10s - loss: 0.4860 - accuracy: 0.850 - ETA: 10s - loss: 0.4861 - accuracy: 0.850 - ETA: 10s - loss: 0.4860 - accuracy: 0.850 - ETA: 10s - loss: 0.4862 - accuracy: 0.850 - ETA: 9s - loss: 0.4862 - accuracy: 0.850 - ETA: 9s - loss: 0.4862 - accuracy: 0.85 - ETA: 9s - loss: 0.4863 - accuracy: 0.85 - ETA: 9s - loss: 0.4868 - accuracy: 0.85 - ETA: 9s - loss: 0.4869 - accuracy: 0.85 - ETA: 9s - loss: 0.4871 - accuracy: 0.85 - ETA: 9s - loss: 0.4872 - accuracy: 0.85 - ETA: 9s - loss: 0.4875 - accuracy: 0.85 - ETA: 9s - loss: 0.4875 - accuracy: 0.85 - ETA: 9s - loss: 0.4875 - accuracy: 0.85 - ETA: 9s - loss: 0.4880 - accuracy: 0.84 - ETA: 9s - loss: 0.4880 - accuracy: 0.84 - ETA: 8s - loss: 0.4881 - accuracy: 0.84 - ETA: 8s - loss: 0.4884 - accuracy: 0.84 - ETA: 8s - loss: 0.4884 - accuracy: 0.84 - ETA: 8s - loss: 0.4885 - accuracy: 0.84 - ETA: 8s - loss: 0.4884 - accuracy: 0.84 - ETA: 8s - loss: 0.4885 - accuracy: 0.84 - ETA: 8s - loss: 0.4886 - accuracy: 0.84 - ETA: 8s - loss: 0.4888 - accuracy: 0.84 - ETA: 8s - loss: 0.4888 - accuracy: 0.84 - ETA: 8s - loss: 0.4888 - accuracy: 0.84 - ETA: 8s - loss: 0.4891 - accuracy: 0.84 - ETA: 8s - loss: 0.4895 - accuracy: 0.84 - ETA: 7s - loss: 0.4895 - accuracy: 0.84 - ETA: 7s - loss: 0.4898 - accuracy: 0.84 - ETA: 7s - loss: 0.4897 - accuracy: 0.84 - ETA: 7s - loss: 0.4896 - accuracy: 0.84 - ETA: 7s - loss: 0.4894 - accuracy: 0.84 - ETA: 7s - loss: 0.4893 - accuracy: 0.84 - ETA: 7s - loss: 0.4896 - accuracy: 0.84 - ETA: 7s - loss: 0.4899 - accuracy: 0.84 - ETA: 7s - loss: 0.4900 - accuracy: 0.84 - ETA: 7s - loss: 0.4900 - accuracy: 0.84 - ETA: 7s - loss: 0.4900 - accuracy: 0.84 - ETA: 7s - loss: 0.4898 - accuracy: 0.84 - ETA: 6s - loss: 0.4899 - accuracy: 0.84 - ETA: 6s - loss: 0.4898 - accuracy: 0.84 - ETA: 6s - loss: 0.4898 - accuracy: 0.84 - ETA: 6s - loss: 0.4899 - accuracy: 0.84 - ETA: 6s - loss: 0.4902 - accuracy: 0.84 - ETA: 6s - loss: 0.4900 - accuracy: 0.84 - ETA: 6s - loss: 0.4901 - accuracy: 0.84 - ETA: 6s - loss: 0.4903 - accuracy: 0.84 - ETA: 6s - loss: 0.4902 - accuracy: 0.84 - ETA: 6s - loss: 0.4902 - accuracy: 0.84 - ETA: 6s - loss: 0.4904 - accuracy: 0.84 - ETA: 6s - loss: 0.4905 - accuracy: 0.84 - ETA: 5s - loss: 0.4906 - accuracy: 0.84 - ETA: 5s - loss: 0.4907 - accuracy: 0.84 - ETA: 5s - loss: 0.4911 - accuracy: 0.84 - ETA: 5s - loss: 0.4913 - accuracy: 0.84 - ETA: 5s - loss: 0.4914 - accuracy: 0.84 - ETA: 5s - loss: 0.4915 - accuracy: 0.84 - ETA: 5s - loss: 0.4918 - accuracy: 0.84 - ETA: 5s - loss: 0.4919 - accuracy: 0.84 - ETA: 5s - loss: 0.4921 - accuracy: 0.84 - ETA: 5s - loss: 0.4920 - accuracy: 0.84 - ETA: 5s - loss: 0.4920 - accuracy: 0.84 - ETA: 5s - loss: 0.4919 - accuracy: 0.84 - ETA: 4s - loss: 0.4920 - accuracy: 0.84 - ETA: 4s - loss: 0.4920 - accuracy: 0.84 - ETA: 4s - loss: 0.4921 - accuracy: 0.84 - ETA: 4s - loss: 0.4921 - accuracy: 0.84 - ETA: 4s - loss: 0.4923 - accuracy: 0.84 - ETA: 4s - loss: 0.4923 - accuracy: 0.84 - ETA: 4s - loss: 0.4924 - accuracy: 0.84 - ETA: 4s - loss: 0.4927 - accuracy: 0.84 - ETA: 4s - loss: 0.4927 - accuracy: 0.84 - ETA: 4s - loss: 0.4925 - accuracy: 0.84 - ETA: 4s - loss: 0.4924 - accuracy: 0.84 - ETA: 4s - loss: 0.4924 - accuracy: 0.84 - ETA: 3s - loss: 0.4922 - accuracy: 0.84 - ETA: 3s - loss: 0.4922 - accuracy: 0.84 - ETA: 3s - loss: 0.4922 - accuracy: 0.84 - ETA: 3s - loss: 0.4923 - accuracy: 0.84 - ETA: 3s - loss: 0.4924 - accuracy: 0.84 - ETA: 3s - loss: 0.4925 - accuracy: 0.84 - ETA: 3s - loss: 0.4926 - accuracy: 0.84 - ETA: 3s - loss: 0.4928 - accuracy: 0.84 - ETA: 3s - loss: 0.4930 - accuracy: 0.84 - ETA: 3s - loss: 0.4931 - accuracy: 0.84 - ETA: 3s - loss: 0.4934 - accuracy: 0.84 - ETA: 3s - loss: 0.4933 - accuracy: 0.84 - ETA: 2s - loss: 0.4933 - accuracy: 0.84 - ETA: 2s - loss: 0.4934 - accuracy: 0.84 - ETA: 2s - loss: 0.4932 - accuracy: 0.84 - ETA: 2s - loss: 0.4933 - accuracy: 0.84 - ETA: 2s - loss: 0.4932 - accuracy: 0.84 - ETA: 2s - loss: 0.4935 - accuracy: 0.84 - ETA: 2s - loss: 0.4935 - accuracy: 0.84 - ETA: 2s - loss: 0.4937 - accuracy: 0.84 - ETA: 2s - loss: 0.4938 - accuracy: 0.84 - ETA: 2s - loss: 0.4942 - accuracy: 0.84 - ETA: 2s - loss: 0.4943 - accuracy: 0.84 - ETA: 2s - loss: 0.4945 - accuracy: 0.84 - ETA: 1s - loss: 0.4945 - accuracy: 0.84 - ETA: 1s - loss: 0.4945 - accuracy: 0.84 - ETA: 1s - loss: 0.4947 - accuracy: 0.84 - ETA: 1s - loss: 0.4945 - accuracy: 0.84 - ETA: 1s - loss: 0.4947 - accuracy: 0.84 - ETA: 1s - loss: 0.4946 - accuracy: 0.84 - ETA: 1s - loss: 0.4947 - accuracy: 0.84 - ETA: 1s - loss: 0.4947 - accuracy: 0.84 - ETA: 1s - loss: 0.4947 - accuracy: 0.84 - ETA: 1s - loss: 0.4948 - accuracy: 0.84 - ETA: 1s - loss: 0.4946 - accuracy: 0.84 - ETA: 1s - loss: 0.4946 - accuracy: 0.84 - ETA: 0s - loss: 0.4946 - accuracy: 0.84 - ETA: 0s - loss: 0.4945 - accuracy: 0.84 - ETA: 0s - loss: 0.4948 - accuracy: 0.84 - ETA: 0s - loss: 0.4949 - accuracy: 0.84 - ETA: 0s - loss: 0.4950 - accuracy: 0.84 - ETA: 0s - loss: 0.4949 - accuracy: 0.84 - ETA: 0s - loss: 0.4949 - accuracy: 0.84 - ETA: 0s - loss: 0.4950 - accuracy: 0.84 - ETA: 0s - loss: 0.4951 - accuracy: 0.84 - ETA: 0s - loss: 0.4949 - accuracy: 0.84 - ETA: 0s - loss: 0.4948 - accuracy: 0.84 - ETA: 0s - loss: 0.4949 - accuracy: 0.84 - 43s 331us/sample - loss: 0.4950 - accuracy: 0.8469 - val_loss: 0.8463 - val_accuracy: 0.7516\n",
      "Epoch 5/5\n",
      "128470/128470 [==============================] - ETA: 41s - loss: 0.4125 - accuracy: 0.859 - ETA: 40s - loss: 0.3602 - accuracy: 0.888 - ETA: 41s - loss: 0.3473 - accuracy: 0.890 - ETA: 41s - loss: 0.3397 - accuracy: 0.894 - ETA: 41s - loss: 0.3414 - accuracy: 0.895 - ETA: 41s - loss: 0.3458 - accuracy: 0.894 - ETA: 41s - loss: 0.3458 - accuracy: 0.895 - ETA: 41s - loss: 0.3430 - accuracy: 0.897 - ETA: 41s - loss: 0.3468 - accuracy: 0.898 - ETA: 41s - loss: 0.3495 - accuracy: 0.896 - ETA: 40s - loss: 0.3501 - accuracy: 0.896 - ETA: 40s - loss: 0.3557 - accuracy: 0.894 - ETA: 40s - loss: 0.3513 - accuracy: 0.895 - ETA: 40s - loss: 0.3489 - accuracy: 0.896 - ETA: 40s - loss: 0.3561 - accuracy: 0.894 - ETA: 40s - loss: 0.3576 - accuracy: 0.893 - ETA: 40s - loss: 0.3511 - accuracy: 0.896 - ETA: 40s - loss: 0.3515 - accuracy: 0.896 - ETA: 40s - loss: 0.3522 - accuracy: 0.896 - ETA: 40s - loss: 0.3517 - accuracy: 0.896 - ETA: 39s - loss: 0.3522 - accuracy: 0.895 - ETA: 39s - loss: 0.3543 - accuracy: 0.895 - ETA: 39s - loss: 0.3554 - accuracy: 0.895 - ETA: 39s - loss: 0.3570 - accuracy: 0.894 - ETA: 39s - loss: 0.3597 - accuracy: 0.892 - ETA: 39s - loss: 0.3610 - accuracy: 0.892 - ETA: 39s - loss: 0.3608 - accuracy: 0.891 - ETA: 39s - loss: 0.3590 - accuracy: 0.892 - ETA: 39s - loss: 0.3582 - accuracy: 0.892 - ETA: 39s - loss: 0.3587 - accuracy: 0.892 - ETA: 39s - loss: 0.3569 - accuracy: 0.893 - ETA: 39s - loss: 0.3564 - accuracy: 0.893 - ETA: 39s - loss: 0.3574 - accuracy: 0.892 - ETA: 38s - loss: 0.3594 - accuracy: 0.892 - ETA: 38s - loss: 0.3591 - accuracy: 0.892 - ETA: 38s - loss: 0.3574 - accuracy: 0.892 - ETA: 38s - loss: 0.3587 - accuracy: 0.892 - ETA: 38s - loss: 0.3611 - accuracy: 0.891 - ETA: 38s - loss: 0.3606 - accuracy: 0.891 - ETA: 38s - loss: 0.3641 - accuracy: 0.890 - ETA: 38s - loss: 0.3632 - accuracy: 0.890 - ETA: 38s - loss: 0.3637 - accuracy: 0.890 - ETA: 38s - loss: 0.3625 - accuracy: 0.891 - ETA: 38s - loss: 0.3613 - accuracy: 0.891 - ETA: 38s - loss: 0.3603 - accuracy: 0.891 - ETA: 37s - loss: 0.3636 - accuracy: 0.890 - ETA: 37s - loss: 0.3633 - accuracy: 0.890 - ETA: 37s - loss: 0.3631 - accuracy: 0.890 - ETA: 37s - loss: 0.3647 - accuracy: 0.890 - ETA: 37s - loss: 0.3646 - accuracy: 0.889 - ETA: 37s - loss: 0.3638 - accuracy: 0.889 - ETA: 37s - loss: 0.3625 - accuracy: 0.889 - ETA: 37s - loss: 0.3633 - accuracy: 0.889 - ETA: 37s - loss: 0.3638 - accuracy: 0.889 - ETA: 37s - loss: 0.3653 - accuracy: 0.889 - ETA: 36s - loss: 0.3650 - accuracy: 0.889 - ETA: 36s - loss: 0.3644 - accuracy: 0.889 - ETA: 36s - loss: 0.3631 - accuracy: 0.890 - ETA: 36s - loss: 0.3641 - accuracy: 0.890 - ETA: 36s - loss: 0.3624 - accuracy: 0.890 - ETA: 36s - loss: 0.3621 - accuracy: 0.890 - ETA: 36s - loss: 0.3620 - accuracy: 0.890 - ETA: 36s - loss: 0.3627 - accuracy: 0.890 - ETA: 36s - loss: 0.3624 - accuracy: 0.890 - ETA: 36s - loss: 0.3632 - accuracy: 0.890 - ETA: 36s - loss: 0.3631 - accuracy: 0.889 - ETA: 36s - loss: 0.3628 - accuracy: 0.889 - ETA: 35s - loss: 0.3632 - accuracy: 0.889 - ETA: 35s - loss: 0.3655 - accuracy: 0.888 - ETA: 35s - loss: 0.3665 - accuracy: 0.888 - ETA: 35s - loss: 0.3659 - accuracy: 0.889 - ETA: 35s - loss: 0.3651 - accuracy: 0.889 - ETA: 35s - loss: 0.3659 - accuracy: 0.889 - ETA: 35s - loss: 0.3672 - accuracy: 0.889 - ETA: 35s - loss: 0.3664 - accuracy: 0.889 - ETA: 35s - loss: 0.3663 - accuracy: 0.888 - ETA: 35s - loss: 0.3653 - accuracy: 0.889 - ETA: 35s - loss: 0.3658 - accuracy: 0.889 - ETA: 35s - loss: 0.3653 - accuracy: 0.889 - ETA: 34s - loss: 0.3646 - accuracy: 0.889 - ETA: 34s - loss: 0.3652 - accuracy: 0.889 - ETA: 34s - loss: 0.3657 - accuracy: 0.889 - ETA: 34s - loss: 0.3652 - accuracy: 0.889 - ETA: 34s - loss: 0.3650 - accuracy: 0.889 - ETA: 34s - loss: 0.3646 - accuracy: 0.889 - ETA: 34s - loss: 0.3653 - accuracy: 0.889 - ETA: 34s - loss: 0.3649 - accuracy: 0.889 - ETA: 34s - loss: 0.3660 - accuracy: 0.888 - ETA: 34s - loss: 0.3669 - accuracy: 0.888 - ETA: 34s - loss: 0.3663 - accuracy: 0.888 - ETA: 34s - loss: 0.3669 - accuracy: 0.888 - ETA: 34s - loss: 0.3676 - accuracy: 0.888 - ETA: 33s - loss: 0.3670 - accuracy: 0.888 - ETA: 33s - loss: 0.3682 - accuracy: 0.888 - ETA: 33s - loss: 0.3672 - accuracy: 0.888 - ETA: 33s - loss: 0.3666 - accuracy: 0.889 - ETA: 33s - loss: 0.3663 - accuracy: 0.889 - ETA: 33s - loss: 0.3657 - accuracy: 0.889 - ETA: 33s - loss: 0.3656 - accuracy: 0.889 - ETA: 33s - loss: 0.3664 - accuracy: 0.889 - ETA: 33s - loss: 0.3667 - accuracy: 0.889 - ETA: 33s - loss: 0.3662 - accuracy: 0.889 - ETA: 33s - loss: 0.3652 - accuracy: 0.889 - ETA: 33s - loss: 0.3648 - accuracy: 0.889 - ETA: 32s - loss: 0.3643 - accuracy: 0.889 - ETA: 32s - loss: 0.3639 - accuracy: 0.890 - ETA: 32s - loss: 0.3637 - accuracy: 0.890 - ETA: 32s - loss: 0.3634 - accuracy: 0.890 - ETA: 32s - loss: 0.3638 - accuracy: 0.890 - ETA: 32s - loss: 0.3640 - accuracy: 0.889 - ETA: 32s - loss: 0.3642 - accuracy: 0.889 - ETA: 32s - loss: 0.3646 - accuracy: 0.889 - ETA: 32s - loss: 0.3646 - accuracy: 0.889 - ETA: 32s - loss: 0.3647 - accuracy: 0.889 - ETA: 32s - loss: 0.3651 - accuracy: 0.889 - ETA: 32s - loss: 0.3649 - accuracy: 0.889 - ETA: 31s - loss: 0.3647 - accuracy: 0.889 - ETA: 31s - loss: 0.3649 - accuracy: 0.889 - ETA: 31s - loss: 0.3647 - accuracy: 0.889 - ETA: 31s - loss: 0.3646 - accuracy: 0.889 - ETA: 31s - loss: 0.3648 - accuracy: 0.889 - ETA: 31s - loss: 0.3645 - accuracy: 0.889 - ETA: 31s - loss: 0.3636 - accuracy: 0.889 - ETA: 31s - loss: 0.3637 - accuracy: 0.889 - ETA: 31s - loss: 0.3632 - accuracy: 0.889 - ETA: 31s - loss: 0.3636 - accuracy: 0.889 - ETA: 31s - loss: 0.3635 - accuracy: 0.889 - ETA: 31s - loss: 0.3639 - accuracy: 0.889 - ETA: 30s - loss: 0.3635 - accuracy: 0.889 - ETA: 30s - loss: 0.3636 - accuracy: 0.889 - ETA: 30s - loss: 0.3634 - accuracy: 0.889 - ETA: 30s - loss: 0.3635 - accuracy: 0.889 - ETA: 30s - loss: 0.3635 - accuracy: 0.889 - ETA: 30s - loss: 0.3630 - accuracy: 0.889 - ETA: 30s - loss: 0.3624 - accuracy: 0.889 - ETA: 30s - loss: 0.3631 - accuracy: 0.889 - ETA: 30s - loss: 0.3626 - accuracy: 0.889 - ETA: 30s - loss: 0.3621 - accuracy: 0.890 - ETA: 30s - loss: 0.3624 - accuracy: 0.889 - ETA: 30s - loss: 0.3624 - accuracy: 0.890 - ETA: 29s - loss: 0.3623 - accuracy: 0.890 - ETA: 29s - loss: 0.3623 - accuracy: 0.890 - ETA: 29s - loss: 0.3623 - accuracy: 0.890 - ETA: 29s - loss: 0.3620 - accuracy: 0.890 - ETA: 29s - loss: 0.3622 - accuracy: 0.890 - ETA: 29s - loss: 0.3626 - accuracy: 0.890 - ETA: 29s - loss: 0.3631 - accuracy: 0.889 - ETA: 29s - loss: 0.3630 - accuracy: 0.889 - ETA: 29s - loss: 0.3627 - accuracy: 0.890 - ETA: 29s - loss: 0.3627 - accuracy: 0.890 - ETA: 29s - loss: 0.3630 - accuracy: 0.890 - ETA: 29s - loss: 0.3628 - accuracy: 0.890 - ETA: 28s - loss: 0.3627 - accuracy: 0.890 - ETA: 28s - loss: 0.3626 - accuracy: 0.890 - ETA: 28s - loss: 0.3632 - accuracy: 0.889 - ETA: 28s - loss: 0.3637 - accuracy: 0.889 - ETA: 28s - loss: 0.3639 - accuracy: 0.889 - ETA: 28s - loss: 0.3638 - accuracy: 0.889 - ETA: 28s - loss: 0.3638 - accuracy: 0.889 - ETA: 28s - loss: 0.3641 - accuracy: 0.889 - ETA: 28s - loss: 0.3640 - accuracy: 0.889 - ETA: 28s - loss: 0.3642 - accuracy: 0.889 - ETA: 28s - loss: 0.3639 - accuracy: 0.889 - ETA: 28s - loss: 0.3633 - accuracy: 0.889 - ETA: 27s - loss: 0.3633 - accuracy: 0.889 - ETA: 27s - loss: 0.3637 - accuracy: 0.889 - ETA: 27s - loss: 0.3640 - accuracy: 0.889 - ETA: 27s - loss: 0.3641 - accuracy: 0.889 - ETA: 27s - loss: 0.3642 - accuracy: 0.889 - ETA: 27s - loss: 0.3641 - accuracy: 0.889 - ETA: 27s - loss: 0.3640 - accuracy: 0.889 - ETA: 27s - loss: 0.3641 - accuracy: 0.889 - ETA: 27s - loss: 0.3643 - accuracy: 0.889 - ETA: 27s - loss: 0.3643 - accuracy: 0.889 - ETA: 27s - loss: 0.3641 - accuracy: 0.889 - ETA: 27s - loss: 0.3640 - accuracy: 0.889 - ETA: 27s - loss: 0.3644 - accuracy: 0.889 - ETA: 26s - loss: 0.3645 - accuracy: 0.889 - ETA: 26s - loss: 0.3647 - accuracy: 0.888 - ETA: 26s - loss: 0.3646 - accuracy: 0.889 - ETA: 26s - loss: 0.3648 - accuracy: 0.888 - ETA: 26s - loss: 0.3646 - accuracy: 0.889 - ETA: 26s - loss: 0.3645 - accuracy: 0.889 - ETA: 26s - loss: 0.3647 - accuracy: 0.889 - ETA: 26s - loss: 0.3650 - accuracy: 0.889 - ETA: 26s - loss: 0.3654 - accuracy: 0.888 - ETA: 26s - loss: 0.3654 - accuracy: 0.888 - ETA: 26s - loss: 0.3656 - accuracy: 0.889 - ETA: 26s - loss: 0.3661 - accuracy: 0.888 - ETA: 25s - loss: 0.3664 - accuracy: 0.888 - ETA: 25s - loss: 0.3666 - accuracy: 0.888 - ETA: 25s - loss: 0.3670 - accuracy: 0.888 - ETA: 25s - loss: 0.3672 - accuracy: 0.888 - ETA: 25s - loss: 0.3673 - accuracy: 0.888 - ETA: 25s - loss: 0.3676 - accuracy: 0.888 - ETA: 25s - loss: 0.3679 - accuracy: 0.888 - ETA: 25s - loss: 0.3683 - accuracy: 0.887 - ETA: 25s - loss: 0.3681 - accuracy: 0.888 - ETA: 25s - loss: 0.3678 - accuracy: 0.888 - ETA: 25s - loss: 0.3679 - accuracy: 0.887 - ETA: 25s - loss: 0.3681 - accuracy: 0.887 - ETA: 24s - loss: 0.3686 - accuracy: 0.887 - ETA: 24s - loss: 0.3691 - accuracy: 0.887 - ETA: 24s - loss: 0.3691 - accuracy: 0.887 - ETA: 24s - loss: 0.3696 - accuracy: 0.887 - ETA: 24s - loss: 0.3696 - accuracy: 0.887 - ETA: 24s - loss: 0.3695 - accuracy: 0.887 - ETA: 24s - loss: 0.3694 - accuracy: 0.887 - ETA: 24s - loss: 0.3696 - accuracy: 0.887 - ETA: 24s - loss: 0.3698 - accuracy: 0.887 - ETA: 24s - loss: 0.3694 - accuracy: 0.887 - ETA: 24s - loss: 0.3693 - accuracy: 0.887 - ETA: 24s - loss: 0.3695 - accuracy: 0.887 - ETA: 23s - loss: 0.3695 - accuracy: 0.887 - ETA: 23s - loss: 0.3695 - accuracy: 0.887 - ETA: 23s - loss: 0.3694 - accuracy: 0.887 - ETA: 23s - loss: 0.3694 - accuracy: 0.887 - ETA: 23s - loss: 0.3694 - accuracy: 0.887 - ETA: 23s - loss: 0.3693 - accuracy: 0.887 - ETA: 23s - loss: 0.3695 - accuracy: 0.887 - ETA: 23s - loss: 0.3696 - accuracy: 0.887 - ETA: 23s - loss: 0.3693 - accuracy: 0.887 - ETA: 23s - loss: 0.3699 - accuracy: 0.887 - ETA: 23s - loss: 0.3698 - accuracy: 0.887 - ETA: 23s - loss: 0.3699 - accuracy: 0.887 - ETA: 22s - loss: 0.3701 - accuracy: 0.887 - ETA: 22s - loss: 0.3700 - accuracy: 0.887 - ETA: 22s - loss: 0.3705 - accuracy: 0.887 - ETA: 22s - loss: 0.3711 - accuracy: 0.887 - ETA: 22s - loss: 0.3715 - accuracy: 0.886 - ETA: 22s - loss: 0.3717 - accuracy: 0.886 - ETA: 22s - loss: 0.3718 - accuracy: 0.886 - ETA: 22s - loss: 0.3718 - accuracy: 0.886 - ETA: 22s - loss: 0.3720 - accuracy: 0.886 - ETA: 22s - loss: 0.3726 - accuracy: 0.886 - ETA: 22s - loss: 0.3726 - accuracy: 0.886 - ETA: 22s - loss: 0.3730 - accuracy: 0.886 - ETA: 21s - loss: 0.3731 - accuracy: 0.886 - ETA: 21s - loss: 0.3733 - accuracy: 0.886 - ETA: 21s - loss: 0.3738 - accuracy: 0.886 - ETA: 21s - loss: 0.3739 - accuracy: 0.886 - ETA: 21s - loss: 0.3737 - accuracy: 0.886 - ETA: 21s - loss: 0.3733 - accuracy: 0.886 - ETA: 21s - loss: 0.3737 - accuracy: 0.886 - ETA: 21s - loss: 0.3739 - accuracy: 0.886 - ETA: 21s - loss: 0.3738 - accuracy: 0.886 - ETA: 21s - loss: 0.3743 - accuracy: 0.885 - ETA: 21s - loss: 0.3743 - accuracy: 0.885 - ETA: 21s - loss: 0.3748 - accuracy: 0.885 - ETA: 20s - loss: 0.3752 - accuracy: 0.885 - ETA: 20s - loss: 0.3753 - accuracy: 0.885 - ETA: 20s - loss: 0.3751 - accuracy: 0.885 - ETA: 20s - loss: 0.3751 - accuracy: 0.885 - ETA: 20s - loss: 0.3753 - accuracy: 0.885 - ETA: 20s - loss: 0.3754 - accuracy: 0.885 - ETA: 20s - loss: 0.3754 - accuracy: 0.885 - ETA: 20s - loss: 0.3757 - accuracy: 0.885 - ETA: 20s - loss: 0.3757 - accuracy: 0.885 - ETA: 20s - loss: 0.3758 - accuracy: 0.885 - ETA: 20s - loss: 0.3758 - accuracy: 0.885 - ETA: 20s - loss: 0.3759 - accuracy: 0.885 - ETA: 19s - loss: 0.3761 - accuracy: 0.885 - ETA: 19s - loss: 0.3761 - accuracy: 0.885 - ETA: 19s - loss: 0.3763 - accuracy: 0.884 - ETA: 19s - loss: 0.3765 - accuracy: 0.884 - ETA: 19s - loss: 0.3764 - accuracy: 0.884 - ETA: 19s - loss: 0.3764 - accuracy: 0.884 - ETA: 19s - loss: 0.3762 - accuracy: 0.884 - ETA: 19s - loss: 0.3762 - accuracy: 0.884 - ETA: 19s - loss: 0.3760 - accuracy: 0.885 - ETA: 19s - loss: 0.3759 - accuracy: 0.885 - ETA: 19s - loss: 0.3759 - accuracy: 0.885 - ETA: 19s - loss: 0.3756 - accuracy: 0.885 - ETA: 18s - loss: 0.3758 - accuracy: 0.885 - ETA: 18s - loss: 0.3761 - accuracy: 0.884 - ETA: 18s - loss: 0.3761 - accuracy: 0.884 - ETA: 18s - loss: 0.3762 - accuracy: 0.884 - ETA: 18s - loss: 0.3762 - accuracy: 0.884 - ETA: 18s - loss: 0.3762 - accuracy: 0.884 - ETA: 18s - loss: 0.3763 - accuracy: 0.884 - ETA: 18s - loss: 0.3765 - accuracy: 0.884 - ETA: 18s - loss: 0.3764 - accuracy: 0.884 - ETA: 18s - loss: 0.3761 - accuracy: 0.884 - ETA: 18s - loss: 0.3762 - accuracy: 0.884 - ETA: 18s - loss: 0.3762 - accuracy: 0.884 - ETA: 17s - loss: 0.3760 - accuracy: 0.884 - ETA: 17s - loss: 0.3759 - accuracy: 0.884 - ETA: 17s - loss: 0.3761 - accuracy: 0.884 - ETA: 17s - loss: 0.3768 - accuracy: 0.884 - ETA: 17s - loss: 0.3768 - accuracy: 0.884 - ETA: 17s - loss: 0.3768 - accuracy: 0.884 - ETA: 17s - loss: 0.3768 - accuracy: 0.884 - ETA: 17s - loss: 0.3767 - accuracy: 0.884 - ETA: 17s - loss: 0.3769 - accuracy: 0.884 - ETA: 17s - loss: 0.3771 - accuracy: 0.884 - ETA: 17s - loss: 0.3769 - accuracy: 0.884 - ETA: 17s - loss: 0.3767 - accuracy: 0.884 - ETA: 16s - loss: 0.3766 - accuracy: 0.884 - ETA: 16s - loss: 0.3767 - accuracy: 0.884 - ETA: 16s - loss: 0.3768 - accuracy: 0.884 - ETA: 16s - loss: 0.3765 - accuracy: 0.884 - ETA: 16s - loss: 0.3766 - accuracy: 0.884 - ETA: 16s - loss: 0.3768 - accuracy: 0.884 - ETA: 16s - loss: 0.3770 - accuracy: 0.884 - ETA: 16s - loss: 0.3771 - accuracy: 0.884 - ETA: 16s - loss: 0.3775 - accuracy: 0.884 - ETA: 16s - loss: 0.3778 - accuracy: 0.884 - ETA: 16s - loss: 0.3776 - accuracy: 0.884 - ETA: 16s - loss: 0.3777 - accuracy: 0.884 - ETA: 15s - loss: 0.3780 - accuracy: 0.884 - ETA: 15s - loss: 0.3782 - accuracy: 0.883 - ETA: 15s - loss: 0.3782 - accuracy: 0.884 - ETA: 15s - loss: 0.3783 - accuracy: 0.884 - ETA: 15s - loss: 0.3783 - accuracy: 0.884 - ETA: 15s - loss: 0.3783 - accuracy: 0.883 - ETA: 15s - loss: 0.3783 - accuracy: 0.884 - ETA: 15s - loss: 0.3782 - accuracy: 0.884 - ETA: 15s - loss: 0.3782 - accuracy: 0.883 - ETA: 15s - loss: 0.3783 - accuracy: 0.883 - ETA: 15s - loss: 0.3784 - accuracy: 0.883 - ETA: 15s - loss: 0.3787 - accuracy: 0.883 - ETA: 14s - loss: 0.3786 - accuracy: 0.883 - ETA: 14s - loss: 0.3785 - accuracy: 0.883 - ETA: 14s - loss: 0.3784 - accuracy: 0.883 - ETA: 14s - loss: 0.3784 - accuracy: 0.883 - ETA: 14s - loss: 0.3789 - accuracy: 0.883 - ETA: 14s - loss: 0.3788 - accuracy: 0.883 - ETA: 14s - loss: 0.3790 - accuracy: 0.883 - ETA: 14s - loss: 0.3791 - accuracy: 0.883 - ETA: 14s - loss: 0.3793 - accuracy: 0.883 - ETA: 14s - loss: 0.3792 - accuracy: 0.883 - ETA: 14s - loss: 0.3791 - accuracy: 0.883 - ETA: 14s - loss: 0.3789 - accuracy: 0.883 - ETA: 13s - loss: 0.3787 - accuracy: 0.883 - ETA: 13s - loss: 0.3787 - accuracy: 0.883 - ETA: 13s - loss: 0.3791 - accuracy: 0.883 - ETA: 13s - loss: 0.3792 - accuracy: 0.883 - ETA: 13s - loss: 0.3791 - accuracy: 0.883 - ETA: 13s - loss: 0.3789 - accuracy: 0.883 - ETA: 13s - loss: 0.3789 - accuracy: 0.883 - ETA: 13s - loss: 0.3788 - accuracy: 0.883 - ETA: 13s - loss: 0.3789 - accuracy: 0.883 - ETA: 13s - loss: 0.3791 - accuracy: 0.883 - ETA: 13s - loss: 0.3796 - accuracy: 0.883 - ETA: 13s - loss: 0.3795 - accuracy: 0.883 - ETA: 12s - loss: 0.3794 - accuracy: 0.883 - ETA: 12s - loss: 0.3794 - accuracy: 0.883 - ETA: 12s - loss: 0.3795 - accuracy: 0.883 - ETA: 12s - loss: 0.3798 - accuracy: 0.883 - ETA: 12s - loss: 0.3798 - accuracy: 0.883 - ETA: 12s - loss: 0.3801 - accuracy: 0.883 - ETA: 12s - loss: 0.3801 - accuracy: 0.883 - ETA: 12s - loss: 0.3803 - accuracy: 0.883 - ETA: 12s - loss: 0.3805 - accuracy: 0.883 - ETA: 12s - loss: 0.3806 - accuracy: 0.882 - ETA: 12s - loss: 0.3806 - accuracy: 0.882 - ETA: 12s - loss: 0.3805 - accuracy: 0.882 - ETA: 12s - loss: 0.3806 - accuracy: 0.882 - ETA: 11s - loss: 0.3802 - accuracy: 0.883 - ETA: 11s - loss: 0.3801 - accuracy: 0.883 - ETA: 11s - loss: 0.3801 - accuracy: 0.883 - ETA: 11s - loss: 0.3802 - accuracy: 0.882 - ETA: 11s - loss: 0.3802 - accuracy: 0.882 - ETA: 11s - loss: 0.3804 - accuracy: 0.882 - ETA: 11s - loss: 0.3805 - accuracy: 0.883 - ETA: 11s - loss: 0.3804 - accuracy: 0.883 - ETA: 11s - loss: 0.3804 - accuracy: 0.883 - ETA: 11s - loss: 0.3803 - accuracy: 0.883 - ETA: 11s - loss: 0.3805 - accuracy: 0.882 - ETA: 11s - loss: 0.3806 - accuracy: 0.882 - ETA: 10s - loss: 0.3809 - accuracy: 0.882 - ETA: 10s - loss: 0.3808 - accuracy: 0.882 - ETA: 10s - loss: 0.3809 - accuracy: 0.882 - ETA: 10s - loss: 0.3813 - accuracy: 0.882 - ETA: 10s - loss: 0.3813 - accuracy: 0.882 - ETA: 10s - loss: 0.3815 - accuracy: 0.882 - ETA: 10s - loss: 0.3816 - accuracy: 0.882 - ETA: 10s - loss: 0.3818 - accuracy: 0.882 - ETA: 10s - loss: 0.3819 - accuracy: 0.882 - ETA: 10s - loss: 0.3821 - accuracy: 0.882 - ETA: 10s - loss: 0.3820 - accuracy: 0.882 - ETA: 10s - loss: 0.3820 - accuracy: 0.882 - ETA: 9s - loss: 0.3819 - accuracy: 0.882 - ETA: 9s - loss: 0.3819 - accuracy: 0.88 - ETA: 9s - loss: 0.3820 - accuracy: 0.88 - ETA: 9s - loss: 0.3823 - accuracy: 0.88 - ETA: 9s - loss: 0.3821 - accuracy: 0.88 - ETA: 9s - loss: 0.3822 - accuracy: 0.88 - ETA: 9s - loss: 0.3824 - accuracy: 0.88 - ETA: 9s - loss: 0.3826 - accuracy: 0.88 - ETA: 9s - loss: 0.3827 - accuracy: 0.88 - ETA: 9s - loss: 0.3826 - accuracy: 0.88 - ETA: 9s - loss: 0.3826 - accuracy: 0.88 - ETA: 9s - loss: 0.3826 - accuracy: 0.88 - ETA: 8s - loss: 0.3826 - accuracy: 0.88 - ETA: 8s - loss: 0.3826 - accuracy: 0.88 - ETA: 8s - loss: 0.3828 - accuracy: 0.88 - ETA: 8s - loss: 0.3829 - accuracy: 0.88 - ETA: 8s - loss: 0.3830 - accuracy: 0.88 - ETA: 8s - loss: 0.3831 - accuracy: 0.88 - ETA: 8s - loss: 0.3832 - accuracy: 0.88 - ETA: 8s - loss: 0.3834 - accuracy: 0.88 - ETA: 8s - loss: 0.3837 - accuracy: 0.88 - ETA: 8s - loss: 0.3836 - accuracy: 0.88 - ETA: 8s - loss: 0.3836 - accuracy: 0.88 - ETA: 8s - loss: 0.3836 - accuracy: 0.88 - ETA: 7s - loss: 0.3835 - accuracy: 0.88 - ETA: 7s - loss: 0.3837 - accuracy: 0.88 - ETA: 7s - loss: 0.3836 - accuracy: 0.88 - ETA: 7s - loss: 0.3836 - accuracy: 0.88 - ETA: 7s - loss: 0.3838 - accuracy: 0.88 - ETA: 7s - loss: 0.3840 - accuracy: 0.88 - ETA: 7s - loss: 0.3839 - accuracy: 0.88 - ETA: 7s - loss: 0.3840 - accuracy: 0.88 - ETA: 7s - loss: 0.3842 - accuracy: 0.88 - ETA: 7s - loss: 0.3842 - accuracy: 0.88 - ETA: 7s - loss: 0.3844 - accuracy: 0.88 - ETA: 7s - loss: 0.3844 - accuracy: 0.88 - ETA: 6s - loss: 0.3845 - accuracy: 0.88 - ETA: 6s - loss: 0.3847 - accuracy: 0.88 - ETA: 6s - loss: 0.3848 - accuracy: 0.88 - ETA: 6s - loss: 0.3848 - accuracy: 0.88 - ETA: 6s - loss: 0.3849 - accuracy: 0.88 - ETA: 6s - loss: 0.3850 - accuracy: 0.88 - ETA: 6s - loss: 0.3851 - accuracy: 0.88 - ETA: 6s - loss: 0.3851 - accuracy: 0.88 - ETA: 6s - loss: 0.3852 - accuracy: 0.88 - ETA: 6s - loss: 0.3852 - accuracy: 0.88 - ETA: 6s - loss: 0.3854 - accuracy: 0.88 - ETA: 6s - loss: 0.3856 - accuracy: 0.88 - ETA: 5s - loss: 0.3856 - accuracy: 0.88 - ETA: 5s - loss: 0.3855 - accuracy: 0.88 - ETA: 5s - loss: 0.3859 - accuracy: 0.88 - ETA: 5s - loss: 0.3860 - accuracy: 0.88 - ETA: 5s - loss: 0.3859 - accuracy: 0.88 - ETA: 5s - loss: 0.3858 - accuracy: 0.88 - ETA: 5s - loss: 0.3862 - accuracy: 0.88 - ETA: 5s - loss: 0.3863 - accuracy: 0.88 - ETA: 5s - loss: 0.3864 - accuracy: 0.88 - ETA: 5s - loss: 0.3864 - accuracy: 0.88 - ETA: 5s - loss: 0.3866 - accuracy: 0.88 - ETA: 5s - loss: 0.3867 - accuracy: 0.88 - ETA: 4s - loss: 0.3870 - accuracy: 0.88 - ETA: 4s - loss: 0.3871 - accuracy: 0.88 - ETA: 4s - loss: 0.3871 - accuracy: 0.88 - ETA: 4s - loss: 0.3874 - accuracy: 0.88 - ETA: 4s - loss: 0.3876 - accuracy: 0.88 - ETA: 4s - loss: 0.3877 - accuracy: 0.88 - ETA: 4s - loss: 0.3877 - accuracy: 0.88 - ETA: 4s - loss: 0.3878 - accuracy: 0.88 - ETA: 4s - loss: 0.3879 - accuracy: 0.88 - ETA: 4s - loss: 0.3878 - accuracy: 0.88 - ETA: 4s - loss: 0.3878 - accuracy: 0.88 - ETA: 4s - loss: 0.3878 - accuracy: 0.88 - ETA: 3s - loss: 0.3878 - accuracy: 0.88 - ETA: 3s - loss: 0.3879 - accuracy: 0.88 - ETA: 3s - loss: 0.3881 - accuracy: 0.88 - ETA: 3s - loss: 0.3881 - accuracy: 0.87 - ETA: 3s - loss: 0.3882 - accuracy: 0.87 - ETA: 3s - loss: 0.3882 - accuracy: 0.87 - ETA: 3s - loss: 0.3881 - accuracy: 0.87 - ETA: 3s - loss: 0.3883 - accuracy: 0.87 - ETA: 3s - loss: 0.3884 - accuracy: 0.87 - ETA: 3s - loss: 0.3884 - accuracy: 0.87 - ETA: 3s - loss: 0.3885 - accuracy: 0.87 - ETA: 3s - loss: 0.3885 - accuracy: 0.87 - ETA: 2s - loss: 0.3885 - accuracy: 0.87 - ETA: 2s - loss: 0.3886 - accuracy: 0.87 - ETA: 2s - loss: 0.3887 - accuracy: 0.87 - ETA: 2s - loss: 0.3888 - accuracy: 0.87 - ETA: 2s - loss: 0.3889 - accuracy: 0.87 - ETA: 2s - loss: 0.3890 - accuracy: 0.87 - ETA: 2s - loss: 0.3890 - accuracy: 0.87 - ETA: 2s - loss: 0.3889 - accuracy: 0.87 - ETA: 2s - loss: 0.3890 - accuracy: 0.87 - ETA: 2s - loss: 0.3891 - accuracy: 0.87 - ETA: 2s - loss: 0.3893 - accuracy: 0.87 - ETA: 2s - loss: 0.3893 - accuracy: 0.87 - ETA: 1s - loss: 0.3894 - accuracy: 0.87 - ETA: 1s - loss: 0.3894 - accuracy: 0.87 - ETA: 1s - loss: 0.3895 - accuracy: 0.87 - ETA: 1s - loss: 0.3896 - accuracy: 0.87 - ETA: 1s - loss: 0.3899 - accuracy: 0.87 - ETA: 1s - loss: 0.3900 - accuracy: 0.87 - ETA: 1s - loss: 0.3900 - accuracy: 0.87 - ETA: 1s - loss: 0.3902 - accuracy: 0.87 - ETA: 1s - loss: 0.3903 - accuracy: 0.87 - ETA: 1s - loss: 0.3903 - accuracy: 0.87 - ETA: 1s - loss: 0.3905 - accuracy: 0.87 - ETA: 1s - loss: 0.3905 - accuracy: 0.87 - ETA: 0s - loss: 0.3907 - accuracy: 0.87 - ETA: 0s - loss: 0.3907 - accuracy: 0.87 - ETA: 0s - loss: 0.3908 - accuracy: 0.87 - ETA: 0s - loss: 0.3909 - accuracy: 0.87 - ETA: 0s - loss: 0.3910 - accuracy: 0.87 - ETA: 0s - loss: 0.3913 - accuracy: 0.87 - ETA: 0s - loss: 0.3914 - accuracy: 0.87 - ETA: 0s - loss: 0.3915 - accuracy: 0.87 - ETA: 0s - loss: 0.3916 - accuracy: 0.87 - ETA: 0s - loss: 0.3915 - accuracy: 0.87 - ETA: 0s - loss: 0.3915 - accuracy: 0.87 - ETA: 0s - loss: 0.3915 - accuracy: 0.87 - 42s 330us/sample - loss: 0.3913 - accuracy: 0.8789 - val_loss: 0.9134 - val_accuracy: 0.7443\n"
     ]
    },
    {
     "data": {
      "text/plain": [
       "<tensorflow.python.keras.callbacks.History at 0x26f95ee0748>"
      ]
     },
     "execution_count": 70,
     "metadata": {},
     "output_type": "execute_result"
    }
   ],
   "source": [
    "model.fit(x_train, y_train, epochs=5, batch_size=128, validation_data=(x_test, y_test))"
   ]
  },
  {
   "cell_type": "code",
   "execution_count": 71,
   "metadata": {},
   "outputs": [
    {
     "name": "stdout",
     "output_type": "stream",
     "text": [
      "                precision    recall  f1-score   support\n",
      "\n",
      "  BLACK VOICES       0.61      0.51      0.56       447\n",
      "      BUSINESS       0.66      0.57      0.61       631\n",
      "        COMEDY       0.58      0.45      0.50       492\n",
      " ENTERTAINMENT       0.73      0.79      0.76      1543\n",
      "  FOOD & DRINK       0.78      0.78      0.78       595\n",
      "HEALTHY LIVING       0.55      0.39      0.46       706\n",
      " HOME & LIVING       0.75      0.75      0.75       412\n",
      "     PARENTING       0.63      0.68      0.65       872\n",
      "       PARENTS       0.53      0.33      0.41       368\n",
      "      POLITICS       0.84      0.90      0.87      3254\n",
      "  QUEER VOICES       0.81      0.70      0.75       661\n",
      "        SPORTS       0.77      0.72      0.75       489\n",
      "STYLE & BEAUTY       0.86      0.83      0.85       984\n",
      "        TRAVEL       0.82      0.79      0.81      1034\n",
      "      WELLNESS       0.67      0.81      0.73      1787\n",
      "\n",
      "      accuracy                           0.74     14275\n",
      "     macro avg       0.71      0.67      0.68     14275\n",
      "  weighted avg       0.74      0.74      0.74     14275\n",
      "\n"
     ]
    }
   ],
   "source": [
    "import numpy as np\n",
    "from sklearn.metrics import classification_report\n",
    "\n",
    "y_test_pred = [lb.classes_[i] for i in np.argmax(model.predict(x_test), axis=1)]\n",
    "print(classification_report(df_test.category, y_test_pred))"
   ]
  },
  {
   "cell_type": "code",
   "execution_count": 72,
   "metadata": {},
   "outputs": [
    {
     "data": {
      "text/plain": [
       "array([[ 9632, 35389,  2300,   765,   272,   761,   187,     2,  2398,\n",
       "         1274,   802,   254,   212,  1959,   118,   187,   680,    73,\n",
       "          581, 35388, 35388, 35388, 35388, 35388, 35388]])"
      ]
     },
     "execution_count": 72,
     "metadata": {},
     "output_type": "execute_result"
    }
   ],
   "source": [
    "x_train[23:24]"
   ]
  },
  {
   "cell_type": "code",
   "execution_count": 73,
   "metadata": {},
   "outputs": [
    {
     "data": {
      "text/plain": [
       "array([[0, 0, 0, 0, 0, 0, 0, 0, 0, 0, 1, 0, 0, 0, 0]])"
      ]
     },
     "execution_count": 73,
     "metadata": {},
     "output_type": "execute_result"
    }
   ],
   "source": [
    "y_train[23:24]"
   ]
  },
  {
   "cell_type": "code",
   "execution_count": 74,
   "metadata": {},
   "outputs": [
    {
     "data": {
      "text/plain": [
       "array([[9.0026508e-05, 2.1147866e-04, 2.5734806e-04, 1.0179051e-03,\n",
       "        1.3625133e-06, 1.5920102e-04, 3.6197369e-05, 4.1559165e-06,\n",
       "        2.3381783e-04, 3.7660680e-03, 9.9408984e-01, 6.1620689e-05,\n",
       "        6.9843595e-06, 6.1823288e-05, 2.2011577e-06]], dtype=float32)"
      ]
     },
     "execution_count": 74,
     "metadata": {},
     "output_type": "execute_result"
    }
   ],
   "source": [
    "result = model.predict(x_train[23:24])\n",
    "result"
   ]
  },
  {
   "cell_type": "code",
   "execution_count": 76,
   "metadata": {},
   "outputs": [
    {
     "data": {
      "text/html": [
       "<div>\n",
       "<style scoped>\n",
       "    .dataframe tbody tr th:only-of-type {\n",
       "        vertical-align: middle;\n",
       "    }\n",
       "\n",
       "    .dataframe tbody tr th {\n",
       "        vertical-align: top;\n",
       "    }\n",
       "\n",
       "    .dataframe thead th {\n",
       "        text-align: right;\n",
       "    }\n",
       "</style>\n",
       "<table border=\"1\" class=\"dataframe\">\n",
       "  <thead>\n",
       "    <tr style=\"text-align: right;\">\n",
       "      <th></th>\n",
       "      <th>category</th>\n",
       "      <th>information</th>\n",
       "    </tr>\n",
       "  </thead>\n",
       "  <tbody>\n",
       "    <tr>\n",
       "      <td>26777</td>\n",
       "      <td>QUEER VOICES</td>\n",
       "      <td>Barry Manilow: Coming Out As Gay Was A 'Beauti...</td>\n",
       "    </tr>\n",
       "  </tbody>\n",
       "</table>\n",
       "</div>"
      ],
      "text/plain": [
       "           category                                        information\n",
       "26777  QUEER VOICES  Barry Manilow: Coming Out As Gay Was A 'Beauti..."
      ]
     },
     "execution_count": 76,
     "metadata": {},
     "output_type": "execute_result"
    }
   ],
   "source": [
    "df_train[23:24]"
   ]
  },
  {
   "cell_type": "code",
   "execution_count": 78,
   "metadata": {},
   "outputs": [],
   "source": [
    "model.save('models/news/news_model.h5')"
   ]
  },
  {
   "cell_type": "code",
   "execution_count": null,
   "metadata": {},
   "outputs": [],
   "source": []
  }
 ],
 "metadata": {
  "kernelspec": {
   "display_name": "Python 3",
   "language": "python",
   "name": "python3"
  },
  "language_info": {
   "codemirror_mode": {
    "name": "ipython",
    "version": 3
   },
   "file_extension": ".py",
   "mimetype": "text/x-python",
   "name": "python",
   "nbconvert_exporter": "python",
   "pygments_lexer": "ipython3",
   "version": "3.7.4"
  }
 },
 "nbformat": 4,
 "nbformat_minor": 4
}
